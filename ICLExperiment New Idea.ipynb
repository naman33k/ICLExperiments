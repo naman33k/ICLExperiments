{
 "cells": [
  {
   "cell_type": "code",
   "execution_count": 0,
   "metadata": {
    "application/vnd.databricks.v1+cell": {
     "cellMetadata": {
      "byteLimit": 2048000,
      "rowLimit": 10000
     },
     "inputWidgets": {},
     "nuid": "a3c5c78e-ba90-430e-a86c-52f298c96df7",
     "showTitle": false,
     "tableResultSettingsMap": {},
     "title": ""
    }
   },
   "outputs": [],
   "source": [
    "%restart_python"
   ]
  },
  {
   "cell_type": "code",
   "execution_count": 0,
   "metadata": {
    "application/vnd.databricks.v1+cell": {
     "cellMetadata": {
      "byteLimit": 2048000,
      "rowLimit": 10000
     },
     "collapsed": true,
     "inputWidgets": {},
     "nuid": "b40dabbd-1414-4c9c-b056-2e050f8c105c",
     "showTitle": false,
     "tableResultSettingsMap": {},
     "title": ""
    }
   },
   "outputs": [
    {
     "output_type": "stream",
     "name": "stdout",
     "output_type": "stream",
     "text": [
      "Obtaining file:///Workspace/Users/naman.agarwal%40dreamsports.group/minGPT\n  Preparing metadata (setup.py): started\n  Preparing metadata (setup.py): finished with status 'done'\nRequirement already satisfied: torch in /databricks/python3/lib/python3.11/site-packages (from minGPT==0.0.1) (2.3.1+cu121)\nRequirement already satisfied: filelock in /databricks/python3/lib/python3.11/site-packages (from torch->minGPT==0.0.1) (3.13.4)\nRequirement already satisfied: typing-extensions>=4.8.0 in /databricks/python3/lib/python3.11/site-packages (from torch->minGPT==0.0.1) (4.10.0)\nRequirement already satisfied: sympy in /databricks/python3/lib/python3.11/site-packages (from torch->minGPT==0.0.1) (1.11.1)\nRequirement already satisfied: networkx in /databricks/python3/lib/python3.11/site-packages (from torch->minGPT==0.0.1) (3.1)\nRequirement already satisfied: jinja2 in /databricks/python3/lib/python3.11/site-packages (from torch->minGPT==0.0.1) (3.1.2)\nRequirement already satisfied: fsspec in /databricks/python3/lib/python3.11/site-packages (from torch->minGPT==0.0.1) (2023.5.0)\nRequirement already satisfied: nvidia-cuda-nvrtc-cu12==12.1.105 in /databricks/python3/lib/python3.11/site-packages (from torch->minGPT==0.0.1) (12.1.105)\nRequirement already satisfied: nvidia-cuda-runtime-cu12==12.1.105 in /databricks/python3/lib/python3.11/site-packages (from torch->minGPT==0.0.1) (12.1.105)\nRequirement already satisfied: nvidia-cuda-cupti-cu12==12.1.105 in /databricks/python3/lib/python3.11/site-packages (from torch->minGPT==0.0.1) (12.1.105)\nRequirement already satisfied: nvidia-cudnn-cu12==8.9.2.26 in /databricks/python3/lib/python3.11/site-packages (from torch->minGPT==0.0.1) (8.9.2.26)\nRequirement already satisfied: nvidia-cublas-cu12==12.1.3.1 in /databricks/python3/lib/python3.11/site-packages (from torch->minGPT==0.0.1) (12.1.3.1)\nRequirement already satisfied: nvidia-cufft-cu12==11.0.2.54 in /databricks/python3/lib/python3.11/site-packages (from torch->minGPT==0.0.1) (11.0.2.54)\nRequirement already satisfied: nvidia-curand-cu12==10.3.2.106 in /databricks/python3/lib/python3.11/site-packages (from torch->minGPT==0.0.1) (10.3.2.106)\nRequirement already satisfied: nvidia-cusolver-cu12==11.4.5.107 in /databricks/python3/lib/python3.11/site-packages (from torch->minGPT==0.0.1) (11.4.5.107)\nRequirement already satisfied: nvidia-cusparse-cu12==12.1.0.106 in /databricks/python3/lib/python3.11/site-packages (from torch->minGPT==0.0.1) (12.1.0.106)\nRequirement already satisfied: nvidia-nccl-cu12==2.20.5 in /databricks/python3/lib/python3.11/site-packages (from torch->minGPT==0.0.1) (2.20.5)\nRequirement already satisfied: nvidia-nvtx-cu12==12.1.105 in /databricks/python3/lib/python3.11/site-packages (from torch->minGPT==0.0.1) (12.1.105)\nRequirement already satisfied: triton==2.3.1 in /databricks/python3/lib/python3.11/site-packages (from torch->minGPT==0.0.1) (2.3.1)\nRequirement already satisfied: nvidia-nvjitlink-cu12 in /databricks/python3/lib/python3.11/site-packages (from nvidia-cusolver-cu12==11.4.5.107->torch->minGPT==0.0.1) (12.5.82)\nRequirement already satisfied: MarkupSafe>=2.0 in /databricks/python3/lib/python3.11/site-packages (from jinja2->torch->minGPT==0.0.1) (2.1.1)\nRequirement already satisfied: mpmath>=0.19 in /databricks/python3/lib/python3.11/site-packages (from sympy->torch->minGPT==0.0.1) (1.3.0)\nInstalling collected packages: minGPT\n  Running setup.py develop for minGPT\nSuccessfully installed minGPT\n\u001B[43mNote: you may need to restart the kernel using %restart_python or dbutils.library.restartPython() to use updated packages.\u001B[0m\n"
     ]
    }
   ],
   "source": [
    "%pip install -e minGPT/"
   ]
  },
  {
   "cell_type": "code",
   "execution_count": 0,
   "metadata": {
    "application/vnd.databricks.v1+cell": {
     "cellMetadata": {
      "byteLimit": 2048000,
      "rowLimit": 10000
     },
     "inputWidgets": {},
     "nuid": "74822be7-2240-4c04-9d22-b07af5fca015",
     "showTitle": false,
     "tableResultSettingsMap": {},
     "title": ""
    }
   },
   "outputs": [
    {
     "output_type": "stream",
     "name": "stdout",
     "output_type": "stream",
     "text": [
      "1\n"
     ]
    }
   ],
   "source": [
    "import torch\n",
    "from torch.utils.data.dataloader import DataLoader\n",
    "import minGPT\n",
    "from minGPT.mingpt.utils import set_seed\n",
    "\n",
    "set_seed(3407)\n",
    "print(torch.cuda.device_count())\n",
    "from torch.nn import functional as F\n",
    "\n",
    "import InContextLearningExperiments.icldatasets_new_idea as datasets"
   ]
  },
  {
   "cell_type": "code",
   "execution_count": 0,
   "metadata": {
    "application/vnd.databricks.v1+cell": {
     "cellMetadata": {
      "byteLimit": 2048000,
      "rowLimit": 10000
     },
     "inputWidgets": {},
     "nuid": "4c596781-cda8-427e-b0dd-bd60d7c12cbd",
     "showTitle": false,
     "tableResultSettingsMap": {},
     "title": ""
    }
   },
   "outputs": [
    {
     "output_type": "execute_result",
     "data": {
      "text/plain": [
       "<module 'minGPT' (<_frozen_importlib_external.NamespaceLoader object at 0x7feb6ecc85d0>)>"
      ]
     },
     "execution_count": 15,
     "metadata": {},
     "output_type": "execute_result"
    }
   ],
   "source": [
    "import importlib\n",
    "importlib.reload(datasets)\n",
    "importlib.reload(minGPT)"
   ]
  },
  {
   "cell_type": "code",
   "execution_count": 0,
   "metadata": {
    "application/vnd.databricks.v1+cell": {
     "cellMetadata": {
      "byteLimit": 2048000,
      "rowLimit": 10000
     },
     "inputWidgets": {},
     "nuid": "86fb5133-2e5b-410f-be49-e8af2a505da1",
     "showTitle": false,
     "tableResultSettingsMap": {},
     "title": ""
    }
   },
   "outputs": [],
   "source": [
    "import seaborn as sns\n",
    "\n",
    "import matplotlib.pyplot as plt"
   ]
  },
  {
   "cell_type": "code",
   "execution_count": 0,
   "metadata": {
    "application/vnd.databricks.v1+cell": {
     "cellMetadata": {
      "byteLimit": 2048000,
      "rowLimit": 10000
     },
     "inputWidgets": {},
     "nuid": "ec3c397d-ea9c-4874-b722-a271db52bcb0",
     "showTitle": false,
     "tableResultSettingsMap": {},
     "title": ""
    }
   },
   "outputs": [],
   "source": [
    "# Set context length (2*length+1) and vocab_size\n",
    "length = 15\n",
    "vocab_size = 10\n",
    "train_dataset_changing_dict = datasets.KVRetrievalDatasetChangingDictNewIdeaV2('train', vocab_size=vocab_size, length=length, perm_or_random='random')\n"
   ]
  },
  {
   "cell_type": "code",
   "execution_count": 0,
   "metadata": {
    "application/vnd.databricks.v1+cell": {
     "cellMetadata": {
      "byteLimit": 2048000,
      "rowLimit": 10000
     },
     "inputWidgets": {},
     "nuid": "69d439ab-3635-47a7-9603-9c34731b8765",
     "showTitle": false,
     "tableResultSettingsMap": {},
     "title": ""
    }
   },
   "outputs": [
    {
     "output_type": "execute_result",
     "data": {
      "text/plain": [
       "15"
      ]
     },
     "execution_count": 48,
     "metadata": {},
     "output_type": "execute_result"
    }
   ],
   "source": [
    "train_dataset_changing_dict.length"
   ]
  },
  {
   "cell_type": "code",
   "execution_count": 0,
   "metadata": {
    "application/vnd.databricks.v1+cell": {
     "cellMetadata": {
      "byteLimit": 2048000,
      "rowLimit": 10000
     },
     "inputWidgets": {},
     "nuid": "496eeb8e-fafb-4f7d-bce7-0bf523cdef79",
     "showTitle": false,
     "tableResultSettingsMap": {},
     "title": ""
    }
   },
   "outputs": [
    {
     "output_type": "execute_result",
     "data": {
      "text/plain": [
       "[tensor([[ 5, 18,  7, 12,  7, 12,  5, 18,  4, 10,  8, 16,  1, 17,  0, 14,  2, 19,\n",
       "           7, 12,  3, 13,  8, 16,  7, 12,  8, 16,  3]]),\n",
       " tensor([[18,  7, 12,  7, 12,  5, 18,  4, 10,  8, 16,  1, 17,  0, 14,  2, 19,  7,\n",
       "          12,  3, 13,  8, 16,  7, 12,  8, 16,  3, 13]])]"
      ]
     },
     "execution_count": 49,
     "metadata": {},
     "output_type": "execute_result"
    }
   ],
   "source": [
    "loader = DataLoader(train_dataset_changing_dict, batch_size=1, num_workers=0, drop_last=False)\n",
    "next(iter(loader))"
   ]
  },
  {
   "cell_type": "code",
   "execution_count": 0,
   "metadata": {
    "application/vnd.databricks.v1+cell": {
     "cellMetadata": {
      "byteLimit": 2048000,
      "rowLimit": 10000
     },
     "inputWidgets": {},
     "nuid": "a2227fc0-13bd-45ac-ae9e-40079e782fd3",
     "showTitle": false,
     "tableResultSettingsMap": {},
     "title": ""
    }
   },
   "outputs": [],
   "source": [
    "a,b = next(iter(loader))"
   ]
  },
  {
   "cell_type": "code",
   "execution_count": 0,
   "metadata": {
    "application/vnd.databricks.v1+cell": {
     "cellMetadata": {
      "byteLimit": 2048000,
      "rowLimit": 10000
     },
     "inputWidgets": {},
     "nuid": "9bdcf1dc-ad3f-4e77-87a3-3edc6a8a24b6",
     "showTitle": false,
     "tableResultSettingsMap": {},
     "title": ""
    }
   },
   "outputs": [
    {
     "output_type": "execute_result",
     "data": {
      "text/plain": [
       "torch.Size([1, 19])"
      ]
     },
     "execution_count": 21,
     "metadata": {},
     "output_type": "execute_result"
    }
   ],
   "source": [
    "a.size()"
   ]
  },
  {
   "cell_type": "code",
   "execution_count": 0,
   "metadata": {
    "application/vnd.databricks.v1+cell": {
     "cellMetadata": {
      "byteLimit": 2048000,
      "rowLimit": 10000
     },
     "inputWidgets": {},
     "nuid": "202e9810-0f34-45ff-ace6-8d5dccfede5e",
     "showTitle": false,
     "tableResultSettingsMap": {},
     "title": ""
    }
   },
   "outputs": [],
   "source": [
    "# create a GPT instance\n",
    "from minGPT.mingpt.model import GPT\n",
    "# create a Trainer object\n",
    "from minGPT.mingpt.trainer import Trainer\n",
    "\n",
    "model_config = GPT.get_default_config()\n",
    "model_config.model_type = 'gpt-mini'\n",
    "model_config.vocab_size = 2*vocab_size\n",
    "model_config.block_size = 2*length - 1\n",
    "\n",
    "train_config = Trainer.get_default_config()\n",
    "train_config.learning_rate = 5e-5 # the model we're using is so small that we can go a bit faster\n",
    "train_config.max_iters = 20000\n",
    "train_config.num_workers = 0\n",
    "\n",
    "def batch_end_callback(trainer):\n",
    "    if trainer.iter_num % 100 == 0:\n",
    "        print(f\"iter_dt {trainer.iter_dt * 1000:.2f}ms; iter {trainer.iter_num}: train loss {trainer.loss.item():.5f}\")"
   ]
  },
  {
   "cell_type": "code",
   "execution_count": 0,
   "metadata": {
    "application/vnd.databricks.v1+cell": {
     "cellMetadata": {
      "byteLimit": 2048000,
      "rowLimit": 10000
     },
     "inputWidgets": {},
     "nuid": "106e8d54-80a0-4af5-8f4a-dfebd8afb592",
     "showTitle": false,
     "tableResultSettingsMap": {},
     "title": ""
    }
   },
   "outputs": [
    {
     "output_type": "stream",
     "name": "stdout",
     "output_type": "stream",
     "text": [
      "number of parameters: 2.68M\nrunning on device cuda\nPrint to test changes are going though\niter_dt 0.00ms; iter 0: train loss 3.05263\niter_dt 19.94ms; iter 100: train loss 2.36202\niter_dt 20.20ms; iter 200: train loss 2.32692\niter_dt 20.43ms; iter 300: train loss 2.31554\niter_dt 20.11ms; iter 400: train loss 2.31280\niter_dt 20.10ms; iter 500: train loss 2.30946\niter_dt 19.95ms; iter 600: train loss 2.30975\niter_dt 20.00ms; iter 700: train loss 2.31012\niter_dt 19.90ms; iter 800: train loss 2.30563\niter_dt 19.92ms; iter 900: train loss 2.30716\niter_dt 20.02ms; iter 1000: train loss 2.30766\niter_dt 19.96ms; iter 1100: train loss 2.30604\niter_dt 20.26ms; iter 1200: train loss 2.30592\niter_dt 19.86ms; iter 1300: train loss 2.30630\niter_dt 20.35ms; iter 1400: train loss 2.30546\niter_dt 20.18ms; iter 1500: train loss 2.30579\niter_dt 20.02ms; iter 1600: train loss 2.30459\niter_dt 20.02ms; iter 1700: train loss 2.30518\niter_dt 20.29ms; iter 1800: train loss 2.30565\niter_dt 20.35ms; iter 1900: train loss 2.30429\niter_dt 20.18ms; iter 2000: train loss 2.30639\niter_dt 20.10ms; iter 2100: train loss 2.30355\niter_dt 20.11ms; iter 2200: train loss 2.30481\niter_dt 22.93ms; iter 2300: train loss 2.30432\niter_dt 19.99ms; iter 2400: train loss 2.30523\niter_dt 20.12ms; iter 2500: train loss 2.30461\niter_dt 19.60ms; iter 2600: train loss 2.30307\niter_dt 20.20ms; iter 2700: train loss 2.30435\niter_dt 20.17ms; iter 2800: train loss 2.30540\niter_dt 20.16ms; iter 2900: train loss 2.30235\niter_dt 20.07ms; iter 3000: train loss 2.30290\niter_dt 20.00ms; iter 3100: train loss 2.30423\niter_dt 20.15ms; iter 3200: train loss 2.30526\niter_dt 19.97ms; iter 3300: train loss 2.30662\niter_dt 20.04ms; iter 3400: train loss 2.30303\niter_dt 19.78ms; iter 3500: train loss 2.30337\niter_dt 20.08ms; iter 3600: train loss 2.30664\niter_dt 20.33ms; iter 3700: train loss 2.30444\niter_dt 20.11ms; iter 3800: train loss 2.30577\niter_dt 20.16ms; iter 3900: train loss 2.30460\niter_dt 20.36ms; iter 4000: train loss 2.30535\niter_dt 19.87ms; iter 4100: train loss 2.30630\niter_dt 20.35ms; iter 4200: train loss 2.30303\niter_dt 20.46ms; iter 4300: train loss 2.30448\niter_dt 19.75ms; iter 4400: train loss 2.30346\niter_dt 20.22ms; iter 4500: train loss 2.30366\niter_dt 20.54ms; iter 4600: train loss 2.30585\niter_dt 20.09ms; iter 4700: train loss 2.30487\niter_dt 20.50ms; iter 4800: train loss 2.30528\niter_dt 20.21ms; iter 4900: train loss 2.30176\niter_dt 19.95ms; iter 5000: train loss 2.30563\niter_dt 20.20ms; iter 5100: train loss 2.30337\niter_dt 20.17ms; iter 5200: train loss 2.30316\niter_dt 19.95ms; iter 5300: train loss 2.30349\niter_dt 20.16ms; iter 5400: train loss 2.30367\niter_dt 20.10ms; iter 5500: train loss 2.30384\niter_dt 20.11ms; iter 5600: train loss 2.30422\niter_dt 20.30ms; iter 5700: train loss 2.30572\niter_dt 20.05ms; iter 5800: train loss 2.30356\niter_dt 20.22ms; iter 5900: train loss 2.30401\niter_dt 20.10ms; iter 6000: train loss 2.30429\niter_dt 20.08ms; iter 6100: train loss 2.30474\niter_dt 20.15ms; iter 6200: train loss 2.30345\niter_dt 20.27ms; iter 6300: train loss 2.30224\niter_dt 19.95ms; iter 6400: train loss 2.30298\niter_dt 20.62ms; iter 6500: train loss 2.30414\niter_dt 20.10ms; iter 6600: train loss 2.30444\niter_dt 20.16ms; iter 6700: train loss 2.30393\niter_dt 20.01ms; iter 6800: train loss 2.30451\niter_dt 20.59ms; iter 6900: train loss 2.30363\niter_dt 21.73ms; iter 7000: train loss 2.30462\niter_dt 20.06ms; iter 7100: train loss 2.30458\niter_dt 20.13ms; iter 7200: train loss 2.30356\niter_dt 20.29ms; iter 7300: train loss 2.30123\niter_dt 20.18ms; iter 7400: train loss 2.30406\niter_dt 20.34ms; iter 7500: train loss 2.30509\niter_dt 20.76ms; iter 7600: train loss 2.30449\niter_dt 20.18ms; iter 7700: train loss 2.30300\niter_dt 20.45ms; iter 7800: train loss 2.30461\niter_dt 20.09ms; iter 7900: train loss 2.30136\niter_dt 20.17ms; iter 8000: train loss 2.30427\niter_dt 20.03ms; iter 8100: train loss 2.30499\niter_dt 20.29ms; iter 8200: train loss 2.30494\niter_dt 19.99ms; iter 8300: train loss 2.30320\niter_dt 20.26ms; iter 8400: train loss 2.30291\niter_dt 20.16ms; iter 8500: train loss 2.30359\niter_dt 20.25ms; iter 8600: train loss 2.30380\niter_dt 20.09ms; iter 8700: train loss 2.30530\niter_dt 20.31ms; iter 8800: train loss 2.30398\niter_dt 20.47ms; iter 8900: train loss 2.30271\niter_dt 21.94ms; iter 9000: train loss 2.30380\niter_dt 19.95ms; iter 9100: train loss 2.30289\niter_dt 20.39ms; iter 9200: train loss 2.30363\niter_dt 20.15ms; iter 9300: train loss 2.30391\niter_dt 20.20ms; iter 9400: train loss 2.30263\niter_dt 20.35ms; iter 9500: train loss 2.30491\niter_dt 20.29ms; iter 9600: train loss 2.29604\niter_dt 20.49ms; iter 9700: train loss 2.29286\niter_dt 19.90ms; iter 9800: train loss 2.27798\niter_dt 20.71ms; iter 9900: train loss 2.24453\niter_dt 20.12ms; iter 10000: train loss 2.21405\niter_dt 20.63ms; iter 10100: train loss 2.18307\niter_dt 20.15ms; iter 10200: train loss 2.18477\niter_dt 20.27ms; iter 10300: train loss 2.16742\niter_dt 20.26ms; iter 10400: train loss 2.18231\niter_dt 20.10ms; iter 10500: train loss 2.17293\niter_dt 20.12ms; iter 10600: train loss 2.18439\niter_dt 20.14ms; iter 10700: train loss 2.17376\niter_dt 20.34ms; iter 10800: train loss 2.17109\niter_dt 20.31ms; iter 10900: train loss 2.17504\niter_dt 20.04ms; iter 11000: train loss 2.19067\niter_dt 21.42ms; iter 11100: train loss 2.15523\niter_dt 18.36ms; iter 11200: train loss 2.16723\niter_dt 20.26ms; iter 11300: train loss 2.14682\niter_dt 20.10ms; iter 11400: train loss 2.14421\niter_dt 20.00ms; iter 11500: train loss 2.16862\niter_dt 19.95ms; iter 11600: train loss 2.17035\niter_dt 20.14ms; iter 11700: train loss 2.17846\niter_dt 19.81ms; iter 11800: train loss 2.17205\niter_dt 19.96ms; iter 11900: train loss 2.18417\niter_dt 20.12ms; iter 12000: train loss 2.13717\niter_dt 20.39ms; iter 12100: train loss 2.17148\niter_dt 20.04ms; iter 12200: train loss 2.17428\niter_dt 19.81ms; iter 12300: train loss 2.14666\niter_dt 19.96ms; iter 12400: train loss 2.17637\niter_dt 20.21ms; iter 12500: train loss 2.15525\niter_dt 19.97ms; iter 12600: train loss 2.15313\niter_dt 20.13ms; iter 12700: train loss 2.15095\niter_dt 20.12ms; iter 12800: train loss 2.14729\niter_dt 20.41ms; iter 12900: train loss 2.16506\niter_dt 20.49ms; iter 13000: train loss 2.15415\niter_dt 20.11ms; iter 13100: train loss 2.16750\niter_dt 20.03ms; iter 13200: train loss 2.14127\niter_dt 20.42ms; iter 13300: train loss 2.15732\niter_dt 20.41ms; iter 13400: train loss 2.15579\niter_dt 22.01ms; iter 13500: train loss 2.16360\niter_dt 20.27ms; iter 13600: train loss 2.16432\niter_dt 20.27ms; iter 13700: train loss 2.15299\niter_dt 20.21ms; iter 13800: train loss 2.18193\niter_dt 20.16ms; iter 13900: train loss 2.15953\niter_dt 19.91ms; iter 14000: train loss 2.15590\niter_dt 20.00ms; iter 14100: train loss 2.16493\niter_dt 20.35ms; iter 14200: train loss 2.12366\niter_dt 20.07ms; iter 14300: train loss 2.15659\niter_dt 20.36ms; iter 14400: train loss 2.08855\niter_dt 20.25ms; iter 14500: train loss 2.04244\niter_dt 20.07ms; iter 14600: train loss 1.96689\niter_dt 20.10ms; iter 14700: train loss 1.96929\niter_dt 20.17ms; iter 14800: train loss 1.91733\niter_dt 20.14ms; iter 14900: train loss 1.91218\niter_dt 20.01ms; iter 15000: train loss 1.89439\niter_dt 20.03ms; iter 15100: train loss 1.82511\niter_dt 19.99ms; iter 15200: train loss 1.81513\niter_dt 20.32ms; iter 15300: train loss 1.77915\niter_dt 20.33ms; iter 15400: train loss 1.74995\niter_dt 19.99ms; iter 15500: train loss 1.77841\niter_dt 20.16ms; iter 15600: train loss 1.76710\niter_dt 19.97ms; iter 15700: train loss 1.74678\niter_dt 19.95ms; iter 15800: train loss 1.70664\niter_dt 20.04ms; iter 15900: train loss 1.71756\niter_dt 20.30ms; iter 16000: train loss 1.71233\niter_dt 19.90ms; iter 16100: train loss 1.68689\niter_dt 18.84ms; iter 16200: train loss 1.69590\niter_dt 20.14ms; iter 16300: train loss 1.68147\niter_dt 20.37ms; iter 16400: train loss 1.68827\niter_dt 20.02ms; iter 16500: train loss 1.67231\niter_dt 20.13ms; iter 16600: train loss 1.68126\niter_dt 18.98ms; iter 16700: train loss 1.68955\niter_dt 20.35ms; iter 16800: train loss 1.64495\niter_dt 20.20ms; iter 16900: train loss 1.66470\niter_dt 20.26ms; iter 17000: train loss 1.63911\niter_dt 19.98ms; iter 17100: train loss 1.65572\niter_dt 19.50ms; iter 17200: train loss 1.65137\niter_dt 20.18ms; iter 17300: train loss 1.63859\niter_dt 20.12ms; iter 17400: train loss 1.64836\niter_dt 20.38ms; iter 17500: train loss 1.65347\niter_dt 19.98ms; iter 17600: train loss 1.64642\niter_dt 20.13ms; iter 17700: train loss 1.64011\niter_dt 20.09ms; iter 17800: train loss 1.62862\niter_dt 20.05ms; iter 17900: train loss 1.63197\niter_dt 20.04ms; iter 18000: train loss 1.64050\niter_dt 20.13ms; iter 18100: train loss 1.63213\niter_dt 20.28ms; iter 18200: train loss 1.63475\niter_dt 20.12ms; iter 18300: train loss 1.63368\niter_dt 20.14ms; iter 18400: train loss 1.63165\niter_dt 20.30ms; iter 18500: train loss 1.61831\niter_dt 20.23ms; iter 18600: train loss 1.62250\niter_dt 20.13ms; iter 18700: train loss 1.61725\niter_dt 20.12ms; iter 18800: train loss 1.62077\niter_dt 20.10ms; iter 18900: train loss 1.61498\niter_dt 20.23ms; iter 19000: train loss 1.62248\niter_dt 20.18ms; iter 19100: train loss 1.61932\niter_dt 20.32ms; iter 19200: train loss 1.61588\niter_dt 20.27ms; iter 19300: train loss 1.60781\niter_dt 20.04ms; iter 19400: train loss 1.61161\niter_dt 19.93ms; iter 19500: train loss 1.61464\niter_dt 20.16ms; iter 19600: train loss 1.61822\niter_dt 20.19ms; iter 19700: train loss 1.62836\niter_dt 20.35ms; iter 19800: train loss 1.61896\niter_dt 20.01ms; iter 19900: train loss 1.61172\n"
     ]
    }
   ],
   "source": [
    "model_fixed_dict = GPT(model_config)\n",
    "trainer_fixed_dict = Trainer(train_config, model_fixed_dict, train_dataset_changing_dict)\n",
    "trainer_fixed_dict.set_callback('on_batch_end', batch_end_callback)\n",
    "trainer_fixed_dict.run()"
   ]
  },
  {
   "cell_type": "code",
   "execution_count": 0,
   "metadata": {
    "application/vnd.databricks.v1+cell": {
     "cellMetadata": {
      "byteLimit": 2048000,
      "rowLimit": 10000
     },
     "inputWidgets": {},
     "nuid": "c187ae87-eb09-463f-a3f8-dae933789396",
     "showTitle": false,
     "tableResultSettingsMap": {},
     "title": ""
    }
   },
   "outputs": [
    {
     "output_type": "execute_result",
     "data": {
      "text/plain": [
       "1.6324346163790395"
      ]
     },
     "execution_count": 63,
     "metadata": {},
     "output_type": "execute_result"
    }
   ],
   "source": [
    "(np.log(np.arange(vocab_size, 0, -1)).sum() + (length-1)*np.log(vocab_size))/(2*length - 1)"
   ]
  },
  {
   "cell_type": "code",
   "execution_count": 0,
   "metadata": {
    "application/vnd.databricks.v1+cell": {
     "cellMetadata": {
      "byteLimit": 2048000,
      "rowLimit": 10000
     },
     "inputWidgets": {},
     "nuid": "3dbf739b-fe0f-42b8-96ad-a9e46ac36ed8",
     "showTitle": false,
     "tableResultSettingsMap": {},
     "title": ""
    }
   },
   "outputs": [
    {
     "output_type": "stream",
     "name": "stdout",
     "output_type": "stream",
     "text": [
      "tensor([[ 7, 17,  3, 13,  3, 13,  8, 14,  3, 13,  9, 16,  9, 16,  7, 17,  5, 19,\n          8, 14,  6, 12,  3, 13,  1, 18,  5, 19,  3]])\ntensor([[17,  3, 13,  3, 13,  8, 14,  3, 13,  9, 16,  9, 16,  7, 17,  5, 19,  8,\n         14,  6, 12,  3, 13,  1, 18,  5, 19,  3, 13]])\ntensor([[ 7, 17,  3, 13,  3, 13,  8, 14,  3, 13,  9, 16,  9, 16,  7, 17,  5, 19,\n          8, 14,  6, 12,  3, 13,  1, 18,  5, 19,  3, 13]], device='cuda:0')\n"
     ]
    }
   ],
   "source": [
    "a,b = next(iter(loader))\n",
    "ans=model_fixed_dict.generate(a.to(trainer_fixed_dict.device), 1, do_sample=False)\n",
    "print(a)\n",
    "print(b)\n",
    "print(ans[0])"
   ]
  },
  {
   "cell_type": "code",
   "execution_count": 0,
   "metadata": {
    "application/vnd.databricks.v1+cell": {
     "cellMetadata": {},
     "inputWidgets": {},
     "nuid": "ab579923-3a64-48d4-9924-2be52662eaa9",
     "showTitle": false,
     "tableResultSettingsMap": {},
     "title": ""
    }
   },
   "outputs": [],
   "source": []
  },
  {
   "cell_type": "code",
   "execution_count": 0,
   "metadata": {
    "application/vnd.databricks.v1+cell": {
     "cellMetadata": {
      "byteLimit": 2048000,
      "rowLimit": 10000
     },
     "inputWidgets": {},
     "nuid": "12632abf-0ae0-4022-8079-48f5613a8951",
     "showTitle": false,
     "tableResultSettingsMap": {},
     "title": ""
    }
   },
   "outputs": [],
   "source": [
    "probs = F.softmax(ans[1], dim=-1)"
   ]
  },
  {
   "cell_type": "code",
   "execution_count": 0,
   "metadata": {
    "application/vnd.databricks.v1+cell": {
     "cellMetadata": {
      "byteLimit": 2048000,
      "rowLimit": 10000
     },
     "inputWidgets": {},
     "nuid": "50379b87-f177-4a8e-b8a0-65a5b96c89ce",
     "showTitle": false,
     "tableResultSettingsMap": {},
     "title": ""
    }
   },
   "outputs": [
    {
     "output_type": "execute_result",
     "data": {
      "text/plain": [
       "tensor([[[2.2788e-05, 2.1900e-05, 2.2068e-05, 2.1812e-05, 2.2733e-05,\n",
       "          2.2156e-05, 2.2923e-05, 2.3285e-05, 2.1898e-05, 2.2509e-05,\n",
       "          8.4160e-02, 9.9296e-02, 9.2593e-02, 9.8714e-02, 9.5514e-02,\n",
       "          7.4090e-02, 1.1845e-01, 1.0534e-01, 1.2375e-01, 1.0787e-01],\n",
       "         [1.0400e-01, 1.0056e-01, 9.7247e-02, 9.8574e-02, 1.0497e-01,\n",
       "          9.7084e-02, 1.0117e-01, 9.6179e-02, 1.0492e-01, 9.5171e-02,\n",
       "          1.3976e-05, 1.0392e-05, 1.2427e-05, 1.2845e-05, 1.5631e-05,\n",
       "          1.5705e-05, 1.2447e-05, 2.0685e-05, 1.3102e-05, 7.7183e-06],\n",
       "         [2.1409e-05, 2.1662e-05, 2.1826e-05, 2.2140e-05, 2.1378e-05,\n",
       "          2.2223e-05, 2.0365e-05, 2.2080e-05, 1.9436e-05, 2.3899e-05,\n",
       "          1.3726e-01, 9.8940e-02, 1.1781e-01, 1.2479e-01, 1.0938e-01,\n",
       "          1.0082e-01, 1.2082e-01, 1.2695e-03, 8.7354e-02, 1.0135e-01],\n",
       "         [1.0602e-01, 1.0030e-01, 9.5665e-02, 1.0194e-01, 1.0086e-01,\n",
       "          9.5422e-02, 9.9058e-02, 1.0228e-01, 1.0531e-01, 9.2981e-02,\n",
       "          1.3129e-05, 1.5620e-05, 8.8538e-06, 1.1465e-05, 1.2852e-05,\n",
       "          2.8847e-05, 1.2207e-05, 2.5140e-05, 1.4992e-05, 1.0603e-05],\n",
       "         [3.5885e-05, 3.8832e-05, 3.1902e-05, 3.0401e-05, 3.6132e-05,\n",
       "          3.1564e-05, 2.8496e-05, 3.7173e-05, 3.3002e-05, 3.0010e-05,\n",
       "          8.0976e-05, 1.0156e-04, 3.7098e-05, 9.9857e-01, 6.6332e-05,\n",
       "          2.2080e-04, 1.0417e-04, 3.1055e-04, 6.6327e-05, 1.0598e-04],\n",
       "         [1.0558e-01, 1.0340e-01, 9.3125e-02, 9.9204e-02, 1.0076e-01,\n",
       "          1.0187e-01, 9.6472e-02, 1.0117e-01, 1.0220e-01, 9.6084e-02,\n",
       "          8.8321e-06, 1.0606e-05, 9.1028e-06, 5.9580e-06, 1.3427e-05,\n",
       "          2.1792e-05, 9.5374e-06, 2.8596e-05, 1.2002e-05, 1.0710e-05],\n",
       "         [4.0092e-05, 3.8146e-05, 3.9968e-05, 4.1737e-05, 4.1199e-05,\n",
       "          4.4073e-05, 4.1477e-05, 4.1397e-05, 3.9438e-05, 4.4153e-05,\n",
       "          1.3309e-01, 1.1515e-01, 1.1431e-01, 5.4334e-04, 1.2577e-01,\n",
       "          1.1930e-01, 1.3451e-01, 3.2371e-03, 1.4205e-01, 1.1164e-01],\n",
       "         [1.0071e-01, 9.9841e-02, 9.2705e-02, 1.0775e-01, 1.0301e-01,\n",
       "          9.5833e-02, 1.0263e-01, 1.0007e-01, 9.8465e-02, 9.8802e-02,\n",
       "          1.7025e-05, 1.9362e-05, 2.0950e-05, 1.5911e-05, 2.1206e-05,\n",
       "          2.3882e-05, 9.3133e-06, 3.2035e-05, 1.8101e-05, 1.2481e-05],\n",
       "         [4.4812e-05, 5.5251e-05, 4.6170e-05, 4.1438e-05, 4.7899e-05,\n",
       "          4.2992e-05, 4.5991e-05, 4.4458e-05, 4.5225e-05, 4.1981e-05,\n",
       "          6.7453e-05, 1.4942e-04, 9.0404e-05, 9.9774e-01, 6.3437e-05,\n",
       "          5.8080e-04, 1.8883e-04, 4.0297e-04, 6.9892e-05, 1.9038e-04],\n",
       "         [1.0109e-01, 1.0776e-01, 9.7509e-02, 1.0176e-01, 1.0173e-01,\n",
       "          9.4172e-02, 9.6887e-02, 9.5950e-02, 1.0218e-01, 1.0080e-01,\n",
       "          1.7132e-05, 1.9720e-05, 1.1653e-05, 1.1292e-05, 2.4100e-05,\n",
       "          2.8471e-05, 1.0320e-05, 2.2521e-05, 1.4527e-05, 9.6726e-06],\n",
       "         [4.0238e-05, 4.0835e-05, 4.3360e-05, 3.9949e-05, 4.1494e-05,\n",
       "          4.4774e-05, 4.6021e-05, 4.4268e-05, 4.3786e-05, 4.6050e-05,\n",
       "          1.6836e-01, 1.1499e-01, 1.1979e-01, 2.8518e-04, 2.4191e-03,\n",
       "          1.4131e-01, 1.2337e-01, 3.8689e-02, 1.4168e-01, 1.4868e-01],\n",
       "         [9.9944e-02, 1.0195e-01, 9.4634e-02, 1.0787e-01, 9.8754e-02,\n",
       "          9.5894e-02, 9.8477e-02, 9.8260e-02, 1.0811e-01, 9.5952e-02,\n",
       "          1.0834e-05, 1.3507e-05, 8.3620e-06, 1.3396e-05, 2.0499e-05,\n",
       "          1.2758e-05, 2.4370e-05, 2.1350e-05, 1.5037e-05, 6.4480e-06],\n",
       "         [2.1719e-05, 1.8735e-05, 2.0881e-05, 2.1892e-05, 1.8093e-05,\n",
       "          1.9691e-05, 1.7161e-05, 2.1724e-05, 2.1693e-05, 2.3796e-05,\n",
       "          8.2848e-05, 6.1120e-05, 1.1998e-04, 1.3814e-04, 5.7614e-05,\n",
       "          9.8441e-05, 9.9888e-01, 5.6796e-05, 2.3070e-04, 6.8847e-05],\n",
       "         [1.0178e-01, 1.0568e-01, 9.8574e-02, 1.0403e-01, 1.0110e-01,\n",
       "          8.8928e-02, 1.0099e-01, 9.7866e-02, 1.0952e-01, 9.1370e-02,\n",
       "          1.2595e-05, 1.7400e-05, 1.1052e-05, 7.4485e-06, 3.3881e-05,\n",
       "          1.8434e-05, 1.6015e-05, 1.5975e-05, 1.8731e-05, 8.0403e-06],\n",
       "         [4.0846e-05, 5.3713e-05, 4.0207e-05, 4.4837e-05, 4.4317e-05,\n",
       "          4.2084e-05, 5.1178e-05, 4.7458e-05, 4.2534e-05, 4.1490e-05,\n",
       "          2.1274e-05, 7.2629e-05, 1.1668e-04, 2.2683e-04, 8.5053e-05,\n",
       "          9.0436e-05, 7.2911e-05, 9.9864e-01, 1.3033e-04, 9.9584e-05],\n",
       "         [1.0564e-01, 1.0037e-01, 9.2360e-02, 9.6441e-02, 1.0394e-01,\n",
       "          1.0646e-01, 9.3710e-02, 9.2080e-02, 1.0806e-01, 1.0081e-01,\n",
       "          1.3096e-05, 1.2658e-05, 9.0549e-06, 7.9790e-06, 2.0484e-05,\n",
       "          1.4017e-05, 1.1742e-05, 2.2295e-05, 1.0335e-05, 9.0157e-06],\n",
       "         [6.4372e-05, 6.4592e-05, 6.0259e-05, 6.0973e-05, 5.7773e-05,\n",
       "          5.7105e-05, 6.3755e-05, 6.4407e-05, 6.3402e-05, 6.4154e-05,\n",
       "          1.4015e-01, 1.2466e-01, 1.6707e-01, 4.2431e-04, 3.5862e-03,\n",
       "          1.3662e-01, 9.4563e-04, 1.9662e-03, 2.0507e-01, 2.1888e-01],\n",
       "         [1.0760e-01, 9.9709e-02, 9.3516e-02, 9.8472e-02, 1.0674e-01,\n",
       "          9.3000e-02, 1.0225e-01, 9.4511e-02, 1.0396e-01, 1.0007e-01,\n",
       "          1.1543e-05, 1.1955e-05, 1.0254e-05, 1.1750e-05, 1.6175e-05,\n",
       "          1.6357e-05, 1.8917e-05, 2.8267e-05, 1.4801e-05, 2.7627e-05],\n",
       "         [3.0963e-05, 3.5081e-05, 3.1052e-05, 3.4649e-05, 3.4441e-05,\n",
       "          3.1361e-05, 2.7847e-05, 3.2736e-05, 3.0451e-05, 2.6857e-05,\n",
       "          1.2198e-04, 7.8289e-05, 2.5836e-04, 3.4504e-04, 9.9848e-01,\n",
       "          1.7304e-04, 4.1232e-05, 1.0641e-04, 3.3570e-05, 4.2679e-05],\n",
       "         [1.0626e-01, 9.2766e-02, 9.5002e-02, 1.0265e-01, 1.0093e-01,\n",
       "          9.4928e-02, 1.0357e-01, 9.9281e-02, 1.1135e-01, 9.3019e-02,\n",
       "          3.0366e-05, 2.8130e-05, 2.4290e-05, 1.5924e-05, 1.4786e-05,\n",
       "          3.9502e-05, 8.4377e-06, 1.5799e-05, 4.8511e-05, 1.0344e-05],\n",
       "         [5.9655e-05, 5.6492e-05, 5.4863e-05, 5.0745e-05, 5.0081e-05,\n",
       "          5.9057e-05, 5.2848e-05, 6.3871e-05, 5.6063e-05, 5.5626e-05,\n",
       "          1.5491e-01, 1.9079e-01, 1.5478e-01, 2.9852e-03, 3.5153e-03,\n",
       "          2.2413e-01, 2.3661e-03, 6.7221e-04, 2.6473e-01, 5.5474e-04],\n",
       "         [1.0384e-01, 9.5670e-02, 1.0241e-01, 9.7761e-02, 1.0920e-01,\n",
       "          9.3980e-02, 1.0328e-01, 1.0108e-01, 1.0252e-01, 9.0083e-02,\n",
       "          9.7248e-06, 1.7412e-05, 1.4276e-05, 1.1125e-05, 3.4993e-05,\n",
       "          1.0248e-05, 1.0002e-05, 2.3403e-05, 1.4737e-05, 1.7237e-05],\n",
       "         [6.0122e-05, 6.3241e-05, 5.3530e-05, 5.3159e-05, 6.9403e-05,\n",
       "          5.8510e-05, 5.4704e-05, 5.8126e-05, 5.9134e-05, 5.2312e-05,\n",
       "          6.9223e-05, 4.5496e-05, 4.3686e-05, 9.9846e-01, 4.8685e-05,\n",
       "          2.1543e-04, 6.2552e-05, 3.3477e-04, 5.0914e-05, 8.2120e-05],\n",
       "         [9.9456e-02, 1.0559e-01, 9.3837e-02, 1.0389e-01, 1.0250e-01,\n",
       "          9.6016e-02, 9.9529e-02, 9.9733e-02, 1.0180e-01, 9.7485e-02,\n",
       "          7.8769e-06, 1.2875e-05, 1.1883e-05, 8.5359e-06, 3.0370e-05,\n",
       "          1.9693e-05, 1.9001e-05, 2.9264e-05, 1.4525e-05, 9.3232e-06],\n",
       "         [8.1065e-05, 8.3679e-05, 9.7143e-05, 8.0068e-05, 7.8067e-05,\n",
       "          7.9068e-05, 8.5959e-05, 1.0046e-04, 8.5103e-05, 8.4959e-05,\n",
       "          2.0665e-01, 2.4190e-01, 2.4768e-02, 1.8708e-04, 1.6725e-03,\n",
       "          2.8478e-01, 1.0535e-03, 1.5982e-03, 2.2860e-01, 7.9301e-03],\n",
       "         [1.0685e-01, 9.9207e-02, 9.5010e-02, 9.7677e-02, 1.0399e-01,\n",
       "          9.4223e-02, 1.0204e-01, 9.8931e-02, 1.0751e-01, 9.4408e-02,\n",
       "          9.0747e-06, 1.3169e-05, 1.1716e-05, 1.0936e-05, 2.0350e-05,\n",
       "          1.1186e-05, 9.1571e-06, 4.0272e-05, 1.8894e-05, 8.3236e-06],\n",
       "         [7.0829e-05, 7.2392e-05, 6.4401e-05, 6.6575e-05, 7.1448e-05,\n",
       "          6.7659e-05, 6.8084e-05, 6.8092e-05, 6.8983e-05, 7.3149e-05,\n",
       "          2.0395e-04, 7.5023e-04, 2.1765e-04, 1.4193e-05, 8.7445e-05,\n",
       "          2.3353e-04, 6.0055e-04, 6.2262e-05, 1.4199e-04, 9.9700e-01],\n",
       "         [1.0510e-01, 9.7247e-02, 9.2190e-02, 9.9180e-02, 1.0206e-01,\n",
       "          9.9121e-02, 9.7291e-02, 1.0226e-01, 1.0751e-01, 9.7893e-02,\n",
       "          7.0065e-06, 1.4090e-05, 1.3041e-05, 1.0511e-05, 2.5154e-05,\n",
       "          1.1085e-05, 1.0739e-05, 2.3226e-05, 1.1316e-05, 2.2170e-05],\n",
       "         [8.0573e-05, 8.1515e-05, 6.1448e-05, 7.4044e-05, 8.1423e-05,\n",
       "          6.6346e-05, 6.7003e-05, 6.8048e-05, 7.1537e-05, 7.0373e-05,\n",
       "          5.6524e-05, 6.8730e-05, 7.3530e-05, 9.9796e-01, 2.2219e-04,\n",
       "          3.4674e-04, 1.7025e-04, 1.5596e-04, 7.5284e-05, 1.4719e-04]]],\n",
       "       device='cuda:0')"
      ]
     },
     "execution_count": 66,
     "metadata": {},
     "output_type": "execute_result"
    }
   ],
   "source": [
    "probs"
   ]
  },
  {
   "cell_type": "code",
   "execution_count": 0,
   "metadata": {
    "application/vnd.databricks.v1+cell": {
     "cellMetadata": {
      "byteLimit": 2048000,
      "rowLimit": 10000
     },
     "inputWidgets": {},
     "nuid": "ca9540e4-a380-422d-9c07-4e2f5ba9bb74",
     "showTitle": false,
     "tableResultSettingsMap": {},
     "title": ""
    }
   },
   "outputs": [
    {
     "output_type": "execute_result",
     "data": {
      "text/plain": [
       "19"
      ]
     },
     "execution_count": 28,
     "metadata": {},
     "output_type": "execute_result"
    }
   ],
   "source": [
    "probs.size(1)"
   ]
  },
  {
   "cell_type": "code",
   "execution_count": 0,
   "metadata": {
    "application/vnd.databricks.v1+cell": {
     "cellMetadata": {
      "byteLimit": 2048000,
      "rowLimit": 10000
     },
     "inputWidgets": {},
     "nuid": "a417cd2c-aa15-4756-8494-b73c832e388e",
     "showTitle": false,
     "tableResultSettingsMap": {},
     "title": ""
    }
   },
   "outputs": [],
   "source": [
    "from scipy.stats import entropy\n",
    "import numpy as np"
   ]
  },
  {
   "cell_type": "code",
   "execution_count": 0,
   "metadata": {
    "application/vnd.databricks.v1+cell": {
     "cellMetadata": {
      "byteLimit": 2048000,
      "rowLimit": 10000
     },
     "inputWidgets": {},
     "nuid": "5d2a9d22-13b4-412e-9c05-b43426702c05",
     "showTitle": false,
     "tableResultSettingsMap": {},
     "title": ""
    }
   },
   "outputs": [
    {
     "output_type": "stream",
     "name": "stdout",
     "output_type": "stream",
     "text": [
      "tensor([[ 7, 17,  3, 13,  3, 13,  8, 14,  3, 13,  9, 16,  9, 16,  7, 17,  5, 19,\n          8, 14,  6, 12,  3, 13,  1, 18,  5, 19,  3]])\ntensor([[17,  3, 13,  3, 13,  8, 14,  3, 13,  9, 16,  9, 16,  7, 17,  5, 19,  8,\n         14,  6, 12,  3, 13,  1, 18,  5, 19,  3, 13]])\n7 17\n{}\n3 13\n{7: 17}\n3 13\n{7: 17, 3: 13}\n8 14\n{7: 17, 3: 13}\n3 13\n{7: 17, 3: 13, 8: 14}\n9 16\n{7: 17, 3: 13, 8: 14}\n9 16\n{7: 17, 3: 13, 8: 14, 9: 16}\n7 17\n{7: 17, 3: 13, 8: 14, 9: 16}\n5 19\n{7: 17, 3: 13, 8: 14, 9: 16}\n8 14\n{7: 17, 3: 13, 8: 14, 9: 16, 5: 19}\n6 12\n{7: 17, 3: 13, 8: 14, 9: 16, 5: 19}\n3 13\n{7: 17, 3: 13, 8: 14, 9: 16, 5: 19, 6: 12}\n1 18\n{7: 17, 3: 13, 8: 14, 9: 16, 5: 19, 6: 12}\n5 19\n{7: 17, 3: 13, 8: 14, 9: 16, 5: 19, 6: 12, 1: 18}\n3 13\n{7: 17, 3: 13, 8: 14, 9: 16, 5: 19, 6: 12, 1: 18}\n"
     ]
    },
    {
     "output_type": "display_data",
     "data": {
      "image/png": "[encoded data removed]",
      "text/plain": [
       "<Figure size 640x480 with 1 Axes>"
      ]
     },
     "metadata": {},
     "output_type": "display_data"
    }
   ],
   "source": [
    "dict_so_far = {}\n",
    "things_fixed = 0\n",
    "entropies = []\n",
    "true_entropies = []\n",
    "print(a)\n",
    "print(b)\n",
    "for i in range(0, ans[1].size(1), 2):\n",
    "  q = a[0][i].cpu().item()\n",
    "  qa = b[0][i].cpu().item()\n",
    "  print(q, qa)\n",
    "  print(dict_so_far)\n",
    "  if q in dict_so_far:\n",
    "    true_entropies.append(np.log(1))\n",
    "  else:\n",
    "    true_entropies.append(np.log(vocab_size - things_fixed))\n",
    "    dict_so_far[q] = qa\n",
    "    things_fixed += 1\n",
    "  entropies.append(entropy(probs[0][i].cpu().numpy()))\n",
    "  #plt.plot(probs[0][i][10:].cpu().numpy(), label='p(y_t|x,y_1,...,y_{t-1})')\n",
    "plt.plot(entropies, label='Predicted Distribution')\n",
    "plt.plot(true_entropies, label='Ideal Distribution')\n",
    "plt.xlabel('Sequence')\n",
    "plt.ylabel('Entropy')\n",
    "plt.legend()\n",
    "plt.show()\n"
   ]
  },
  {
   "cell_type": "code",
   "execution_count": 0,
   "metadata": {
    "application/vnd.databricks.v1+cell": {
     "cellMetadata": {
      "byteLimit": 2048000,
      "rowLimit": 10000
     },
     "inputWidgets": {},
     "nuid": "eedbff5f-7c2a-41f2-8113-9ece11737082",
     "showTitle": false,
     "tableResultSettingsMap": {},
     "title": ""
    }
   },
   "outputs": [
    {
     "output_type": "execute_result",
     "data": {
      "text/plain": [
       "2.3071076567371187"
      ]
     },
     "execution_count": 39,
     "metadata": {},
     "output_type": "execute_result"
    }
   ],
   "source": [
    "(np.log(np.arange(vocab_size, vocab_size-length, -1)).sum() + (length-1)*np.log(length))/(2*length - 1)"
   ]
  },
  {
   "cell_type": "code",
   "execution_count": 0,
   "metadata": {
    "application/vnd.databricks.v1+cell": {
     "cellMetadata": {
      "byteLimit": 2048000,
      "rowLimit": 10000
     },
     "inputWidgets": {},
     "nuid": "7ac1ed21-e395-40c3-8b11-859200c26639",
     "showTitle": false,
     "tableResultSettingsMap": {},
     "title": ""
    }
   },
   "outputs": [
    {
     "output_type": "execute_result",
     "data": {
      "text/plain": [
       "1.4687494764819466"
      ]
     },
     "execution_count": 56,
     "metadata": {},
     "output_type": "execute_result"
    }
   ],
   "source": [
    "import numpy as np\n",
    "import math\n",
    "(np.log(math.factorial(10)) + np.log(math.factorial(9)))/(2*length - 1)"
   ]
  },
  {
   "cell_type": "code",
   "execution_count": 0,
   "metadata": {
    "application/vnd.databricks.v1+cell": {
     "cellMetadata": {
      "byteLimit": 2048000,
      "rowLimit": 10000
     },
     "inputWidgets": {},
     "nuid": "85abe6fc-259c-48d3-b607-f894675c0c29",
     "showTitle": false,
     "tableResultSettingsMap": {},
     "title": ""
    }
   },
   "outputs": [
    {
     "output_type": "stream",
     "name": "stdout",
     "output_type": "stream",
     "text": [
      "1\n1\n1\n1\n1\n1\n1\n1\n1\n1\n1\n1\n1\n1\n1\n1\n1\n1\n1\n1\n1\n1\n1\n1\n1\n1\n1\n1\n1\n1\n1\n1\n1\n1\n1\n1\n1\n1\n1\n1\n1\n1\n1\n1\n1\n1\n1\n1\n1\n1\ntrain final score: 5000/5000 = 100.00% correct\n1\n1\n1\n1\n1\n1\n1\n1\n1\n1\n1\n1\n1\n1\n1\n1\n1\n1\n1\n1\n1\n1\n1\n1\n1\n1\n1\n1\n1\n1\n1\n1\n1\n1\n1\n1\n1\n1\n1\n1\n1\n1\n1\n1\n1\n1\n1\n1\n1\n1\ntest final score: 5000/5000 = 100.00% correct\n1\nGPT claims that [5, 4, 2, 6, 8, 2, 2, 6, 4, 0, 5, 4, 2] sorted is 5 but gt is 6\nGPT claims that [1, 8, 3, 1, 2, 9, 3, 1, 6, 2, 0, 3, 3] sorted is 7 but gt is 1\nGPT claims that [7, 7, 8, 1, 4, 6, 6, 5, 1, 4, 1, 4, 7] sorted is 6 but gt is 7\n1\n1\n1\n1\n1\n1\n1\n1\n1\n1\n1\n1\n1\n1\n1\n1\n1\n1\n1\n1\n1\n1\n1\n1\n1\n1\n1\n1\n1\n1\n1\n1\n1\n1\n1\n1\n1\n1\n1\n1\n1\n1\n1\n1\n1\n1\n1\n1\n1\ntest final score: 493/5000 = 9.86% correct\n1\nGPT claims that [9, 6, 8, 5, 4, 0, 7, 3, 0, 8, 6, 4, 9] sorted is 0 but gt is 6\nGPT claims that [8, 9, 2, 1, 9, 7, 4, 4, 5, 8, 9, 7, 5] sorted is 2 but gt is 8\nGPT claims that [0, 4, 9, 1, 2, 2, 9, 1, 1, 9, 0, 4, 0] sorted is 9 but gt is 4\n1\n1\n1\n1\n1\n1\n1\n1\n1\n1\n1\n1\n1\n1\n1\n1\n1\n1\n1\n1\n1\n1\n1\n1\n1\n1\n1\n1\n1\n1\n1\n1\n1\n1\n1\n1\n1\n1\n1\n1\n1\n1\n1\n1\n1\n1\n1\n1\n1\ntest final score: 4514/5000 = 90.28% correct\n"
     ]
    }
   ],
   "source": [
    "\n",
    "# running a non cl trained trainer through non_cl dataset\n",
    "with torch.no_grad():\n",
    "    train_score_fixed_dict = eval_split(trainer_fixed_dict, model_fixed_dict, train_dataset_fixed_dict, max_batches=50, split='train')\n",
    "    test_score_fixed_dict  = eval_split(trainer_fixed_dict, model_fixed_dict, test_dataset_fixed_dict, max_batches=50, split='test')\n",
    "    test_score_changing_dict = eval_split(trainer_fixed_dict, model_fixed_dict, test_dataset_changing_dict, max_batches=50, split='test')\n",
    "    test_score_mixed_dict_x1 = eval_split(trainer_fixed_dict, model_fixed_dict, test_dataset_mixed_dict_x1, max_batches=50, split='test')"
   ]
  },
  {
   "cell_type": "code",
   "execution_count": 0,
   "metadata": {
    "application/vnd.databricks.v1+cell": {
     "cellMetadata": {
      "byteLimit": 2048000,
      "rowLimit": 10000
     },
     "inputWidgets": {},
     "nuid": "b7f4615b-bcff-4c17-bb66-dce91a84df3f",
     "showTitle": false,
     "tableResultSettingsMap": {},
     "title": ""
    }
   },
   "outputs": [],
   "source": [
    "loader = DataLoader(test_dataset_fixed_dict, batch_size=1, num_workers=0, drop_last=False)\n",
    "a = next(iter(loader))\n",
    "a = [a[0].to(trainer_fixed_dict.device), a[1].to(trainer_fixed_dict.device)]"
   ]
  },
  {
   "cell_type": "code",
   "execution_count": 0,
   "metadata": {
    "application/vnd.databricks.v1+cell": {
     "cellMetadata": {
      "byteLimit": 2048000,
      "rowLimit": 10000
     },
     "inputWidgets": {},
     "nuid": "118fd320-ad0c-4279-8e3b-9cdd8e263b81",
     "showTitle": false,
     "tableResultSettingsMap": {},
     "title": ""
    }
   },
   "outputs": [
    {
     "output_type": "stream",
     "name": "stdout",
     "output_type": "stream",
     "text": [
      "[tensor([[9, 0, 8, 4, 5, 2, 9, 0, 7, 6, 9, 0, 5]], device='cuda:0'), tensor([[-1, -1, -1, -1, -1, -1, -1, -1, -1, -1, -1, -1,  2]], device='cuda:0')]\ntensor([[9, 0, 8, 4, 5, 2, 9, 0, 7, 6, 9, 0, 5, 2]], device='cuda:0')\n[[tensor([[[[1.0000, 0.0000, 0.0000, 0.0000, 0.0000, 0.0000, 0.0000, 0.0000,\n           0.0000, 0.0000, 0.0000, 0.0000, 0.0000],\n          [0.2695, 0.7305, 0.0000, 0.0000, 0.0000, 0.0000, 0.0000, 0.0000,\n           0.0000, 0.0000, 0.0000, 0.0000, 0.0000],\n          [0.3080, 0.4632, 0.2288, 0.0000, 0.0000, 0.0000, 0.0000, 0.0000,\n           0.0000, 0.0000, 0.0000, 0.0000, 0.0000],\n          [0.2296, 0.2736, 0.2282, 0.2685, 0.0000, 0.0000, 0.0000, 0.0000,\n           0.0000, 0.0000, 0.0000, 0.0000, 0.0000],\n          [0.1660, 0.1683, 0.2112, 0.1742, 0.2803, 0.0000, 0.0000, 0.0000,\n           0.0000, 0.0000, 0.0000, 0.0000, 0.0000],\n          [0.1892, 0.1197, 0.1411, 0.1102, 0.1009, 0.3389, 0.0000, 0.0000,\n           0.0000, 0.0000, 0.0000, 0.0000, 0.0000],\n          [0.1771, 0.0944, 0.1893, 0.0715, 0.1134, 0.1270, 0.2272, 0.0000,\n           0.0000, 0.0000, 0.0000, 0.0000, 0.0000],\n          [0.0889, 0.1652, 0.1364, 0.1077, 0.1225, 0.0927, 0.0999, 0.1867,\n           0.0000, 0.0000, 0.0000, 0.0000, 0.0000],\n          [0.1048, 0.1123, 0.1371, 0.0951, 0.1203, 0.0806, 0.1171, 0.1089,\n           0.1237, 0.0000, 0.0000, 0.0000, 0.0000],\n          [0.0750, 0.0577, 0.0642, 0.0663, 0.0871, 0.0732, 0.0587, 0.0436,\n           0.0676, 0.4067, 0.0000, 0.0000, 0.0000],\n          [0.1193, 0.0576, 0.1169, 0.0472, 0.0739, 0.0843, 0.1482, 0.0594,\n           0.0912, 0.0426, 0.1595, 0.0000, 0.0000],\n          [0.0568, 0.1255, 0.0922, 0.0788, 0.0931, 0.0458, 0.0614, 0.1246,\n           0.0816, 0.0413, 0.0600, 0.1390, 0.0000],\n          [0.0713, 0.0669, 0.0829, 0.0708, 0.1088, 0.0554, 0.0746, 0.0702,\n           0.0801, 0.0643, 0.0745, 0.0758, 0.1044]],\n\n         [[1.0000, 0.0000, 0.0000, 0.0000, 0.0000, 0.0000, 0.0000, 0.0000,\n           0.0000, 0.0000, 0.0000, 0.0000, 0.0000],\n          [0.2800, 0.7200, 0.0000, 0.0000, 0.0000, 0.0000, 0.0000, 0.0000,\n           0.0000, 0.0000, 0.0000, 0.0000, 0.0000],\n          [0.0394, 0.0849, 0.8757, 0.0000, 0.0000, 0.0000, 0.0000, 0.0000,\n           0.0000, 0.0000, 0.0000, 0.0000, 0.0000],\n          [0.0513, 0.0782, 0.0925, 0.7780, 0.0000, 0.0000, 0.0000, 0.0000,\n           0.0000, 0.0000, 0.0000, 0.0000, 0.0000],\n          [0.2712, 0.1701, 0.1313, 0.1215, 0.3058, 0.0000, 0.0000, 0.0000,\n           0.0000, 0.0000, 0.0000, 0.0000, 0.0000],\n          [0.1426, 0.1144, 0.1023, 0.1087, 0.3304, 0.2016, 0.0000, 0.0000,\n           0.0000, 0.0000, 0.0000, 0.0000, 0.0000],\n          [0.1734, 0.2108, 0.0669, 0.1112, 0.1196, 0.1616, 0.1565, 0.0000,\n           0.0000, 0.0000, 0.0000, 0.0000, 0.0000],\n          [0.1614, 0.1606, 0.0714, 0.0626, 0.1142, 0.1170, 0.1513, 0.1615,\n           0.0000, 0.0000, 0.0000, 0.0000, 0.0000],\n          [0.1358, 0.1189, 0.0845, 0.0614, 0.1249, 0.1193, 0.1253, 0.1163,\n           0.1136, 0.0000, 0.0000, 0.0000, 0.0000],\n          [0.1320, 0.0961, 0.0693, 0.0870, 0.0979, 0.0987, 0.1201, 0.1008,\n           0.0921, 0.1061, 0.0000, 0.0000, 0.0000],\n          [0.1096, 0.1372, 0.0375, 0.0560, 0.0709, 0.1006, 0.0976, 0.1103,\n           0.1007, 0.0797, 0.1000, 0.0000, 0.0000],\n          [0.0574, 0.1790, 0.0439, 0.0802, 0.0248, 0.0607, 0.0652, 0.1115,\n           0.0757, 0.0379, 0.0592, 0.2043, 0.0000],\n          [0.0787, 0.0533, 0.0614, 0.0574, 0.1212, 0.0813, 0.0715, 0.0645,\n           0.0716, 0.0915, 0.0754, 0.0516, 0.1206]],\n\n         [[1.0000, 0.0000, 0.0000, 0.0000, 0.0000, 0.0000, 0.0000, 0.0000,\n           0.0000, 0.0000, 0.0000, 0.0000, 0.0000],\n          [0.4964, 0.5036, 0.0000, 0.0000, 0.0000, 0.0000, 0.0000, 0.0000,\n           0.0000, 0.0000, 0.0000, 0.0000, 0.0000],\n          [0.3644, 0.3315, 0.3041, 0.0000, 0.0000, 0.0000, 0.0000, 0.0000,\n           0.0000, 0.0000, 0.0000, 0.0000, 0.0000],\n          [0.2522, 0.2531, 0.2352, 0.2595, 0.0000, 0.0000, 0.0000, 0.0000,\n           0.0000, 0.0000, 0.0000, 0.0000, 0.0000],\n          [0.0325, 0.0320, 0.0646, 0.0482, 0.8228, 0.0000, 0.0000, 0.0000,\n           0.0000, 0.0000, 0.0000, 0.0000, 0.0000],\n          [0.1817, 0.1900, 0.1641, 0.1643, 0.1094, 0.1905, 0.0000, 0.0000,\n           0.0000, 0.0000, 0.0000, 0.0000, 0.0000],\n          [0.1578, 0.1640, 0.1427, 0.1503, 0.0790, 0.1547, 0.1515, 0.0000,\n           0.0000, 0.0000, 0.0000, 0.0000, 0.0000],\n          [0.1207, 0.1122, 0.1224, 0.1304, 0.1567, 0.1127, 0.1149, 0.1300,\n           0.0000, 0.0000, 0.0000, 0.0000, 0.0000],\n          [0.0348, 0.0472, 0.0281, 0.0223, 0.0161, 0.0480, 0.0486, 0.0255,\n           0.7294, 0.0000, 0.0000, 0.0000, 0.0000],\n          [0.1033, 0.0980, 0.1045, 0.1097, 0.1083, 0.0987, 0.0985, 0.1050,\n           0.0611, 0.1128, 0.0000, 0.0000, 0.0000],\n          [0.1018, 0.1084, 0.0888, 0.0940, 0.0435, 0.1020, 0.0983, 0.0852,\n           0.0864, 0.0970, 0.0946, 0.0000, 0.0000],\n          [0.0904, 0.0877, 0.0855, 0.0908, 0.0725, 0.0839, 0.0836, 0.0884,\n           0.0463, 0.0944, 0.0824, 0.0941, 0.0000],\n          [0.0137, 0.0132, 0.0279, 0.0205, 0.3802, 0.0165, 0.0145, 0.0312,\n           0.0164, 0.0273, 0.0171, 0.0287, 0.3929]]]], device='cuda:0'), tensor([[[[1.0000, 0.0000, 0.0000, 0.0000, 0.0000, 0.0000, 0.0000, 0.0000,\n           0.0000, 0.0000, 0.0000, 0.0000, 0.0000],\n          [0.4353, 0.5647, 0.0000, 0.0000, 0.0000, 0.0000, 0.0000, 0.0000,\n           0.0000, 0.0000, 0.0000, 0.0000, 0.0000],\n          [0.1977, 0.3705, 0.4318, 0.0000, 0.0000, 0.0000, 0.0000, 0.0000,\n           0.0000, 0.0000, 0.0000, 0.0000, 0.0000],\n          [0.1602, 0.2772, 0.3197, 0.2429, 0.0000, 0.0000, 0.0000, 0.0000,\n           0.0000, 0.0000, 0.0000, 0.0000, 0.0000],\n          [0.0849, 0.1009, 0.1291, 0.0689, 0.6162, 0.0000, 0.0000, 0.0000,\n           0.0000, 0.0000, 0.0000, 0.0000, 0.0000],\n          [0.0971, 0.1975, 0.2354, 0.1480, 0.1254, 0.1966, 0.0000, 0.0000,\n           0.0000, 0.0000, 0.0000, 0.0000, 0.0000],\n          [0.2243, 0.1125, 0.1148, 0.0720, 0.1148, 0.0801, 0.2816, 0.0000,\n           0.0000, 0.0000, 0.0000, 0.0000, 0.0000],\n          [0.1213, 0.1370, 0.1292, 0.1312, 0.0970, 0.1306, 0.1240, 0.1298,\n           0.0000, 0.0000, 0.0000, 0.0000, 0.0000],\n          [0.0630, 0.1160, 0.1402, 0.0740, 0.1407, 0.0979, 0.0819, 0.1024,\n           0.1839, 0.0000, 0.0000, 0.0000, 0.0000],\n          [0.0607, 0.1191, 0.1528, 0.1006, 0.0704, 0.1115, 0.0711, 0.0899,\n           0.1293, 0.0948, 0.0000, 0.0000, 0.0000],\n          [0.1284, 0.0680, 0.0714, 0.0397, 0.0867, 0.0459, 0.1681, 0.0585,\n           0.1023, 0.0384, 0.1923, 0.0000, 0.0000],\n          [0.0801, 0.0920, 0.0958, 0.0684, 0.0613, 0.0762, 0.0959, 0.0748,\n           0.1051, 0.0594, 0.1011, 0.0900, 0.0000],\n          [0.0303, 0.0435, 0.0586, 0.0272, 0.2446, 0.0306, 0.0384, 0.0528,\n           0.0850, 0.0298, 0.0452, 0.0622, 0.2517]],\n\n         [[1.0000, 0.0000, 0.0000, 0.0000, 0.0000, 0.0000, 0.0000, 0.0000,\n           0.0000, 0.0000, 0.0000, 0.0000, 0.0000],\n          [0.4327, 0.5673, 0.0000, 0.0000, 0.0000, 0.0000, 0.0000, 0.0000,\n           0.0000, 0.0000, 0.0000, 0.0000, 0.0000],\n          [0.3073, 0.3659, 0.3268, 0.0000, 0.0000, 0.0000, 0.0000, 0.0000,\n           0.0000, 0.0000, 0.0000, 0.0000, 0.0000],\n          [0.2289, 0.2577, 0.2441, 0.2693, 0.0000, 0.0000, 0.0000, 0.0000,\n           0.0000, 0.0000, 0.0000, 0.0000, 0.0000],\n          [0.1065, 0.0969, 0.1448, 0.1398, 0.5120, 0.0000, 0.0000, 0.0000,\n           0.0000, 0.0000, 0.0000, 0.0000, 0.0000],\n          [0.0987, 0.0753, 0.0595, 0.0506, 0.2125, 0.5035, 0.0000, 0.0000,\n           0.0000, 0.0000, 0.0000, 0.0000, 0.0000],\n          [0.1606, 0.2077, 0.1483, 0.1602, 0.0748, 0.0857, 0.1626, 0.0000,\n           0.0000, 0.0000, 0.0000, 0.0000, 0.0000],\n          [0.1225, 0.1263, 0.1245, 0.1015, 0.1170, 0.1518, 0.1286, 0.1278,\n           0.0000, 0.0000, 0.0000, 0.0000, 0.0000],\n          [0.1176, 0.1142, 0.1096, 0.1351, 0.0914, 0.0951, 0.1141, 0.1005,\n           0.1224, 0.0000, 0.0000, 0.0000, 0.0000],\n          [0.1067, 0.1272, 0.1148, 0.1164, 0.0873, 0.0631, 0.1063, 0.1152,\n           0.0617, 0.1014, 0.0000, 0.0000, 0.0000],\n          [0.0996, 0.1222, 0.0932, 0.0966, 0.0623, 0.0672, 0.1002, 0.1057,\n           0.0688, 0.0888, 0.0954, 0.0000, 0.0000],\n          [0.0864, 0.1195, 0.0962, 0.0823, 0.0535, 0.0455, 0.0926, 0.0945,\n           0.0611, 0.0701, 0.0861, 0.1122, 0.0000],\n          [0.0447, 0.0402, 0.0586, 0.0559, 0.2161, 0.0682, 0.0421, 0.0644,\n           0.0386, 0.0562, 0.0504, 0.0541, 0.2106]],\n\n         [[1.0000, 0.0000, 0.0000, 0.0000, 0.0000, 0.0000, 0.0000, 0.0000,\n           0.0000, 0.0000, 0.0000, 0.0000, 0.0000],\n          [0.3920, 0.6080, 0.0000, 0.0000, 0.0000, 0.0000, 0.0000, 0.0000,\n           0.0000, 0.0000, 0.0000, 0.0000, 0.0000],\n          [0.0137, 0.0518, 0.9345, 0.0000, 0.0000, 0.0000, 0.0000, 0.0000,\n           0.0000, 0.0000, 0.0000, 0.0000, 0.0000],\n          [0.2137, 0.3275, 0.1182, 0.3405, 0.0000, 0.0000, 0.0000, 0.0000,\n           0.0000, 0.0000, 0.0000, 0.0000, 0.0000],\n          [0.1936, 0.1944, 0.1309, 0.2078, 0.2733, 0.0000, 0.0000, 0.0000,\n           0.0000, 0.0000, 0.0000, 0.0000, 0.0000],\n          [0.1414, 0.0965, 0.1166, 0.0837, 0.1059, 0.4559, 0.0000, 0.0000,\n           0.0000, 0.0000, 0.0000, 0.0000, 0.0000],\n          [0.4912, 0.0193, 0.0037, 0.0065, 0.0135, 0.0127, 0.4531, 0.0000,\n           0.0000, 0.0000, 0.0000, 0.0000, 0.0000],\n          [0.0862, 0.1305, 0.1033, 0.1428, 0.1290, 0.1753, 0.0841, 0.1487,\n           0.0000, 0.0000, 0.0000, 0.0000, 0.0000],\n          [0.1125, 0.1248, 0.0941, 0.1481, 0.1150, 0.0835, 0.1060, 0.0871,\n           0.1290, 0.0000, 0.0000, 0.0000, 0.0000],\n          [0.1576, 0.1120, 0.0342, 0.1002, 0.0947, 0.0541, 0.1328, 0.1055,\n           0.1135, 0.0954, 0.0000, 0.0000, 0.0000],\n          [0.3184, 0.0124, 0.0026, 0.0042, 0.0094, 0.0114, 0.3008, 0.0111,\n           0.0257, 0.0092, 0.2949, 0.0000, 0.0000],\n          [0.1098, 0.0929, 0.0358, 0.0819, 0.0778, 0.0550, 0.0970, 0.0894,\n           0.0885, 0.0783, 0.0941, 0.0995, 0.0000],\n          [0.0600, 0.0660, 0.0573, 0.0739, 0.0944, 0.1361, 0.0596, 0.0930,\n           0.0736, 0.0554, 0.0661, 0.0684, 0.0961]]]], device='cuda:0'), tensor([[[[1.0000, 0.0000, 0.0000, 0.0000, 0.0000, 0.0000, 0.0000, 0.0000,\n           0.0000, 0.0000, 0.0000, 0.0000, 0.0000],\n          [0.7681, 0.2319, 0.0000, 0.0000, 0.0000, 0.0000, 0.0000, 0.0000,\n           0.0000, 0.0000, 0.0000, 0.0000, 0.0000],\n          [0.0615, 0.1691, 0.7695, 0.0000, 0.0000, 0.0000, 0.0000, 0.0000,\n           0.0000, 0.0000, 0.0000, 0.0000, 0.0000],\n          [0.2967, 0.2602, 0.1841, 0.2591, 0.0000, 0.0000, 0.0000, 0.0000,\n           0.0000, 0.0000, 0.0000, 0.0000, 0.0000],\n          [0.1233, 0.1400, 0.0809, 0.1213, 0.5345, 0.0000, 0.0000, 0.0000,\n           0.0000, 0.0000, 0.0000, 0.0000, 0.0000],\n          [0.1358, 0.0857, 0.1165, 0.0937, 0.0969, 0.4713, 0.0000, 0.0000,\n           0.0000, 0.0000, 0.0000, 0.0000, 0.0000],\n          [0.3319, 0.0851, 0.0358, 0.0825, 0.0821, 0.0723, 0.3103, 0.0000,\n           0.0000, 0.0000, 0.0000, 0.0000, 0.0000],\n          [0.2361, 0.0965, 0.0607, 0.0959, 0.0996, 0.0824, 0.2275, 0.1013,\n           0.0000, 0.0000, 0.0000, 0.0000, 0.0000],\n          [0.1260, 0.1138, 0.0862, 0.1474, 0.1293, 0.0747, 0.1244, 0.1168,\n           0.0815, 0.0000, 0.0000, 0.0000, 0.0000],\n          [0.1226, 0.0912, 0.0702, 0.1074, 0.1088, 0.0610, 0.1208, 0.0956,\n           0.0723, 0.1500, 0.0000, 0.0000, 0.0000],\n          [0.2088, 0.0544, 0.0231, 0.0519, 0.0584, 0.0507, 0.1954, 0.0585,\n           0.0559, 0.0502, 0.1928, 0.0000, 0.0000],\n          [0.1890, 0.0520, 0.0264, 0.0517, 0.0578, 0.0440, 0.1786, 0.0561,\n           0.0529, 0.0569, 0.1749, 0.0598, 0.0000],\n          [0.0483, 0.0603, 0.0403, 0.0537, 0.2169, 0.0442, 0.0483, 0.0678,\n           0.0394, 0.0496, 0.0539, 0.0784, 0.1989]],\n\n         [[1.0000, 0.0000, 0.0000, 0.0000, 0.0000, 0.0000, 0.0000, 0.0000,\n           0.0000, 0.0000, 0.0000, 0.0000, 0.0000],\n          [0.6445, 0.3555, 0.0000, 0.0000, 0.0000, 0.0000, 0.0000, 0.0000,\n           0.0000, 0.0000, 0.0000, 0.0000, 0.0000],\n          [0.3036, 0.2800, 0.4164, 0.0000, 0.0000, 0.0000, 0.0000, 0.0000,\n           0.0000, 0.0000, 0.0000, 0.0000, 0.0000],\n          [0.3170, 0.2045, 0.2154, 0.2631, 0.0000, 0.0000, 0.0000, 0.0000,\n           0.0000, 0.0000, 0.0000, 0.0000, 0.0000],\n          [0.2388, 0.1660, 0.1844, 0.2188, 0.1919, 0.0000, 0.0000, 0.0000,\n           0.0000, 0.0000, 0.0000, 0.0000, 0.0000],\n          [0.1701, 0.1214, 0.1494, 0.1453, 0.1254, 0.2883, 0.0000, 0.0000,\n           0.0000, 0.0000, 0.0000, 0.0000, 0.0000],\n          [0.1458, 0.1110, 0.1265, 0.1274, 0.1073, 0.2352, 0.1468, 0.0000,\n           0.0000, 0.0000, 0.0000, 0.0000, 0.0000],\n          [0.1551, 0.0930, 0.1015, 0.1240, 0.1065, 0.1728, 0.1508, 0.0963,\n           0.0000, 0.0000, 0.0000, 0.0000, 0.0000],\n          [0.1099, 0.0836, 0.0994, 0.0896, 0.0802, 0.1723, 0.1125, 0.0827,\n           0.1698, 0.0000, 0.0000, 0.0000, 0.0000],\n          [0.1201, 0.0742, 0.0898, 0.0972, 0.0744, 0.1588, 0.1187, 0.0761,\n           0.0869, 0.1037, 0.0000, 0.0000, 0.0000],\n          [0.0969, 0.0681, 0.0818, 0.0824, 0.0668, 0.1717, 0.0977, 0.0694,\n           0.0949, 0.0676, 0.1028, 0.0000, 0.0000],\n          [0.1118, 0.0562, 0.0638, 0.0831, 0.0667, 0.1317, 0.1079, 0.0588,\n           0.0718, 0.0750, 0.1123, 0.0609, 0.0000],\n          [0.0879, 0.0581, 0.0690, 0.0779, 0.0663, 0.1340, 0.0873, 0.0607,\n           0.0745, 0.0598, 0.0917, 0.0621, 0.0708]],\n\n         [[1.0000, 0.0000, 0.0000, 0.0000, 0.0000, 0.0000, 0.0000, 0.0000,\n           0.0000, 0.0000, 0.0000, 0.0000, 0.0000],\n          [0.1726, 0.8274, 0.0000, 0.0000, 0.0000, 0.0000, 0.0000, 0.0000,\n           0.0000, 0.0000, 0.0000, 0.0000, 0.0000],\n          [0.3074, 0.2783, 0.4144, 0.0000, 0.0000, 0.0000, 0.0000, 0.0000,\n           0.0000, 0.0000, 0.0000, 0.0000, 0.0000],\n          [0.0446, 0.1142, 0.1667, 0.6745, 0.0000, 0.0000, 0.0000, 0.0000,\n           0.0000, 0.0000, 0.0000, 0.0000, 0.0000],\n          [0.1688, 0.1716, 0.2248, 0.1474, 0.2874, 0.0000, 0.0000, 0.0000,\n           0.0000, 0.0000, 0.0000, 0.0000, 0.0000],\n          [0.1410, 0.1201, 0.1862, 0.1659, 0.1970, 0.1898, 0.0000, 0.0000,\n           0.0000, 0.0000, 0.0000, 0.0000, 0.0000],\n          [0.4113, 0.0619, 0.0337, 0.0135, 0.0526, 0.0444, 0.3826, 0.0000,\n           0.0000, 0.0000, 0.0000, 0.0000, 0.0000],\n          [0.0868, 0.2643, 0.0830, 0.1036, 0.0907, 0.0771, 0.0963, 0.1983,\n           0.0000, 0.0000, 0.0000, 0.0000, 0.0000],\n          [0.1126, 0.0768, 0.1248, 0.0961, 0.1335, 0.1303, 0.1084, 0.0864,\n           0.1310, 0.0000, 0.0000, 0.0000, 0.0000],\n          [0.0899, 0.0610, 0.0505, 0.0519, 0.0409, 0.0429, 0.0859, 0.0553,\n           0.0536, 0.4682, 0.0000, 0.0000, 0.0000],\n          [0.2516, 0.0421, 0.0229, 0.0094, 0.0353, 0.0296, 0.2350, 0.0445,\n           0.0325, 0.0677, 0.2293, 0.0000, 0.0000],\n          [0.0419, 0.2129, 0.0459, 0.0710, 0.0489, 0.0401, 0.0486, 0.1436,\n           0.0439, 0.0475, 0.0468, 0.2089, 0.0000],\n          [0.0660, 0.0635, 0.0912, 0.0594, 0.1156, 0.0896, 0.0648, 0.0692,\n           0.0871, 0.0471, 0.0657, 0.0644, 0.1164]]]], device='cuda:0')]]\n"
     ]
    }
   ],
   "source": [
    "\n",
    "print(a)\n",
    "with torch.no_grad():\n",
    "  cat, att_matrices = model_fixed_dict.generate(a[0], 1, do_sample=False)\n",
    "  print(cat)\n",
    "  print(att_matrices)"
   ]
  },
  {
   "cell_type": "code",
   "execution_count": 0,
   "metadata": {
    "application/vnd.databricks.v1+cell": {
     "cellMetadata": {
      "byteLimit": 2048000,
      "rowLimit": 10000
     },
     "inputWidgets": {},
     "nuid": "1598ae96-9c30-403e-8c59-1bb967bdd5be",
     "showTitle": false,
     "tableResultSettingsMap": {},
     "title": ""
    }
   },
   "outputs": [],
   "source": [
    "from matplotlib.colors import LogNorm, Normalize\n",
    "import numpy as np\n",
    "import pandas as pd"
   ]
  },
  {
   "cell_type": "code",
   "execution_count": 0,
   "metadata": {
    "application/vnd.databricks.v1+cell": {
     "cellMetadata": {
      "byteLimit": 2048000,
      "rowLimit": 10000
     },
     "inputWidgets": {},
     "nuid": "1bdb04e9-d267-48ed-8111-e6d45f2dc252",
     "showTitle": false,
     "tableResultSettingsMap": {},
     "title": ""
    }
   },
   "outputs": [
    {
     "output_type": "stream",
     "name": "stdout",
     "output_type": "stream",
     "text": [
      "<class 'torch.Tensor'>\ntorch.Size([1, 3, 13, 13])\n"
     ]
    },
    {
     "output_type": "display_data",
     "data": {
      "image/png": "[encoded data removed]",
      "text/plain": [
       "<Figure size 640x480 with 2 Axes>"
      ]
     },
     "metadata": {},
     "output_type": "display_data"
    },
    {
     "output_type": "display_data",
     "data": {
      "image/png": "[encoded data removed]",
      "text/plain": [
       "<Figure size 640x480 with 2 Axes>"
      ]
     },
     "metadata": {},
     "output_type": "display_data"
    },
    {
     "output_type": "display_data",
     "data": {
      "image/png": "[encoded data removed]",
      "text/plain": [
       "<Figure size 640x480 with 2 Axes>"
      ]
     },
     "metadata": {},
     "output_type": "display_data"
    }
   ],
   "source": [
    "print(type(att_matrices[0][0]))\n",
    "print(att_matrices[0][0].size())\n",
    "for i in range(att_matrices[0][0].size()[1]):\n",
    "  #plt.imshow(att_matrices[0][0][0][i].cpu(), cmap='hot', interpolation='nearest')\n",
    "  ax = sns.heatmap(att_matrices[0][0][0][i].cpu(), linewidth=0.5, norm=LogNorm())\n",
    "  plt.show()"
   ]
  },
  {
   "cell_type": "code",
   "execution_count": 0,
   "metadata": {
    "application/vnd.databricks.v1+cell": {
     "cellMetadata": {
      "byteLimit": 2048000,
      "rowLimit": 10000
     },
     "inputWidgets": {},
     "nuid": "628bfaf7-e602-4892-8cee-1afb2bde9b45",
     "showTitle": false,
     "tableResultSettingsMap": {},
     "title": ""
    }
   },
   "outputs": [],
   "source": [
    "def prettyprint(A):\n",
    "  A = np.array(A)\n",
    "  A = pd.DataFrame(A)\n",
    "  A.columns = ['']*A.shape[1]\n",
    "  print(A.to_string(index=False))"
   ]
  },
  {
   "cell_type": "code",
   "execution_count": 0,
   "metadata": {
    "application/vnd.databricks.v1+cell": {
     "cellMetadata": {
      "byteLimit": 2048000,
      "rowLimit": 10000
     },
     "inputWidgets": {},
     "nuid": "c90595e6-74b1-4a49-808a-4b41c6e66d18",
     "showTitle": false,
     "tableResultSettingsMap": {},
     "title": ""
    }
   },
   "outputs": [
    {
     "output_type": "stream",
     "name": "stdout",
     "output_type": "stream",
     "text": [
      "                                                                                                                    \n1.000000 0.000000 0.000000 0.000000 0.000000 0.000000 0.000000 0.000000 0.000000 0.000000 0.000000 0.000000 0.000000\n0.269497 0.730503 0.000000 0.000000 0.000000 0.000000 0.000000 0.000000 0.000000 0.000000 0.000000 0.000000 0.000000\n0.308010 0.463151 0.228839 0.000000 0.000000 0.000000 0.000000 0.000000 0.000000 0.000000 0.000000 0.000000 0.000000\n0.229616 0.273639 0.228209 0.268535 0.000000 0.000000 0.000000 0.000000 0.000000 0.000000 0.000000 0.000000 0.000000\n0.166004 0.168291 0.211204 0.174227 0.280274 0.000000 0.000000 0.000000 0.000000 0.000000 0.000000 0.000000 0.000000\n0.189196 0.119671 0.141106 0.110227 0.100873 0.338927 0.000000 0.000000 0.000000 0.000000 0.000000 0.000000 0.000000\n0.177108 0.094432 0.189303 0.071495 0.113394 0.127045 0.227221 0.000000 0.000000 0.000000 0.000000 0.000000 0.000000\n0.088933 0.165189 0.136423 0.107717 0.122513 0.092669 0.099894 0.186662 0.000000 0.000000 0.000000 0.000000 0.000000\n0.104758 0.112348 0.137095 0.095141 0.120338 0.080590 0.117116 0.108909 0.123705 0.000000 0.000000 0.000000 0.000000\n0.074970 0.057667 0.064157 0.066270 0.087101 0.073248 0.058716 0.043560 0.067594 0.406717 0.000000 0.000000 0.000000\n0.119294 0.057644 0.116866 0.047160 0.073864 0.084251 0.148229 0.059363 0.091224 0.042646 0.159458 0.000000 0.000000\n0.056767 0.125484 0.092221 0.078774 0.093150 0.045759 0.061394 0.124635 0.081570 0.041260 0.059984 0.139004 0.000000\n0.071337 0.066947 0.082893 0.070770 0.108756 0.055402 0.074558 0.070153 0.080135 0.064311 0.074514 0.075846 0.104377\n"
     ]
    }
   ],
   "source": [
    "prettyprint(att_matrices[0][0][0][0].cpu())"
   ]
  },
  {
   "cell_type": "code",
   "execution_count": 0,
   "metadata": {
    "application/vnd.databricks.v1+cell": {
     "cellMetadata": {
      "byteLimit": 2048000,
      "rowLimit": 10000
     },
     "inputWidgets": {},
     "nuid": "7eea4d37-f2b7-44b9-9c3c-0e5d801f876b",
     "showTitle": false,
     "tableResultSettingsMap": {},
     "title": ""
    }
   },
   "outputs": [
    {
     "output_type": "stream",
     "name": "stdout",
     "output_type": "stream",
     "text": [
      "number of parameters: 0.09M\nrunning on device cuda\niter_dt 0.00ms; iter 0: train loss 2.32059\niter_dt 12.50ms; iter 100: train loss 2.15733\niter_dt 13.75ms; iter 200: train loss 2.05771\niter_dt 12.57ms; iter 300: train loss 1.90284\niter_dt 12.35ms; iter 400: train loss 1.97802\niter_dt 12.57ms; iter 500: train loss 1.76750\niter_dt 12.87ms; iter 600: train loss 1.58136\niter_dt 12.80ms; iter 700: train loss 1.78509\niter_dt 12.59ms; iter 800: train loss 1.70332\niter_dt 14.10ms; iter 900: train loss 1.64320\niter_dt 14.02ms; iter 1000: train loss 1.73345\niter_dt 13.19ms; iter 1100: train loss 1.64181\niter_dt 13.19ms; iter 1200: train loss 1.75181\niter_dt 12.75ms; iter 1300: train loss 1.61917\niter_dt 13.87ms; iter 1400: train loss 1.59685\niter_dt 12.62ms; iter 1500: train loss 1.50174\niter_dt 12.64ms; iter 1600: train loss 1.80803\niter_dt 12.69ms; iter 1700: train loss 1.63901\niter_dt 13.95ms; iter 1800: train loss 1.73235\niter_dt 12.43ms; iter 1900: train loss 1.50058\niter_dt 12.60ms; iter 2000: train loss 1.65815\niter_dt 12.49ms; iter 2100: train loss 1.58113\niter_dt 12.77ms; iter 2200: train loss 1.50394\niter_dt 12.75ms; iter 2300: train loss 1.64981\niter_dt 12.71ms; iter 2400: train loss 1.45989\niter_dt 12.63ms; iter 2500: train loss 1.59971\niter_dt 13.67ms; iter 2600: train loss 1.56524\niter_dt 13.57ms; iter 2700: train loss 1.61107\niter_dt 13.62ms; iter 2800: train loss 1.74448\niter_dt 13.90ms; iter 2900: train loss 1.55276\niter_dt 13.98ms; iter 3000: train loss 1.58089\niter_dt 12.73ms; iter 3100: train loss 1.49873\niter_dt 14.07ms; iter 3200: train loss 1.52085\niter_dt 13.79ms; iter 3300: train loss 1.50026\niter_dt 12.60ms; iter 3400: train loss 1.57932\niter_dt 12.62ms; iter 3500: train loss 1.55459\niter_dt 15.91ms; iter 3600: train loss 1.48299\niter_dt 15.85ms; iter 3700: train loss 1.42206\niter_dt 16.03ms; iter 3800: train loss 1.23434\niter_dt 15.99ms; iter 3900: train loss 0.49753\niter_dt 15.98ms; iter 4000: train loss 0.08186\niter_dt 12.41ms; iter 4100: train loss 0.05974\niter_dt 12.56ms; iter 4200: train loss 0.08572\niter_dt 12.44ms; iter 4300: train loss 0.03099\niter_dt 12.60ms; iter 4400: train loss 0.12053\niter_dt 12.74ms; iter 4500: train loss 0.06895\niter_dt 12.54ms; iter 4600: train loss 0.00805\niter_dt 12.61ms; iter 4700: train loss 0.04388\niter_dt 12.55ms; iter 4800: train loss 0.00280\niter_dt 12.47ms; iter 4900: train loss 0.00465\niter_dt 12.50ms; iter 5000: train loss 0.00300\niter_dt 12.55ms; iter 5100: train loss 0.01399\niter_dt 12.45ms; iter 5200: train loss 0.16909\niter_dt 12.76ms; iter 5300: train loss 0.00708\niter_dt 12.56ms; iter 5400: train loss 0.19105\niter_dt 12.76ms; iter 5500: train loss 0.00183\niter_dt 12.50ms; iter 5600: train loss 0.02689\niter_dt 12.74ms; iter 5700: train loss 0.07753\niter_dt 12.51ms; iter 5800: train loss 0.00106\niter_dt 15.89ms; iter 5900: train loss 0.00182\niter_dt 16.01ms; iter 6000: train loss 0.01105\niter_dt 12.44ms; iter 6100: train loss 0.00112\niter_dt 13.09ms; iter 6200: train loss 0.00069\niter_dt 12.70ms; iter 6300: train loss 0.00098\niter_dt 12.54ms; iter 6400: train loss 0.00242\niter_dt 12.45ms; iter 6500: train loss 0.00752\niter_dt 12.41ms; iter 6600: train loss 0.00065\niter_dt 12.57ms; iter 6700: train loss 0.06894\niter_dt 12.65ms; iter 6800: train loss 0.00226\niter_dt 12.60ms; iter 6900: train loss 0.00215\niter_dt 12.71ms; iter 7000: train loss 0.00294\niter_dt 12.55ms; iter 7100: train loss 0.00040\niter_dt 12.58ms; iter 7200: train loss 0.10979\niter_dt 13.00ms; iter 7300: train loss 0.03040\niter_dt 12.81ms; iter 7400: train loss 0.00234\niter_dt 12.58ms; iter 7500: train loss 0.00036\niter_dt 12.56ms; iter 7600: train loss 0.00068\niter_dt 12.61ms; iter 7700: train loss 0.00053\niter_dt 12.49ms; iter 7800: train loss 0.00046\niter_dt 14.20ms; iter 7900: train loss 0.00066\niter_dt 14.12ms; iter 8000: train loss 0.00069\niter_dt 14.46ms; iter 8100: train loss 0.00525\niter_dt 12.78ms; iter 8200: train loss 0.00015\niter_dt 12.74ms; iter 8300: train loss 0.00047\niter_dt 12.38ms; iter 8400: train loss 0.06253\niter_dt 12.53ms; iter 8500: train loss 0.00022\niter_dt 13.79ms; iter 8600: train loss 0.01041\niter_dt 13.57ms; iter 8700: train loss 0.20557\niter_dt 13.65ms; iter 8800: train loss 0.00038\niter_dt 14.18ms; iter 8900: train loss 0.00031\niter_dt 13.73ms; iter 9000: train loss 0.00015\niter_dt 13.71ms; iter 9100: train loss 0.13779\niter_dt 14.08ms; iter 9200: train loss 0.00028\niter_dt 13.63ms; iter 9300: train loss 0.19376\niter_dt 12.60ms; iter 9400: train loss 0.00390\niter_dt 12.54ms; iter 9500: train loss 0.00050\niter_dt 13.63ms; iter 9600: train loss 0.00199\niter_dt 13.73ms; iter 9700: train loss 0.00019\niter_dt 12.54ms; iter 9800: train loss 0.00031\niter_dt 12.41ms; iter 9900: train loss 0.00087\n"
     ]
    }
   ],
   "source": [
    "model_changing_dict = GPT(model_config)\n",
    "train_config.max_iters = 10000\n",
    "trainer_changing_dict = Trainer(train_config, model_changing_dict, train_dataset_changing_dict)\n",
    "trainer_changing_dict.set_callback('on_batch_end', batch_end_callback)\n",
    "trainer_changing_dict.run()"
   ]
  },
  {
   "cell_type": "code",
   "execution_count": 0,
   "metadata": {
    "application/vnd.databricks.v1+cell": {
     "cellMetadata": {
      "byteLimit": 2048000,
      "rowLimit": 10000
     },
     "inputWidgets": {},
     "nuid": "3b5519d0-86e9-4bd3-93bb-61658c10a663",
     "showTitle": false,
     "tableResultSettingsMap": {},
     "title": ""
    }
   },
   "outputs": [
    {
     "output_type": "stream",
     "name": "stdout",
     "output_type": "stream",
     "text": [
      "GPT claims that [0, 0, 7, 2, 0, 0, 0, 0, 2, 5, 6, 6, 0] sorted is 5 but gt is 0\nGPT claims that [8, 8, 5, 1, 3, 4, 2, 3, 1, 7, 7, 9, 8] sorted is 6 but gt is 8\nGPT claims that [8, 8, 0, 2, 2, 0, 2, 0, 7, 4, 1, 9, 8] sorted is 0 but gt is 8\ntrain final score: 4993/5000 = 99.86% correct\nGPT claims that [1, 1, 9, 0, 2, 5, 7, 6, 3, 7, 5, 2, 7] sorted is 2 but gt is 6\nGPT claims that [1, 1, 0, 9, 5, 2, 6, 8, 9, 0, 4, 3, 9] sorted is 2 but gt is 0\nGPT claims that [0, 9, 0, 9, 1, 1, 1, 1, 0, 9, 7, 6, 1] sorted is 9 but gt is 1\ntest final score: 4987/5000 = 99.74% correct\nGPT claims that [1, 5, 4, 2, 5, 8, 5, 8, 3, 6, 0, 4, 3] sorted is 8 but gt is 6\nGPT claims that [5, 2, 1, 4, 4, 8, 9, 5, 4, 8, 2, 0, 9] sorted is 2 but gt is 5\nGPT claims that [4, 9, 2, 3, 4, 9, 5, 8, 2, 3, 9, 4, 9] sorted is 9 but gt is 4\ntest final score: 4985/5000 = 99.70% correct\nGPT claims that [4, 3, 9, 0, 2, 5, 1, 1, 2, 5, 8, 4, 9] sorted is 5 but gt is 0\nGPT claims that [0, 9, 1, 1, 7, 6, 0, 9, 0, 9, 1, 1, 1] sorted is 9 but gt is 1\nGPT claims that [1, 1, 7, 6, 7, 6, 7, 6, 0, 9, 2, 5, 1] sorted is 9 but gt is 1\ntest final score: 4985/5000 = 99.70% correct\n"
     ]
    }
   ],
   "source": [
    "# running a non cl trained trainer through non_cl dataset\n",
    "with torch.no_grad():\n",
    "    train_score_changing_dict = eval_split(trainer_changing_dict, model_changing_dict, train_dataset_changing_dict, max_batches=50, split='train')\n",
    "    test_score_fixed_dict  = eval_split(trainer_changing_dict, model_changing_dict, test_dataset_fixed_dict, max_batches=50, split='test')\n",
    "    test_score_changing_dict = eval_split(trainer_changing_dict, model_changing_dict, test_dataset_changing_dict, max_batches=50, split='test')\n",
    "    test_score_mixed_dict_x1 = eval_split(trainer_changing_dict, model_changing_dict, test_dataset_mixed_dict_x1, max_batches=50, split='test')"
   ]
  },
  {
   "cell_type": "code",
   "execution_count": 0,
   "metadata": {
    "application/vnd.databricks.v1+cell": {
     "cellMetadata": {
      "byteLimit": 2048000,
      "rowLimit": 10000
     },
     "inputWidgets": {},
     "nuid": "6ec209be-ac15-4718-988b-83beee6521aa",
     "showTitle": false,
     "tableResultSettingsMap": {},
     "title": ""
    }
   },
   "outputs": [
    {
     "output_type": "stream",
     "name": "stdout",
     "output_type": "stream",
     "text": [
      "number of parameters: 0.09M\nrunning on device cuda\nPrint to test changes are going though\niter_dt 0.00ms; iter 0: train loss 2.31494\niter_dt 13.74ms; iter 100: train loss 0.57485\niter_dt 13.74ms; iter 200: train loss 0.53255\niter_dt 18.30ms; iter 300: train loss 0.40923\niter_dt 13.95ms; iter 400: train loss 0.43687\niter_dt 13.77ms; iter 500: train loss 0.24094\niter_dt 13.60ms; iter 600: train loss 0.63664\niter_dt 14.26ms; iter 700: train loss 0.44738\niter_dt 13.72ms; iter 800: train loss 0.35075\niter_dt 13.96ms; iter 900: train loss 0.31174\niter_dt 13.86ms; iter 1000: train loss 0.16719\niter_dt 13.83ms; iter 1100: train loss 0.34252\niter_dt 14.01ms; iter 1200: train loss 0.32845\niter_dt 14.00ms; iter 1300: train loss 0.25798\niter_dt 13.92ms; iter 1400: train loss 0.34722\niter_dt 14.15ms; iter 1500: train loss 0.24603\niter_dt 13.91ms; iter 1600: train loss 0.16025\niter_dt 13.89ms; iter 1700: train loss 0.22432\niter_dt 13.71ms; iter 1800: train loss 0.20419\niter_dt 14.00ms; iter 1900: train loss 0.26213\niter_dt 14.14ms; iter 2000: train loss 0.12773\niter_dt 16.45ms; iter 2100: train loss 0.12364\niter_dt 13.68ms; iter 2200: train loss 0.10533\niter_dt 13.78ms; iter 2300: train loss 0.00921\niter_dt 13.57ms; iter 2400: train loss 0.11903\niter_dt 13.82ms; iter 2500: train loss 0.00300\niter_dt 13.72ms; iter 2600: train loss 0.00237\niter_dt 14.51ms; iter 2700: train loss 0.00249\niter_dt 13.78ms; iter 2800: train loss 0.00798\niter_dt 13.71ms; iter 2900: train loss 0.00097\niter_dt 13.89ms; iter 3000: train loss 0.04528\niter_dt 13.77ms; iter 3100: train loss 0.00086\niter_dt 13.66ms; iter 3200: train loss 0.00098\niter_dt 13.89ms; iter 3300: train loss 0.00038\niter_dt 13.92ms; iter 3400: train loss 0.00047\niter_dt 14.37ms; iter 3500: train loss 0.04801\niter_dt 13.85ms; iter 3600: train loss 0.00536\niter_dt 14.00ms; iter 3700: train loss 0.00041\niter_dt 14.05ms; iter 3800: train loss 0.00623\niter_dt 14.17ms; iter 3900: train loss 0.00042\niter_dt 14.08ms; iter 4000: train loss 0.07803\niter_dt 13.82ms; iter 4100: train loss 0.00069\niter_dt 13.70ms; iter 4200: train loss 0.12139\niter_dt 13.62ms; iter 4300: train loss 0.00065\niter_dt 14.01ms; iter 4400: train loss 0.00918\niter_dt 13.77ms; iter 4500: train loss 0.00047\niter_dt 13.71ms; iter 4600: train loss 0.20163\niter_dt 13.65ms; iter 4700: train loss 0.01950\niter_dt 13.92ms; iter 4800: train loss 0.00022\niter_dt 13.96ms; iter 4900: train loss 0.00114\niter_dt 13.82ms; iter 5000: train loss 0.00020\niter_dt 13.78ms; iter 5100: train loss 0.00312\niter_dt 13.92ms; iter 5200: train loss 0.00066\niter_dt 14.04ms; iter 5300: train loss 0.00255\niter_dt 13.83ms; iter 5400: train loss 0.00036\niter_dt 13.71ms; iter 5500: train loss 0.00020\niter_dt 14.01ms; iter 5600: train loss 0.00028\niter_dt 13.84ms; iter 5700: train loss 0.13690\niter_dt 13.89ms; iter 5800: train loss 0.00019\niter_dt 13.88ms; iter 5900: train loss 0.00013\niter_dt 13.67ms; iter 6000: train loss 0.00033\niter_dt 13.69ms; iter 6100: train loss 0.00021\niter_dt 13.69ms; iter 6200: train loss 0.17718\niter_dt 14.10ms; iter 6300: train loss 0.00022\niter_dt 13.84ms; iter 6400: train loss 0.00015\niter_dt 14.73ms; iter 6500: train loss 0.00012\niter_dt 13.69ms; iter 6600: train loss 0.00035\niter_dt 14.06ms; iter 6700: train loss 0.00012\niter_dt 14.03ms; iter 6800: train loss 0.00014\niter_dt 14.01ms; iter 6900: train loss 0.13155\niter_dt 13.74ms; iter 7000: train loss 0.00007\niter_dt 14.36ms; iter 7100: train loss 0.00010\niter_dt 13.78ms; iter 7200: train loss 0.00047\niter_dt 13.88ms; iter 7300: train loss 0.00064\niter_dt 13.75ms; iter 7400: train loss 0.00010\niter_dt 13.70ms; iter 7500: train loss 0.00065\niter_dt 13.86ms; iter 7600: train loss 0.00006\niter_dt 13.76ms; iter 7700: train loss 0.00045\niter_dt 13.84ms; iter 7800: train loss 0.00011\niter_dt 13.82ms; iter 7900: train loss 0.00008\niter_dt 14.24ms; iter 8000: train loss 0.00008\niter_dt 13.95ms; iter 8100: train loss 0.00041\niter_dt 13.76ms; iter 8200: train loss 0.00004\niter_dt 13.82ms; iter 8300: train loss 0.33552\niter_dt 13.77ms; iter 8400: train loss 0.00006\niter_dt 14.82ms; iter 8500: train loss 0.00083\niter_dt 13.84ms; iter 8600: train loss 0.00008\niter_dt 13.85ms; iter 8700: train loss 0.00213\niter_dt 13.91ms; iter 8800: train loss 0.00045\niter_dt 13.91ms; iter 8900: train loss 0.00028\niter_dt 14.07ms; iter 9000: train loss 0.00008\niter_dt 14.29ms; iter 9100: train loss 0.00005\niter_dt 13.78ms; iter 9200: train loss 0.09678\niter_dt 14.71ms; iter 9300: train loss 0.15190\niter_dt 14.96ms; iter 9400: train loss 0.00007\niter_dt 13.77ms; iter 9500: train loss 0.00006\niter_dt 13.66ms; iter 9600: train loss 0.00014\niter_dt 13.85ms; iter 9700: train loss 0.00037\niter_dt 13.90ms; iter 9800: train loss 0.00096\niter_dt 13.83ms; iter 9900: train loss 0.00016\n"
     ]
    }
   ],
   "source": [
    "model_mixed_dict_x1 = GPT(model_config)\n",
    "train_config.max_iters = 10000\n",
    "trainer_mixed_dict_x1 = Trainer(train_config, model_mixed_dict_x1, train_dataset_mixed_dict_x1)\n",
    "trainer_mixed_dict_x1.set_callback('on_batch_end', batch_end_callback)\n",
    "trainer_mixed_dict_x1.run()"
   ]
  },
  {
   "cell_type": "code",
   "execution_count": 0,
   "metadata": {
    "application/vnd.databricks.v1+cell": {
     "cellMetadata": {},
     "inputWidgets": {},
     "nuid": "25f8f3aa-ee2b-4791-97d5-edd7346deb8d",
     "showTitle": false,
     "tableResultSettingsMap": {},
     "title": ""
    }
   },
   "outputs": [],
   "source": [
    "loader = DataLoader(dataset, batch_size=100, num_workers=0, drop_last=False)\n",
    "for b, (x, y) in enumerate(loader):\n",
    "    #print(x,y)\n",
    "    x = x.to(trainer.device)\n",
    "    y = y.to(trainer.device)\n",
    "    # isolate the input pattern alone\n",
    "    inp = x\n",
    "    sol = y[:, -1]\n",
    "    #print(inp.size())\n",
    "    # let the model sample the rest of the sequence\n",
    "    cat, att_matrices = model.generate(inp, 1, do_sample=False) # using greedy argmax, not sampling\n",
    "    print(len(att_matrices))\n",
    "    sol_candidate = cat[:, -1] # isolate the filled in sequence\n",
    "    # compare the predicted sequence to the true sequence\n",
    "    #print(sol, sol_candidate)\n",
    "    correct = (sol == sol_candidate).cpu() # Software 1.0 vs. Software 2.0 fight RIGHT on this line haha\n",
    "    #print(x.size(0))\n",
    "    #print(correct)\n",
    "    for i in range(x.size(0)):\n",
    "        results.append(int(correct[i]))\n",
    "        if not correct[i] and mistakes_printed_already < 3: # only print up to 5 mistakes to get a sense\n",
    "            mistakes_printed_already += 1\n",
    "            print(\"GPT claims that %s sorted is %s but gt is %s\" % (inp[i].tolist(), sol_candidate[i].tolist(), sol[i].tolist()))\n",
    "    if max_batches is not None and b+1 >= max_batches:\n",
    "        break"
   ]
  },
  {
   "cell_type": "code",
   "execution_count": 0,
   "metadata": {
    "application/vnd.databricks.v1+cell": {
     "cellMetadata": {
      "byteLimit": 2048000,
      "rowLimit": 10000
     },
     "inputWidgets": {},
     "nuid": "eff499c2-fb57-4560-9e3e-8470684be8cd",
     "showTitle": false,
     "tableResultSettingsMap": {},
     "title": ""
    }
   },
   "outputs": [
    {
     "output_type": "stream",
     "name": "stdout",
     "output_type": "stream",
     "text": [
      "tensor([9, 1, 5, 7, 3, 2, 8, 6, 4, 0])\ntensor([9, 1, 5, 7, 3, 2, 8, 6, 4, 0])\n"
     ]
    }
   ],
   "source": [
    "print(train_dataset_mixed_dict_x1.dictionary)\n",
    "print(train_dataset_fixed_dict.dictionary)"
   ]
  },
  {
   "cell_type": "code",
   "execution_count": 0,
   "metadata": {
    "application/vnd.databricks.v1+cell": {
     "cellMetadata": {
      "byteLimit": 2048000,
      "rowLimit": 10000
     },
     "inputWidgets": {},
     "nuid": "5a939777-caa8-469f-841c-8e87492d16e0",
     "showTitle": false,
     "tableResultSettingsMap": {},
     "title": ""
    }
   },
   "outputs": [
    {
     "output_type": "stream",
     "name": "stdout",
     "output_type": "stream",
     "text": [
      "GPT claims that [6, 5, 7, 7, 3, 0, 3, 0, 3, 0, 9, 1, 6] sorted is 0 but gt is 5\nGPT claims that [9, 0, 4, 3, 0, 9, 5, 2, 6, 8, 3, 7, 5] sorted is 6 but gt is 2\nGPT claims that [3, 5, 6, 9, 1, 8, 6, 9, 6, 9, 5, 3, 3] sorted is 3 but gt is 5\ntrain final score: 4989/5000 = 99.78% correct\nGPT claims that [2, 5, 5, 2, 0, 9, 2, 5, 7, 6, 2, 5, 0] sorted is 2 but gt is 9\nGPT claims that [3, 7, 2, 5, 5, 2, 5, 2, 9, 0, 8, 4, 3] sorted is 3 but gt is 7\nGPT claims that [9, 0, 6, 8, 2, 5, 3, 7, 2, 5, 7, 6, 9] sorted is 5 but gt is 0\ntest final score: 4992/5000 = 99.84% correct\nGPT claims that [7, 6, 0, 8, 4, 3, 3, 9, 6, 5, 4, 3, 0] sorted is 3 but gt is 8\nGPT claims that [9, 2, 6, 6, 2, 5, 5, 9, 7, 3, 1, 0, 9] sorted is 0 but gt is 2\nGPT claims that [0, 3, 6, 4, 4, 0, 1, 1, 4, 0, 3, 6, 6] sorted is 6 but gt is 4\ntest final score: 4946/5000 = 98.92% correct\nGPT claims that [4, 3, 2, 5, 4, 3, 7, 6, 6, 8, 4, 3, 7] sorted is 9 but gt is 6\nGPT claims that [8, 0, 5, 4, 0, 7, 7, 1, 3, 3, 5, 4, 8] sorted is 8 but gt is 0\nGPT claims that [9, 0, 0, 9, 4, 3, 8, 4, 5, 2, 3, 7, 4] sorted is 6 but gt is 3\ntest final score: 4993/5000 = 99.86% correct\n"
     ]
    }
   ],
   "source": [
    "with torch.no_grad():\n",
    "    train_score_mixed_dict_x1 = eval_split(trainer_mixed_dict_x1, model_mixed_dict_x1, train_dataset_mixed_dict_x1, max_batches=50, split='train')\n",
    "    test_score_fixed_dict  = eval_split(trainer_mixed_dict_x1, model_mixed_dict_x1, test_dataset_fixed_dict, max_batches=50, split='test')\n",
    "    test_score_changing_dict = eval_split(trainer_mixed_dict_x1, model_mixed_dict_x1, test_dataset_changing_dict, max_batches=50, split='test')\n",
    "    test_score_mixed_dict_x1 = eval_split(trainer_mixed_dict_x1, model_mixed_dict_x1, test_dataset_mixed_dict_x1, max_batches=50, split='test')"
   ]
  },
  {
   "cell_type": "code",
   "execution_count": 0,
   "metadata": {
    "application/vnd.databricks.v1+cell": {
     "cellMetadata": {
      "byteLimit": 2048000,
      "rowLimit": 10000
     },
     "inputWidgets": {},
     "nuid": "055dff29-04c5-49da-8982-40333fe4e5fd",
     "showTitle": false,
     "tableResultSettingsMap": {},
     "title": ""
    }
   },
   "outputs": [],
   "source": [
    "from torch.utils.data import Dataset\n",
    "\n",
    "class KVRetrievalDatasetMixedDictSeparatedVocab(Dataset):\n",
    "    \"\"\" \n",
    "    Dataset for InContext Learning. \n",
    "    \"\"\"\n",
    "\n",
    "    def __init__(self, split, length=6, vocab_size=10, additional_vocab = 2, dictionary=None, mixing_fraction=0.0):\n",
    "        assert split in {'train', 'test'}\n",
    "        self.split = split\n",
    "        self.length = length\n",
    "        self.vocab_size = 2*vocab_size + additional_vocab\n",
    "        self.true_vocab_size = vocab_size\n",
    "        self.mixing_fraction = mixing_fraction\n",
    "        self.dictionary = dictionary if dictionary is not None else self._generate_dictionary()\n",
    "          \n",
    "    def _generate_dictionary(self):\n",
    "        return torch.randperm(self.true_vocab_size)\n",
    "\n",
    "    def _generate_extended_dictionary(self):\n",
    "        return torch.randperm(self.true_vocab_size) + self.true_vocab_size\n",
    "\n",
    "    def __len__(self):\n",
    "        return 10000 # ...\n",
    "    \n",
    "    def get_vocab_size(self):\n",
    "        return self.vocab_size\n",
    "    \n",
    "    def get_block_size(self):\n",
    "        # the length of the sequence that will feed into transformer, \n",
    "        # containing concatenated input and the output, but -1 because\n",
    "        # the transformer starts making predictions at the last input element\n",
    "        return 2*self.length + 1\n",
    "\n",
    "    def __getitem__(self, idx):\n",
    "        decider = torch.rand(1) < 0.5\n",
    "        dictionary = self.dictionary if decider else self._generate_extended_dictionary()\n",
    "        context_keys = torch.randint(self.true_vocab_size, size=(self.length,), dtype=torch.long)\n",
    "        context_labels = torch.index_select(dictionary, 0, context_keys)\n",
    "        # find a key thats appeared in this context\n",
    "        question_key = torch.index_select(context_keys, 0, torch.randint(self.length, size=(1,), dtype=torch.long))\n",
    "        question_label = torch.index_select(dictionary, 0, question_key)\n",
    "        # make final context\n",
    "        context_keys = torch.concat([context_keys, question_key], dim=0) if decider else torch.concat([context_keys + self.true_vocab_size, question_key + self.true_vocab_size], dim=0)\n",
    "        context_labels = torch.concat([context_labels, question_label], dim=0)\n",
    "\n",
    "\n",
    "        \n",
    "        #interleave them\n",
    "        full_context = torch.flatten(torch.stack([context_keys, context_labels]).t())\n",
    "        # provide everything but the last label to TX\n",
    "        x = full_context[:-1].clone()\n",
    "        # Mask everything but the last label in the loss\n",
    "        y = full_context[1:].clone()\n",
    "        y[:2*self.length] = -1\n",
    "        return x, y"
   ]
  },
  {
   "cell_type": "code",
   "execution_count": 0,
   "metadata": {
    "application/vnd.databricks.v1+cell": {
     "cellMetadata": {
      "byteLimit": 2048000,
      "rowLimit": 10000
     },
     "inputWidgets": {},
     "nuid": "d7bf8772-6ed6-4cd9-81b3-7295733d9bb8",
     "showTitle": false,
     "tableResultSettingsMap": {},
     "title": ""
    }
   },
   "outputs": [],
   "source": [
    "train_dataset_mixed_dict_x1_sep_vocab = KVRetrievalDatasetMixedDictSeparatedVocab('train', length=length, dictionary=train_dataset_fixed_dict.dictionary, mixing_fraction=0.5, vocab_size=vocab_size)"
   ]
  },
  {
   "cell_type": "code",
   "execution_count": 0,
   "metadata": {
    "application/vnd.databricks.v1+cell": {
     "cellMetadata": {
      "byteLimit": 2048000,
      "rowLimit": 10000
     },
     "inputWidgets": {},
     "nuid": "34a39900-450d-4d38-b0e6-c02282cc9bd5",
     "showTitle": false,
     "tableResultSettingsMap": {},
     "title": ""
    }
   },
   "outputs": [
    {
     "output_type": "stream",
     "name": "stdout",
     "output_type": "stream",
     "text": [
      "tensor([9, 1, 5, 7, 3, 2, 8, 6, 4, 0])\ntensor([9, 1, 5, 7, 3, 2, 8, 6, 4, 0])\n(tensor([13, 16, 10, 18, 10, 18, 14, 11, 19, 15, 12, 19, 10]), tensor([-1, -1, -1, -1, -1, -1, -1, -1, -1, -1, -1, -1, 18]))\n(tensor([7, 6, 0, 9, 4, 3, 9, 0, 4, 3, 8, 4, 7]), tensor([-1, -1, -1, -1, -1, -1, -1, -1, -1, -1, -1, -1,  6]))\n(tensor([17, 13, 13, 16, 19, 14, 19, 14, 16, 11, 12, 10, 13]), tensor([-1, -1, -1, -1, -1, -1, -1, -1, -1, -1, -1, -1, 16]))\n(tensor([15, 11, 19, 14, 16, 10, 14, 19, 11, 17, 15, 11, 14]), tensor([-1, -1, -1, -1, -1, -1, -1, -1, -1, -1, -1, -1, 19]))\n(tensor([14, 12, 18, 15, 19, 19, 10, 17, 18, 15, 10, 17, 10]), tensor([-1, -1, -1, -1, -1, -1, -1, -1, -1, -1, -1, -1, 17]))\n(tensor([11, 15, 15, 10, 11, 15, 16, 17, 11, 15, 16, 17, 16]), tensor([-1, -1, -1, -1, -1, -1, -1, -1, -1, -1, -1, -1, 17]))\n(tensor([11, 17, 11, 17, 12, 12, 11, 17, 16, 13, 11, 17, 11]), tensor([-1, -1, -1, -1, -1, -1, -1, -1, -1, -1, -1, -1, 17]))\n(tensor([13, 17, 12, 12, 10, 15, 15, 16, 13, 17, 16, 18, 10]), tensor([-1, -1, -1, -1, -1, -1, -1, -1, -1, -1, -1, -1, 15]))\n(tensor([14, 15, 18, 16, 19, 18, 18, 16, 12, 12, 17, 14, 14]), tensor([-1, -1, -1, -1, -1, -1, -1, -1, -1, -1, -1, -1, 15]))\n(tensor([10, 15, 10, 15, 10, 15, 10, 15, 14, 19, 19, 13, 14]), tensor([-1, -1, -1, -1, -1, -1, -1, -1, -1, -1, -1, -1, 19]))\n(tensor([13, 18, 15, 11, 12, 19, 18, 12, 13, 18, 11, 15, 13]), tensor([-1, -1, -1, -1, -1, -1, -1, -1, -1, -1, -1, -1, 18]))\n(tensor([15, 12, 13, 14, 15, 12, 17, 18, 17, 18, 16, 13, 17]), tensor([-1, -1, -1, -1, -1, -1, -1, -1, -1, -1, -1, -1, 18]))\n(tensor([1, 1, 0, 9, 8, 4, 5, 2, 4, 3, 0, 9, 1]), tensor([-1, -1, -1, -1, -1, -1, -1, -1, -1, -1, -1, -1,  1]))\n(tensor([3, 7, 1, 1, 2, 5, 2, 5, 1, 1, 8, 4, 3]), tensor([-1, -1, -1, -1, -1, -1, -1, -1, -1, -1, -1, -1,  7]))\n(tensor([3, 7, 2, 5, 3, 7, 2, 5, 9, 0, 3, 7, 3]), tensor([-1, -1, -1, -1, -1, -1, -1, -1, -1, -1, -1, -1,  7]))\n"
     ]
    }
   ],
   "source": [
    "print(train_dataset_mixed_dict_x1_sep_vocab.dictionary)\n",
    "print(train_dataset_fixed_dict.dictionary)\n",
    "\n",
    "for i in range(15):\n",
    "  print(train_dataset_mixed_dict_x1_sep_vocab[i])"
   ]
  },
  {
   "cell_type": "code",
   "execution_count": 0,
   "metadata": {
    "application/vnd.databricks.v1+cell": {
     "cellMetadata": {
      "byteLimit": 2048000,
      "rowLimit": 10000
     },
     "inputWidgets": {},
     "nuid": "5a20c141-1457-4174-8cc4-a1898ea27cda",
     "showTitle": false,
     "tableResultSettingsMap": {},
     "title": ""
    }
   },
   "outputs": [
    {
     "output_type": "stream",
     "name": "stdout",
     "output_type": "stream",
     "text": [
      "number of parameters: 0.09M\nrunning on device cuda\niter_dt 0.00ms; iter 0: train loss 3.13697\niter_dt 13.80ms; iter 100: train loss 1.64139\niter_dt 14.57ms; iter 200: train loss 1.14677\niter_dt 13.89ms; iter 300: train loss 1.22756\niter_dt 13.84ms; iter 400: train loss 1.14750\niter_dt 13.76ms; iter 500: train loss 1.21383\niter_dt 13.85ms; iter 600: train loss 0.71264\niter_dt 13.73ms; iter 700: train loss 0.95512\niter_dt 14.54ms; iter 800: train loss 0.94221\niter_dt 13.65ms; iter 900: train loss 0.74103\niter_dt 13.59ms; iter 1000: train loss 1.08887\niter_dt 14.07ms; iter 1100: train loss 0.56927\niter_dt 13.76ms; iter 1200: train loss 0.64409\niter_dt 13.77ms; iter 1300: train loss 0.95438\niter_dt 13.86ms; iter 1400: train loss 0.83682\niter_dt 13.76ms; iter 1500: train loss 0.76936\niter_dt 13.83ms; iter 1600: train loss 0.91122\niter_dt 13.89ms; iter 1700: train loss 0.89596\niter_dt 14.03ms; iter 1800: train loss 0.86192\niter_dt 13.85ms; iter 1900: train loss 0.94112\niter_dt 13.80ms; iter 2000: train loss 0.69902\niter_dt 14.15ms; iter 2100: train loss 0.56270\niter_dt 13.91ms; iter 2200: train loss 0.75976\niter_dt 13.96ms; iter 2300: train loss 0.91134\niter_dt 13.81ms; iter 2400: train loss 0.77450\niter_dt 14.23ms; iter 2500: train loss 0.92181\niter_dt 14.05ms; iter 2600: train loss 0.78430\niter_dt 13.88ms; iter 2700: train loss 0.52955\niter_dt 13.62ms; iter 2800: train loss 0.87306\niter_dt 13.88ms; iter 2900: train loss 0.86687\niter_dt 14.14ms; iter 3000: train loss 0.84487\niter_dt 15.09ms; iter 3100: train loss 0.94957\niter_dt 13.81ms; iter 3200: train loss 0.80125\niter_dt 14.44ms; iter 3300: train loss 0.80794\niter_dt 13.95ms; iter 3400: train loss 0.80577\niter_dt 15.20ms; iter 3500: train loss 0.74616\niter_dt 15.09ms; iter 3600: train loss 0.83342\niter_dt 13.82ms; iter 3700: train loss 0.82366\niter_dt 13.60ms; iter 3800: train loss 0.85107\niter_dt 15.03ms; iter 3900: train loss 0.82899\niter_dt 14.85ms; iter 4000: train loss 0.87547\niter_dt 15.18ms; iter 4100: train loss 0.91724\niter_dt 15.18ms; iter 4200: train loss 0.60247\niter_dt 15.22ms; iter 4300: train loss 0.98849\niter_dt 15.04ms; iter 4400: train loss 0.70384\niter_dt 13.79ms; iter 4500: train loss 0.71055\niter_dt 13.88ms; iter 4600: train loss 0.81034\niter_dt 13.86ms; iter 4700: train loss 0.75111\niter_dt 14.79ms; iter 4800: train loss 1.09186\niter_dt 14.16ms; iter 4900: train loss 0.66918\niter_dt 13.78ms; iter 5000: train loss 0.62241\niter_dt 13.82ms; iter 5100: train loss 0.95831\niter_dt 13.57ms; iter 5200: train loss 0.71058\niter_dt 13.81ms; iter 5300: train loss 0.83265\niter_dt 13.93ms; iter 5400: train loss 0.67516\niter_dt 14.28ms; iter 5500: train loss 0.72402\niter_dt 14.01ms; iter 5600: train loss 0.78472\niter_dt 13.79ms; iter 5700: train loss 0.89972\niter_dt 14.23ms; iter 5800: train loss 0.88867\niter_dt 13.89ms; iter 5900: train loss 0.72017\niter_dt 13.83ms; iter 6000: train loss 0.78082\niter_dt 13.76ms; iter 6100: train loss 0.65763\niter_dt 14.12ms; iter 6200: train loss 0.84206\niter_dt 14.04ms; iter 6300: train loss 0.93474\niter_dt 16.82ms; iter 6400: train loss 0.59758\niter_dt 14.19ms; iter 6500: train loss 0.77757\niter_dt 14.04ms; iter 6600: train loss 0.81279\niter_dt 13.95ms; iter 6700: train loss 0.75376\niter_dt 13.78ms; iter 6800: train loss 0.74810\niter_dt 13.82ms; iter 6900: train loss 0.90077\niter_dt 13.56ms; iter 7000: train loss 0.86059\niter_dt 13.75ms; iter 7100: train loss 0.59033\niter_dt 13.84ms; iter 7200: train loss 0.92274\niter_dt 14.24ms; iter 7300: train loss 0.96424\niter_dt 13.80ms; iter 7400: train loss 0.91698\niter_dt 14.07ms; iter 7500: train loss 0.92638\niter_dt 18.24ms; iter 7600: train loss 0.70476\niter_dt 17.73ms; iter 7700: train loss 0.80970\niter_dt 18.20ms; iter 7800: train loss 0.73191\niter_dt 17.87ms; iter 7900: train loss 0.69461\niter_dt 18.25ms; iter 8000: train loss 0.57759\niter_dt 18.10ms; iter 8100: train loss 0.61446\niter_dt 17.68ms; iter 8200: train loss 0.82978\niter_dt 17.90ms; iter 8300: train loss 0.89257\niter_dt 18.32ms; iter 8400: train loss 0.74580\niter_dt 17.60ms; iter 8500: train loss 0.92955\niter_dt 18.45ms; iter 8600: train loss 0.74241\niter_dt 18.16ms; iter 8700: train loss 0.63093\niter_dt 17.89ms; iter 8800: train loss 0.85065\niter_dt 17.76ms; iter 8900: train loss 1.03763\niter_dt 13.92ms; iter 9000: train loss 0.71374\niter_dt 13.98ms; iter 9100: train loss 0.98324\niter_dt 13.63ms; iter 9200: train loss 0.77715\niter_dt 13.77ms; iter 9300: train loss 0.80193\niter_dt 13.76ms; iter 9400: train loss 0.80713\niter_dt 13.70ms; iter 9500: train loss 0.67785\niter_dt 13.57ms; iter 9600: train loss 0.57289\niter_dt 13.48ms; iter 9700: train loss 0.59555\niter_dt 13.89ms; iter 9800: train loss 0.79169\niter_dt 13.92ms; iter 9900: train loss 0.92141\niter_dt 14.39ms; iter 10000: train loss 0.81835\niter_dt 14.40ms; iter 10100: train loss 0.88602\niter_dt 14.07ms; iter 10200: train loss 0.82683\niter_dt 13.77ms; iter 10300: train loss 0.76099\niter_dt 13.75ms; iter 10400: train loss 0.76621\niter_dt 13.87ms; iter 10500: train loss 0.70027\niter_dt 13.72ms; iter 10600: train loss 0.64899\niter_dt 14.25ms; iter 10700: train loss 1.08491\niter_dt 13.80ms; iter 10800: train loss 0.89220\niter_dt 13.86ms; iter 10900: train loss 0.78930\niter_dt 17.35ms; iter 11000: train loss 0.82936\niter_dt 13.70ms; iter 11100: train loss 0.71064\niter_dt 13.73ms; iter 11200: train loss 0.78422\niter_dt 13.90ms; iter 11300: train loss 0.94576\niter_dt 13.86ms; iter 11400: train loss 0.67206\niter_dt 14.14ms; iter 11500: train loss 0.88024\niter_dt 14.09ms; iter 11600: train loss 0.66469\niter_dt 14.06ms; iter 11700: train loss 0.72095\niter_dt 15.14ms; iter 11800: train loss 0.80566\niter_dt 13.76ms; iter 11900: train loss 0.88586\niter_dt 14.02ms; iter 12000: train loss 0.81118\niter_dt 13.91ms; iter 12100: train loss 0.95215\niter_dt 14.06ms; iter 12200: train loss 0.80993\niter_dt 14.51ms; iter 12300: train loss 0.79414\niter_dt 14.00ms; iter 12400: train loss 0.99916\niter_dt 13.96ms; iter 12500: train loss 0.73195\niter_dt 13.86ms; iter 12600: train loss 0.90404\niter_dt 13.99ms; iter 12700: train loss 0.72184\niter_dt 14.21ms; iter 12800: train loss 0.76324\niter_dt 13.92ms; iter 12900: train loss 0.83203\niter_dt 14.73ms; iter 13000: train loss 0.84179\niter_dt 14.65ms; iter 13100: train loss 0.65905\niter_dt 14.53ms; iter 13200: train loss 0.83279\niter_dt 14.18ms; iter 13300: train loss 0.73481\niter_dt 14.06ms; iter 13400: train loss 0.76949\niter_dt 15.30ms; iter 13500: train loss 0.77106\niter_dt 15.47ms; iter 13600: train loss 0.70732\niter_dt 13.99ms; iter 13700: train loss 0.82713\niter_dt 13.70ms; iter 13800: train loss 0.77085\niter_dt 14.09ms; iter 13900: train loss 0.90346\niter_dt 14.38ms; iter 14000: train loss 0.63892\niter_dt 15.07ms; iter 14100: train loss 0.89684\niter_dt 13.72ms; iter 14200: train loss 0.86749\niter_dt 14.05ms; iter 14300: train loss 0.79043\niter_dt 13.65ms; iter 14400: train loss 0.73997\niter_dt 13.73ms; iter 14500: train loss 0.86482\niter_dt 14.01ms; iter 14600: train loss 0.78440\niter_dt 13.64ms; iter 14700: train loss 0.81081\niter_dt 14.05ms; iter 14800: train loss 0.81483\niter_dt 13.99ms; iter 14900: train loss 0.69968\niter_dt 13.89ms; iter 15000: train loss 0.72522\niter_dt 15.05ms; iter 15100: train loss 0.73748\niter_dt 13.71ms; iter 15200: train loss 0.76785\niter_dt 13.61ms; iter 15300: train loss 0.88679\niter_dt 15.76ms; iter 15400: train loss 0.59667\niter_dt 15.39ms; iter 15500: train loss 0.74207\niter_dt 14.29ms; iter 15600: train loss 0.86689\niter_dt 15.25ms; iter 15700: train loss 0.64362\niter_dt 15.62ms; iter 15800: train loss 0.85932\niter_dt 15.16ms; iter 15900: train loss 0.71064\niter_dt 15.33ms; iter 16000: train loss 0.87517\niter_dt 15.04ms; iter 16100: train loss 0.87150\niter_dt 13.92ms; iter 16200: train loss 0.73362\niter_dt 15.22ms; iter 16300: train loss 0.76016\niter_dt 15.48ms; iter 16400: train loss 0.81844\niter_dt 13.89ms; iter 16500: train loss 0.88439\niter_dt 15.95ms; iter 16600: train loss 0.80591\niter_dt 14.92ms; iter 16700: train loss 0.82967\niter_dt 15.26ms; iter 16800: train loss 0.67163\niter_dt 15.23ms; iter 16900: train loss 0.98110\niter_dt 14.90ms; iter 17000: train loss 0.75621\niter_dt 14.88ms; iter 17100: train loss 0.77435\niter_dt 15.28ms; iter 17200: train loss 0.83728\niter_dt 15.44ms; iter 17300: train loss 0.76543\niter_dt 15.16ms; iter 17400: train loss 0.75110\niter_dt 15.04ms; iter 17500: train loss 0.94445\niter_dt 15.09ms; iter 17600: train loss 0.73324\niter_dt 13.79ms; iter 17700: train loss 0.95273\niter_dt 13.74ms; iter 17800: train loss 0.77148\niter_dt 13.72ms; iter 17900: train loss 0.67987\niter_dt 13.76ms; iter 18000: train loss 0.85739\niter_dt 13.64ms; iter 18100: train loss 0.93258\niter_dt 13.73ms; iter 18200: train loss 0.90694\niter_dt 13.67ms; iter 18300: train loss 0.71856\niter_dt 13.92ms; iter 18400: train loss 0.66676\niter_dt 13.93ms; iter 18500: train loss 0.86133\niter_dt 14.08ms; iter 18600: train loss 0.80895\niter_dt 15.37ms; iter 18700: train loss 0.72428\niter_dt 15.90ms; iter 18800: train loss 0.65352\niter_dt 15.29ms; iter 18900: train loss 0.77419\niter_dt 14.13ms; iter 19000: train loss 0.75220\niter_dt 13.74ms; iter 19100: train loss 0.77845\niter_dt 14.17ms; iter 19200: train loss 0.79007\niter_dt 13.89ms; iter 19300: train loss 0.83106\niter_dt 14.95ms; iter 19400: train loss 0.89004\niter_dt 14.00ms; iter 19500: train loss 0.76246\niter_dt 13.82ms; iter 19600: train loss 0.89292\niter_dt 13.70ms; iter 19700: train loss 0.77647\niter_dt 14.40ms; iter 19800: train loss 0.81523\niter_dt 14.79ms; iter 19900: train loss 0.82864\niter_dt 14.48ms; iter 20000: train loss 0.52349\niter_dt 14.34ms; iter 20100: train loss 0.65270\niter_dt 14.10ms; iter 20200: train loss 0.74419\niter_dt 14.07ms; iter 20300: train loss 0.81023\niter_dt 13.91ms; iter 20400: train loss 0.86593\niter_dt 13.99ms; iter 20500: train loss 0.69839\niter_dt 13.79ms; iter 20600: train loss 0.73295\niter_dt 14.01ms; iter 20700: train loss 0.61250\niter_dt 13.99ms; iter 20800: train loss 0.80333\niter_dt 13.75ms; iter 20900: train loss 0.58850\niter_dt 14.15ms; iter 21000: train loss 0.73204\niter_dt 13.80ms; iter 21100: train loss 0.66689\niter_dt 13.78ms; iter 21200: train loss 0.48103\niter_dt 13.91ms; iter 21300: train loss 0.56640\niter_dt 13.79ms; iter 21400: train loss 0.90185\niter_dt 14.08ms; iter 21500: train loss 0.81564\niter_dt 14.09ms; iter 21600: train loss 0.80950\niter_dt 13.96ms; iter 21700: train loss 1.09714\niter_dt 15.11ms; iter 21800: train loss 0.94779\niter_dt 15.25ms; iter 21900: train loss 0.93208\niter_dt 15.18ms; iter 22000: train loss 0.66671\niter_dt 14.90ms; iter 22100: train loss 0.84734\niter_dt 14.95ms; iter 22200: train loss 0.80935\niter_dt 15.23ms; iter 22300: train loss 0.83425\niter_dt 15.51ms; iter 22400: train loss 0.79647\niter_dt 15.24ms; iter 22500: train loss 0.59704\niter_dt 15.27ms; iter 22600: train loss 0.71629\niter_dt 15.15ms; iter 22700: train loss 0.70198\niter_dt 15.31ms; iter 22800: train loss 0.55616\niter_dt 14.94ms; iter 22900: train loss 0.80722\niter_dt 15.21ms; iter 23000: train loss 0.72900\niter_dt 15.57ms; iter 23100: train loss 0.80435\niter_dt 14.94ms; iter 23200: train loss 0.86513\niter_dt 15.16ms; iter 23300: train loss 0.83045\niter_dt 14.83ms; iter 23400: train loss 0.80300\niter_dt 14.81ms; iter 23500: train loss 0.80450\niter_dt 14.31ms; iter 23600: train loss 0.79383\niter_dt 14.25ms; iter 23700: train loss 0.58855\niter_dt 14.04ms; iter 23800: train loss 0.80345\niter_dt 14.96ms; iter 23900: train loss 0.66305\niter_dt 15.03ms; iter 24000: train loss 0.84267\niter_dt 15.00ms; iter 24100: train loss 0.88506\niter_dt 15.12ms; iter 24200: train loss 0.77072\niter_dt 15.08ms; iter 24300: train loss 0.84532\niter_dt 14.86ms; iter 24400: train loss 0.71678\niter_dt 14.24ms; iter 24500: train loss 0.76422\niter_dt 14.95ms; iter 24600: train loss 0.74852\niter_dt 14.74ms; iter 24700: train loss 0.79630\niter_dt 14.88ms; iter 24800: train loss 0.92274\niter_dt 15.10ms; iter 24900: train loss 0.85053\niter_dt 14.91ms; iter 25000: train loss 0.75007\niter_dt 13.88ms; iter 25100: train loss 0.68075\niter_dt 13.74ms; iter 25200: train loss 0.61570\niter_dt 13.79ms; iter 25300: train loss 0.75391\niter_dt 13.55ms; iter 25400: train loss 0.97570\niter_dt 13.75ms; iter 25500: train loss 0.79402\niter_dt 13.70ms; iter 25600: train loss 0.65701\niter_dt 13.83ms; iter 25700: train loss 1.07529\niter_dt 13.88ms; iter 25800: train loss 0.66685\niter_dt 13.89ms; iter 25900: train loss 0.81714\niter_dt 13.69ms; iter 26000: train loss 0.64561\niter_dt 13.88ms; iter 26100: train loss 0.66562\niter_dt 14.95ms; iter 26200: train loss 0.71127\niter_dt 14.86ms; iter 26300: train loss 0.79348\niter_dt 13.61ms; iter 26400: train loss 0.79256\niter_dt 14.10ms; iter 26500: train loss 0.80709\niter_dt 15.09ms; iter 26600: train loss 0.85127\niter_dt 16.02ms; iter 26700: train loss 0.94478\niter_dt 15.58ms; iter 26800: train loss 0.83603\niter_dt 15.63ms; iter 26900: train loss 0.75412\niter_dt 15.01ms; iter 27000: train loss 0.90134\niter_dt 15.09ms; iter 27100: train loss 0.76990\niter_dt 15.39ms; iter 27200: train loss 0.75369\niter_dt 13.89ms; iter 27300: train loss 0.90976\niter_dt 13.80ms; iter 27400: train loss 0.79131\niter_dt 13.86ms; iter 27500: train loss 0.80771\niter_dt 13.78ms; iter 27600: train loss 0.84588\niter_dt 14.79ms; iter 27700: train loss 0.96427\niter_dt 13.70ms; iter 27800: train loss 0.64370\niter_dt 13.65ms; iter 27900: train loss 0.72246\niter_dt 15.00ms; iter 28000: train loss 0.67763\niter_dt 15.03ms; iter 28100: train loss 0.76960\niter_dt 15.06ms; iter 28200: train loss 0.62712\niter_dt 13.88ms; iter 28300: train loss 0.33849\niter_dt 14.30ms; iter 28400: train loss 0.29842\niter_dt 14.13ms; iter 28500: train loss 0.15532\niter_dt 14.06ms; iter 28600: train loss 0.05360\niter_dt 13.91ms; iter 28700: train loss 0.03859\niter_dt 14.46ms; iter 28800: train loss 0.00852\niter_dt 13.76ms; iter 28900: train loss 0.07408\niter_dt 13.93ms; iter 29000: train loss 0.04891\niter_dt 13.88ms; iter 29100: train loss 0.00426\niter_dt 13.59ms; iter 29200: train loss 0.00321\niter_dt 14.36ms; iter 29300: train loss 0.00164\niter_dt 14.28ms; iter 29400: train loss 0.00134\niter_dt 13.85ms; iter 29500: train loss 0.01531\niter_dt 14.83ms; iter 29600: train loss 0.00122\niter_dt 15.20ms; iter 29700: train loss 0.00148\niter_dt 14.44ms; iter 29800: train loss 0.00194\niter_dt 14.25ms; iter 29900: train loss 0.00150\niter_dt 14.09ms; iter 30000: train loss 0.00163\niter_dt 13.83ms; iter 30100: train loss 0.00040\niter_dt 13.69ms; iter 30200: train loss 0.00030\niter_dt 13.84ms; iter 30300: train loss 0.00099\niter_dt 13.92ms; iter 30400: train loss 0.00047\niter_dt 13.60ms; iter 30500: train loss 0.12520\niter_dt 13.74ms; iter 30600: train loss 0.00014\niter_dt 13.58ms; iter 30700: train loss 0.00070\niter_dt 13.99ms; iter 30800: train loss 0.00014\niter_dt 13.68ms; iter 30900: train loss 0.00023\niter_dt 13.87ms; iter 31000: train loss 0.00034\niter_dt 13.67ms; iter 31100: train loss 0.00019\niter_dt 13.90ms; iter 31200: train loss 0.00131\niter_dt 13.82ms; iter 31300: train loss 0.00035\niter_dt 14.05ms; iter 31400: train loss 0.00021\niter_dt 15.12ms; iter 31500: train loss 0.00039\niter_dt 15.14ms; iter 31600: train loss 0.00017\niter_dt 14.98ms; iter 31700: train loss 0.00056\niter_dt 18.11ms; iter 31800: train loss 0.00016\niter_dt 18.00ms; iter 31900: train loss 0.14591\niter_dt 14.80ms; iter 32000: train loss 0.00048\niter_dt 15.17ms; iter 32100: train loss 0.00022\niter_dt 13.90ms; iter 32200: train loss 0.00028\niter_dt 15.04ms; iter 32300: train loss 0.00009\niter_dt 14.13ms; iter 32400: train loss 0.00005\niter_dt 13.75ms; iter 32500: train loss 0.00281\niter_dt 13.87ms; iter 32600: train loss 0.00014\niter_dt 14.01ms; iter 32700: train loss 0.00024\niter_dt 15.49ms; iter 32800: train loss 0.00009\niter_dt 14.82ms; iter 32900: train loss 0.00021\niter_dt 14.99ms; iter 33000: train loss 0.00039\niter_dt 15.50ms; iter 33100: train loss 0.00569\niter_dt 14.86ms; iter 33200: train loss 0.06807\niter_dt 15.63ms; iter 33300: train loss 0.00035\niter_dt 15.19ms; iter 33400: train loss 0.00009\niter_dt 14.94ms; iter 33500: train loss 0.00077\niter_dt 15.29ms; iter 33600: train loss 0.00023\niter_dt 15.16ms; iter 33700: train loss 0.00013\niter_dt 14.96ms; iter 33800: train loss 0.00005\niter_dt 18.05ms; iter 33900: train loss 0.00003\niter_dt 13.67ms; iter 34000: train loss 0.00016\niter_dt 14.13ms; iter 34100: train loss 0.00018\niter_dt 13.79ms; iter 34200: train loss 0.07347\niter_dt 18.02ms; iter 34300: train loss 0.00006\niter_dt 18.05ms; iter 34400: train loss 0.02754\niter_dt 17.73ms; iter 34500: train loss 0.00007\niter_dt 17.87ms; iter 34600: train loss 0.00007\niter_dt 18.38ms; iter 34700: train loss 0.00204\niter_dt 17.81ms; iter 34800: train loss 0.00014\niter_dt 17.85ms; iter 34900: train loss 0.00007\niter_dt 17.82ms; iter 35000: train loss 0.01276\niter_dt 17.90ms; iter 35100: train loss 0.00003\niter_dt 17.95ms; iter 35200: train loss 0.00029\niter_dt 18.23ms; iter 35300: train loss 0.01628\niter_dt 18.00ms; iter 35400: train loss 0.00030\niter_dt 18.02ms; iter 35500: train loss 0.00011\niter_dt 17.77ms; iter 35600: train loss 0.03460\niter_dt 14.11ms; iter 35700: train loss 0.01577\niter_dt 14.19ms; iter 35800: train loss 0.00002\niter_dt 14.21ms; iter 35900: train loss 0.00002\niter_dt 13.63ms; iter 36000: train loss 0.00009\niter_dt 13.70ms; iter 36100: train loss 0.00004\niter_dt 14.19ms; iter 36200: train loss 0.00009\niter_dt 14.30ms; iter 36300: train loss 0.00015\niter_dt 14.31ms; iter 36400: train loss 0.00013\niter_dt 14.17ms; iter 36500: train loss 0.00006\niter_dt 14.36ms; iter 36600: train loss 0.00002\niter_dt 14.27ms; iter 36700: train loss 0.00005\niter_dt 14.27ms; iter 36800: train loss 0.00002\niter_dt 14.11ms; iter 36900: train loss 0.00005\niter_dt 14.16ms; iter 37000: train loss 0.00002\niter_dt 15.03ms; iter 37100: train loss 0.00002\niter_dt 14.61ms; iter 37200: train loss 0.21265\niter_dt 14.80ms; iter 37300: train loss 0.00005\niter_dt 14.52ms; iter 37400: train loss 0.00005\niter_dt 14.45ms; iter 37500: train loss 0.00002\niter_dt 14.49ms; iter 37600: train loss 0.00073\niter_dt 15.41ms; iter 37700: train loss 0.00005\niter_dt 14.54ms; iter 37800: train loss 0.00002\niter_dt 14.00ms; iter 37900: train loss 0.00100\niter_dt 14.20ms; iter 38000: train loss 0.00001\niter_dt 15.96ms; iter 38100: train loss 0.00002\niter_dt 16.31ms; iter 38200: train loss 0.00010\niter_dt 16.23ms; iter 38300: train loss 0.10738\niter_dt 15.51ms; iter 38400: train loss 0.00005\niter_dt 15.96ms; iter 38500: train loss 0.00002\niter_dt 14.71ms; iter 38600: train loss 0.07363\niter_dt 14.24ms; iter 38700: train loss 0.00004\niter_dt 14.26ms; iter 38800: train loss 0.00002\niter_dt 14.35ms; iter 38900: train loss 0.01780\niter_dt 14.55ms; iter 39000: train loss 0.00005\niter_dt 14.11ms; iter 39100: train loss 0.00002\niter_dt 15.06ms; iter 39200: train loss 0.00005\niter_dt 14.58ms; iter 39300: train loss 0.00002\niter_dt 14.37ms; iter 39400: train loss 0.00032\niter_dt 14.68ms; iter 39500: train loss 0.00004\niter_dt 15.06ms; iter 39600: train loss 0.00007\niter_dt 14.21ms; iter 39700: train loss 0.00020\niter_dt 14.99ms; iter 39800: train loss 0.00002\niter_dt 14.74ms; iter 39900: train loss 0.00007\niter_dt 14.97ms; iter 40000: train loss 0.00001\niter_dt 14.82ms; iter 40100: train loss 0.00003\niter_dt 14.97ms; iter 40200: train loss 0.00006\niter_dt 14.12ms; iter 40300: train loss 0.00004\niter_dt 13.82ms; iter 40400: train loss 0.00036\niter_dt 14.93ms; iter 40500: train loss 0.00005\niter_dt 14.97ms; iter 40600: train loss 0.00010\niter_dt 14.73ms; iter 40700: train loss 0.00002\niter_dt 14.40ms; iter 40800: train loss 0.00002\niter_dt 14.74ms; iter 40900: train loss 0.00004\niter_dt 14.13ms; iter 41000: train loss 0.00002\niter_dt 14.30ms; iter 41100: train loss 0.00003\niter_dt 14.25ms; iter 41200: train loss 0.00004\niter_dt 14.49ms; iter 41300: train loss 0.00006\niter_dt 14.96ms; iter 41400: train loss 0.00003\niter_dt 14.96ms; iter 41500: train loss 0.00002\niter_dt 15.79ms; iter 41600: train loss 0.00010\niter_dt 14.26ms; iter 41700: train loss 0.00003\niter_dt 14.88ms; iter 41800: train loss 0.00003\niter_dt 14.39ms; iter 41900: train loss 0.00002\niter_dt 14.16ms; iter 42000: train loss 0.00003\niter_dt 14.27ms; iter 42100: train loss 0.00008\niter_dt 14.17ms; iter 42200: train loss 0.00002\niter_dt 14.11ms; iter 42300: train loss 0.00007\niter_dt 15.85ms; iter 42400: train loss 0.00011\niter_dt 15.25ms; iter 42500: train loss 0.00004\niter_dt 15.67ms; iter 42600: train loss 0.00002\niter_dt 14.72ms; iter 42700: train loss 0.00006\niter_dt 19.91ms; iter 42800: train loss 0.00004\niter_dt 14.20ms; iter 42900: train loss 0.00001\niter_dt 19.00ms; iter 43000: train loss 0.00005\niter_dt 20.15ms; iter 43100: train loss 0.00002\niter_dt 18.64ms; iter 43200: train loss 0.00001\niter_dt 18.85ms; iter 43300: train loss 0.00008\niter_dt 13.92ms; iter 43400: train loss 0.00003\niter_dt 19.39ms; iter 43500: train loss 0.00002\niter_dt 18.25ms; iter 43600: train loss 0.00002\niter_dt 18.51ms; iter 43700: train loss 0.00009\niter_dt 18.35ms; iter 43800: train loss 0.00002\niter_dt 18.52ms; iter 43900: train loss 0.00005\niter_dt 14.48ms; iter 44000: train loss 0.00002\niter_dt 14.45ms; iter 44100: train loss 0.00003\niter_dt 15.12ms; iter 44200: train loss 0.00004\niter_dt 14.26ms; iter 44300: train loss 0.00008\niter_dt 14.04ms; iter 44400: train loss 0.00004\niter_dt 14.22ms; iter 44500: train loss 0.04430\niter_dt 14.14ms; iter 44600: train loss 0.00002\niter_dt 15.63ms; iter 44700: train loss 0.05390\niter_dt 14.98ms; iter 44800: train loss 0.00002\niter_dt 14.52ms; iter 44900: train loss 0.00005\niter_dt 14.25ms; iter 45000: train loss 0.00003\niter_dt 14.26ms; iter 45100: train loss 0.00002\niter_dt 14.46ms; iter 45200: train loss 0.00002\niter_dt 14.71ms; iter 45300: train loss 0.00002\niter_dt 14.98ms; iter 45400: train loss 0.00001\niter_dt 14.64ms; iter 45500: train loss 0.00008\niter_dt 14.66ms; iter 45600: train loss 0.00002\niter_dt 14.20ms; iter 45700: train loss 0.00003\niter_dt 14.20ms; iter 45800: train loss 0.00002\niter_dt 14.19ms; iter 45900: train loss 0.00001\niter_dt 14.49ms; iter 46000: train loss 0.00003\niter_dt 15.04ms; iter 46100: train loss 0.00003\niter_dt 14.37ms; iter 46200: train loss 0.00002\niter_dt 14.65ms; iter 46300: train loss 0.00003\niter_dt 14.51ms; iter 46400: train loss 0.00003\niter_dt 14.34ms; iter 46500: train loss 0.00003\niter_dt 15.11ms; iter 46600: train loss 0.00003\niter_dt 16.57ms; iter 46700: train loss 0.00007\niter_dt 14.70ms; iter 46800: train loss 0.00125\niter_dt 14.66ms; iter 46900: train loss 0.00001\niter_dt 19.43ms; iter 47000: train loss 0.00111\niter_dt 19.55ms; iter 47100: train loss 0.00030\niter_dt 19.80ms; iter 47200: train loss 0.00002\niter_dt 18.88ms; iter 47300: train loss 0.00019\niter_dt 18.63ms; iter 47400: train loss 0.00003\niter_dt 14.41ms; iter 47500: train loss 0.00003\niter_dt 19.08ms; iter 47600: train loss 0.00012\niter_dt 18.37ms; iter 47700: train loss 0.00002\niter_dt 18.50ms; iter 47800: train loss 0.00005\niter_dt 18.27ms; iter 47900: train loss 0.00071\niter_dt 18.92ms; iter 48000: train loss 0.00006\niter_dt 19.08ms; iter 48100: train loss 0.00002\niter_dt 14.30ms; iter 48200: train loss 0.00002\niter_dt 14.24ms; iter 48300: train loss 0.00003\niter_dt 14.18ms; iter 48400: train loss 0.00005\niter_dt 14.42ms; iter 48500: train loss 0.00002\niter_dt 14.30ms; iter 48600: train loss 0.00003\niter_dt 14.19ms; iter 48700: train loss 0.00003\niter_dt 14.07ms; iter 48800: train loss 0.00003\niter_dt 14.64ms; iter 48900: train loss 0.00004\niter_dt 14.70ms; iter 49000: train loss 0.00002\niter_dt 14.99ms; iter 49100: train loss 0.00003\niter_dt 14.35ms; iter 49200: train loss 0.00002\niter_dt 14.71ms; iter 49300: train loss 0.13607\niter_dt 14.32ms; iter 49400: train loss 0.00027\niter_dt 14.24ms; iter 49500: train loss 0.00001\niter_dt 14.40ms; iter 49600: train loss 0.00002\niter_dt 14.05ms; iter 49700: train loss 0.00002\niter_dt 14.37ms; iter 49800: train loss 0.00002\niter_dt 14.77ms; iter 49900: train loss 0.00002\n"
     ]
    }
   ],
   "source": [
    "model_config = GPT.get_default_config()\n",
    "model_config.model_type = 'gpt-nano'\n",
    "model_config.vocab_size = 2*vocab_size+2\n",
    "model_config.block_size = 2*length + 1\n",
    "\n",
    "train_config = Trainer.get_default_config()\n",
    "train_config.learning_rate = 5e-4 # the model we're using is so small that we can go a bit faster\n",
    "train_config.max_iters = 50000\n",
    "train_config.num_workers = 0\n",
    "\n",
    "model_mixed_dict_x1_sep_vocab = GPT(model_config)\n",
    "trainer_mixed_dict_x1_sep_vocab = Trainer(train_config, model_mixed_dict_x1_sep_vocab, train_dataset_mixed_dict_x1_sep_vocab)\n",
    "trainer_mixed_dict_x1_sep_vocab.set_callback('on_batch_end', batch_end_callback)\n",
    "trainer_mixed_dict_x1_sep_vocab.run()"
   ]
  },
  {
   "cell_type": "code",
   "execution_count": 0,
   "metadata": {
    "application/vnd.databricks.v1+cell": {
     "cellMetadata": {
      "byteLimit": 2048000,
      "rowLimit": 10000
     },
     "inputWidgets": {},
     "nuid": "8080a575-aa56-4fc7-a2c6-e130fa322d81",
     "showTitle": false,
     "tableResultSettingsMap": {},
     "title": ""
    }
   },
   "outputs": [
    {
     "output_type": "stream",
     "name": "stdout",
     "output_type": "stream",
     "text": [
      "GPT claims that [18, 13, 16, 14, 10, 19, 16, 14, 10, 19, 11, 17, 11] sorted is 14 but gt is 17\nGPT claims that [19, 18, 15, 15, 11, 16, 11, 16, 10, 11, 12, 19, 15] sorted is 19 but gt is 15\nGPT claims that [16, 11, 17, 12, 10, 14, 15, 19, 19, 16, 12, 18, 12] sorted is 12 but gt is 18\ntrain final score: 4995/5000 = 99.90% correct\ntest final score: 5000/5000 = 100.00% correct\nGPT claims that [2, 3, 0, 5, 8, 1, 2, 3, 9, 6, 9, 6, 2] sorted is 5 but gt is 3\nGPT claims that [2, 2, 7, 9, 7, 9, 5, 1, 1, 3, 7, 9, 7] sorted is 6 but gt is 9\nGPT claims that [3, 7, 4, 2, 3, 7, 6, 4, 9, 6, 7, 0, 4] sorted is 3 but gt is 2\ntest final score: 535/5000 = 10.70% correct\nGPT claims that [7, 1, 5, 4, 2, 0, 8, 7, 7, 1, 3, 9, 7] sorted is 6 but gt is 1\nGPT claims that [4, 8, 7, 3, 5, 0, 4, 8, 9, 5, 1, 1, 7] sorted is 6 but gt is 3\nGPT claims that [1, 9, 4, 2, 5, 7, 8, 5, 7, 4, 3, 8, 7] sorted is 6 but gt is 4\ntest final score: 4558/5000 = 91.16% correct\n"
     ]
    }
   ],
   "source": [
    "with torch.no_grad():\n",
    "    train_score_mixed_dict_x1_sep_vocab = eval_split(trainer_mixed_dict_x1_sep_vocab, model_mixed_dict_x1_sep_vocab, train_dataset_mixed_dict_x1_sep_vocab, max_batches=50, split='train')\n",
    "    test_score_fixed_dict  = eval_split(trainer_mixed_dict_x1_sep_vocab, model_mixed_dict_x1_sep_vocab, test_dataset_fixed_dict, max_batches=50, split='test')\n",
    "    test_score_changing_dict = eval_split(trainer_mixed_dict_x1_sep_vocab, model_mixed_dict_x1_sep_vocab, test_dataset_changing_dict, max_batches=50, split='test')\n",
    "    test_score_mixed_dict_x1 = eval_split(trainer_mixed_dict_x1_sep_vocab, model_mixed_dict_x1_sep_vocab, test_dataset_mixed_dict_x1, max_batches=50, split='test')"
   ]
  },
  {
   "cell_type": "code",
   "execution_count": 0,
   "metadata": {
    "application/vnd.databricks.v1+cell": {
     "cellMetadata": {
      "byteLimit": 2048000,
      "rowLimit": 10000
     },
     "inputWidgets": {},
     "nuid": "479dea0b-8127-4343-84d9-93d6f15a7634",
     "showTitle": false,
     "tableResultSettingsMap": {},
     "title": ""
    }
   },
   "outputs": [
    {
     "output_type": "stream",
     "name": "stdout",
     "output_type": "stream",
     "text": [
      "GPT claims that [4, 9, 2, 8, 2, 8, 7, 7, 8, 5, 1, 6, 2] sorted is 5 but gt is 8\nGPT claims that [6, 6, 1, 9, 8, 2, 7, 8, 2, 1, 7, 8, 1] sorted is 1 but gt is 9\nGPT claims that [9, 4, 4, 9, 9, 4, 2, 8, 8, 1, 6, 3, 6] sorted is 8 but gt is 3\ntrain final score: 517/5000 = 10.34% correct\n"
     ]
    }
   ],
   "source": [
    "# running a non cl trained trainer through non_cl dataset\n",
    "# shows roughly random accuracy\n",
    "with torch.no_grad():\n",
    "    train_score = eval_split(trainer_non_cl, model_non_cl, train_dataset_cl, max_batches=50, split='train')"
   ]
  },
  {
   "cell_type": "code",
   "execution_count": 0,
   "metadata": {
    "application/vnd.databricks.v1+cell": {
     "cellMetadata": {
      "byteLimit": 2048000,
      "rowLimit": 10000
     },
     "inputWidgets": {},
     "nuid": "0adc7bcc-699f-4e4d-a589-8d7937f0d2e1",
     "showTitle": false,
     "tableResultSettingsMap": {},
     "title": ""
    }
   },
   "outputs": [
    {
     "output_type": "stream",
     "name": "stdout",
     "output_type": "stream",
     "text": [
      "tensor([[6, 7, 6, 7, 6, 7, 6, 7, 6, 7, 6, 7, 6]], device='cuda:0') torch.Size([1, 13])\ntensor([[6, 7, 6, 7, 6, 7, 6, 7, 6, 7, 6, 7, 6, 8]], device='cuda:0')\n"
     ]
    }
   ],
   "source": [
    "# even when we try a long sequence of repeatedly the right prompts \n",
    "inp = torch.tensor([[6, 7]*length + [6]])\n",
    "inp = inp.to(trainer_non_cl.device)\n",
    "print(inp, inp.size())\n",
    "with torch.no_grad():\n",
    "  cat = model_non_cl.generate(inp, 1, do_sample=False)\n",
    "  print(cat)"
   ]
  },
  {
   "cell_type": "code",
   "execution_count": 0,
   "metadata": {
    "application/vnd.databricks.v1+cell": {
     "cellMetadata": {
      "byteLimit": 2048000,
      "rowLimit": 10000
     },
     "inputWidgets": {},
     "nuid": "0a3dfaa7-a5c7-460f-8b43-6baa59667987",
     "showTitle": false,
     "tableResultSettingsMap": {},
     "title": ""
    }
   },
   "outputs": [
    {
     "output_type": "stream",
     "name": "stdout",
     "output_type": "stream",
     "text": [
      "tensor([[11,  7, 11,  7, 11,  7, 11,  7, 11,  7, 11,  7, 10]], device='cuda:0') torch.Size([1, 13])\ntensor([[11,  7, 11,  7, 11,  7, 11,  7, 11,  7, 11,  7, 10,  1]],\n       device='cuda:0')\n"
     ]
    }
   ],
   "source": [
    "# what if we try introducing a new key does thats not in voacb\n",
    "inp = torch.tensor([[11, 7]*length + [10]])\n",
    "inp = inp.to(trainer_non_cl.device)\n",
    "print(inp, inp.size())\n",
    "with torch.no_grad():\n",
    "  cat = model_non_cl.generate(inp, 1, do_sample=False)\n",
    "  print(cat)"
   ]
  },
  {
   "cell_type": "code",
   "execution_count": 0,
   "metadata": {
    "application/vnd.databricks.v1+cell": {
     "cellMetadata": {
      "byteLimit": 2048000,
      "rowLimit": 10000
     },
     "inputWidgets": {},
     "nuid": "e2708956-421e-4836-9d11-6b8f24245128",
     "showTitle": false,
     "tableResultSettingsMap": {},
     "title": ""
    }
   },
   "outputs": [
    {
     "output_type": "stream",
     "name": "stdout",
     "output_type": "stream",
     "text": [
      "number of parameters: 0.09M\nrunning on device cuda\niter_dt 0.00ms; iter 0: train loss 2.47862\niter_dt 12.98ms; iter 100: train loss 2.10638\niter_dt 12.68ms; iter 200: train loss 1.90885\niter_dt 12.86ms; iter 300: train loss 1.71111\niter_dt 12.54ms; iter 400: train loss 1.70856\niter_dt 12.63ms; iter 500: train loss 1.70365\niter_dt 12.89ms; iter 600: train loss 1.78062\niter_dt 12.95ms; iter 700: train loss 1.80131\niter_dt 12.81ms; iter 800: train loss 1.68473\niter_dt 12.96ms; iter 900: train loss 1.66459\niter_dt 12.76ms; iter 1000: train loss 1.84441\niter_dt 12.73ms; iter 1100: train loss 1.82064\niter_dt 13.04ms; iter 1200: train loss 1.72650\niter_dt 12.82ms; iter 1300: train loss 1.67664\niter_dt 12.71ms; iter 1400: train loss 1.61046\niter_dt 12.70ms; iter 1500: train loss 1.82549\niter_dt 12.91ms; iter 1600: train loss 1.58476\niter_dt 12.73ms; iter 1700: train loss 1.77136\niter_dt 12.82ms; iter 1800: train loss 1.68561\niter_dt 13.26ms; iter 1900: train loss 1.61742\niter_dt 12.59ms; iter 2000: train loss 1.61000\niter_dt 12.76ms; iter 2100: train loss 1.64609\niter_dt 12.60ms; iter 2200: train loss 1.69696\niter_dt 12.99ms; iter 2300: train loss 1.55272\niter_dt 13.28ms; iter 2400: train loss 1.50657\niter_dt 12.78ms; iter 2500: train loss 1.67038\niter_dt 13.03ms; iter 2600: train loss 1.55699\niter_dt 12.67ms; iter 2700: train loss 1.58364\niter_dt 14.82ms; iter 2800: train loss 1.44686\niter_dt 12.59ms; iter 2900: train loss 1.58895\niter_dt 12.70ms; iter 3000: train loss 1.55381\niter_dt 12.73ms; iter 3100: train loss 1.75199\niter_dt 12.96ms; iter 3200: train loss 1.55995\niter_dt 12.73ms; iter 3300: train loss 1.56240\niter_dt 12.76ms; iter 3400: train loss 1.46442\niter_dt 12.80ms; iter 3500: train loss 1.68249\niter_dt 12.92ms; iter 3600: train loss 1.60198\niter_dt 12.75ms; iter 3700: train loss 1.52265\niter_dt 12.60ms; iter 3800: train loss 1.47583\niter_dt 13.07ms; iter 3900: train loss 1.51086\niter_dt 12.61ms; iter 4000: train loss 1.49196\niter_dt 12.74ms; iter 4100: train loss 1.55455\niter_dt 12.78ms; iter 4200: train loss 1.59884\niter_dt 12.90ms; iter 4300: train loss 1.54369\niter_dt 12.60ms; iter 4400: train loss 1.54726\niter_dt 12.50ms; iter 4500: train loss 1.48621\niter_dt 13.89ms; iter 4600: train loss 1.49506\niter_dt 12.61ms; iter 4700: train loss 1.55898\niter_dt 13.01ms; iter 4800: train loss 1.57229\niter_dt 13.22ms; iter 4900: train loss 1.52875\niter_dt 12.73ms; iter 5000: train loss 1.51426\niter_dt 12.91ms; iter 5100: train loss 1.49076\niter_dt 12.65ms; iter 5200: train loss 1.54351\niter_dt 12.49ms; iter 5300: train loss 1.58877\niter_dt 12.93ms; iter 5400: train loss 1.46206\niter_dt 13.65ms; iter 5500: train loss 1.53881\niter_dt 12.65ms; iter 5600: train loss 1.53279\niter_dt 12.70ms; iter 5700: train loss 1.67227\niter_dt 12.97ms; iter 5800: train loss 1.58115\niter_dt 12.68ms; iter 5900: train loss 1.52586\niter_dt 12.69ms; iter 6000: train loss 1.56489\niter_dt 12.61ms; iter 6100: train loss 1.38769\niter_dt 12.61ms; iter 6200: train loss 1.47873\niter_dt 12.67ms; iter 6300: train loss 1.55802\niter_dt 12.79ms; iter 6400: train loss 1.47585\niter_dt 12.50ms; iter 6500: train loss 1.54999\niter_dt 12.50ms; iter 6600: train loss 1.46206\niter_dt 12.80ms; iter 6700: train loss 1.43140\niter_dt 12.74ms; iter 6800: train loss 1.55693\niter_dt 12.50ms; iter 6900: train loss 1.49836\niter_dt 12.52ms; iter 7000: train loss 1.49715\niter_dt 12.63ms; iter 7100: train loss 1.57485\niter_dt 12.60ms; iter 7200: train loss 1.54574\niter_dt 12.85ms; iter 7300: train loss 1.51661\niter_dt 13.41ms; iter 7400: train loss 1.52923\niter_dt 12.58ms; iter 7500: train loss 1.43364\niter_dt 12.70ms; iter 7600: train loss 1.56963\niter_dt 12.56ms; iter 7700: train loss 1.43115\niter_dt 12.64ms; iter 7800: train loss 1.45133\niter_dt 12.79ms; iter 7900: train loss 1.53430\niter_dt 12.77ms; iter 8000: train loss 1.32925\niter_dt 12.53ms; iter 8100: train loss 1.08692\niter_dt 12.76ms; iter 8200: train loss 0.73348\niter_dt 12.58ms; iter 8300: train loss 0.19077\niter_dt 12.51ms; iter 8400: train loss 0.04657\niter_dt 12.78ms; iter 8500: train loss 0.00790\niter_dt 12.56ms; iter 8600: train loss 0.14530\niter_dt 12.68ms; iter 8700: train loss 0.00865\niter_dt 13.47ms; iter 8800: train loss 0.01851\niter_dt 12.59ms; iter 8900: train loss 0.00728\niter_dt 12.64ms; iter 9000: train loss 0.00829\niter_dt 12.57ms; iter 9100: train loss 0.00146\niter_dt 12.63ms; iter 9200: train loss 0.10906\niter_dt 12.46ms; iter 9300: train loss 0.06287\niter_dt 12.68ms; iter 9400: train loss 0.00095\niter_dt 12.42ms; iter 9500: train loss 0.00143\niter_dt 12.51ms; iter 9600: train loss 0.00189\niter_dt 12.85ms; iter 9700: train loss 0.00378\niter_dt 12.69ms; iter 9800: train loss 0.00034\niter_dt 13.07ms; iter 9900: train loss 0.00050\n"
     ]
    }
   ],
   "source": [
    "model_config = GPT.get_default_config()\n",
    "model_config.model_type = 'gpt-nano'\n",
    "model_config.vocab_size = train_dataset_cl.get_vocab_size()\n",
    "model_config.block_size = train_dataset_cl.get_block_size()\n",
    "\n",
    "train_config = Trainer.get_default_config()\n",
    "train_config.learning_rate = 5e-4 # the model we're using is so small that we can go a bit faster\n",
    "train_config.max_iters = 10000\n",
    "train_config.num_workers = 0\n",
    "\n",
    "model_cl = GPT(model_config)\n",
    "trainer_cl = Trainer(train_config, model_cl, train_dataset_cl)\n",
    "\n",
    "def batch_end_callback(trainer):\n",
    "    if trainer.iter_num % 100 == 0:\n",
    "        print(f\"iter_dt {trainer.iter_dt * 1000:.2f}ms; iter {trainer.iter_num}: train loss {trainer.loss.item():.5f}\")\n",
    "\n",
    "trainer_cl.set_callback('on_batch_end', batch_end_callback)\n",
    "\n",
    "trainer_cl.run()"
   ]
  },
  {
   "cell_type": "code",
   "execution_count": 0,
   "metadata": {
    "application/vnd.databricks.v1+cell": {
     "cellMetadata": {
      "byteLimit": 2048000,
      "rowLimit": 10000
     },
     "inputWidgets": {},
     "nuid": "3906396c-8e63-421c-bad5-1218d077d18b",
     "showTitle": false,
     "tableResultSettingsMap": {},
     "title": ""
    }
   },
   "outputs": [
    {
     "output_type": "stream",
     "name": "stdout",
     "output_type": "stream",
     "text": [
      "GPT claims that [9, 3, 6, 2, 5, 8, 4, 0, 0, 7, 5, 8, 6] sorted is 3 but gt is 2\nGPT claims that [5, 8, 8, 2, 6, 9, 1, 4, 5, 8, 7, 6, 6] sorted is 8 but gt is 9\nGPT claims that [5, 8, 1, 3, 4, 2, 5, 8, 6, 4, 8, 5, 8] sorted is 6 but gt is 5\ntrain final score: 4975/5000 = 99.50% correct\n"
     ]
    }
   ],
   "source": [
    "with torch.no_grad():\n",
    "    train_score = eval_split(trainer_cl, model_cl, train_dataset_cl, max_batches=50, split='train')"
   ]
  },
  {
   "cell_type": "code",
   "execution_count": 0,
   "metadata": {
    "application/vnd.databricks.v1+cell": {
     "cellMetadata": {
      "byteLimit": 2048000,
      "rowLimit": 10000
     },
     "inputWidgets": {},
     "nuid": "17c7c32c-07db-48ec-844a-f5e2b6c8e384",
     "showTitle": false,
     "tableResultSettingsMap": {},
     "title": ""
    }
   },
   "outputs": [
    {
     "output_type": "stream",
     "name": "stdout",
     "output_type": "stream",
     "text": [
      "tensor([[6, 7, 6, 7, 6, 7, 6, 7, 6, 7, 6, 7, 6]], device='cuda:0') torch.Size([1, 13])\ntensor([[6, 7, 6, 7, 6, 7, 6, 7, 6, 7, 6, 7, 6, 7]], device='cuda:0')\n"
     ]
    }
   ],
   "source": [
    "# even when we try a long sequence of repeatedly the right prompts \n",
    "inp = torch.tensor([[6, 7]*length + [6]])\n",
    "inp = inp.to(trainer_cl.device)\n",
    "print(inp, inp.size())\n",
    "with torch.no_grad():\n",
    "  cat = model_cl.generate(inp, 1, do_sample=False)\n",
    "  print(cat)"
   ]
  },
  {
   "cell_type": "code",
   "execution_count": 0,
   "metadata": {
    "application/vnd.databricks.v1+cell": {
     "cellMetadata": {
      "byteLimit": 2048000,
      "rowLimit": 10000
     },
     "inputWidgets": {},
     "nuid": "2ffbd336-7856-4dac-8fb3-7495560380ec",
     "showTitle": false,
     "tableResultSettingsMap": {},
     "title": ""
    }
   },
   "outputs": [
    {
     "output_type": "stream",
     "name": "stdout",
     "output_type": "stream",
     "text": [
      "tensor([[11,  7, 11,  7, 11,  7, 11,  7, 11,  7, 11,  7, 11]], device='cuda:0') torch.Size([1, 13])\ntensor([[11,  7, 11,  7, 11,  7, 11,  7, 11,  7, 11,  7, 11,  7]],\n       device='cuda:0')\n"
     ]
    }
   ],
   "source": [
    "# even when we try a long sequence of repeatedly the right prompts \n",
    "inp = torch.tensor([[11, 7]*length + [11]])\n",
    "inp = inp.to(trainer_cl.device)\n",
    "print(inp, inp.size())\n",
    "with torch.no_grad():\n",
    "  cat = model_cl.generate(inp, 1, do_sample=False)\n",
    "  print(cat)"
   ]
  },
  {
   "cell_type": "code",
   "execution_count": 0,
   "metadata": {
    "application/vnd.databricks.v1+cell": {
     "cellMetadata": {
      "byteLimit": 2048000,
      "rowLimit": 10000
     },
     "inputWidgets": {},
     "nuid": "912bb6cc-d21d-49cb-a3f1-9a237d68c84b",
     "showTitle": false,
     "tableResultSettingsMap": {},
     "title": ""
    }
   },
   "outputs": [
    {
     "output_type": "stream",
     "name": "stdout",
     "output_type": "stream",
     "text": [
      "tensor([[ 1,  2,  1,  2,  1,  2, 11,  7,  1,  2,  1,  2, 11]], device='cuda:0') torch.Size([1, 13])\ntensor([[ 1,  2,  1,  2,  1,  2, 11,  7,  1,  2,  1,  2, 11,  7]],\n       device='cuda:0')\n"
     ]
    }
   ],
   "source": [
    "# even when we try a long sequence of repeatedly the right prompts \n",
    "inp = torch.tensor([[1, 2, 1, 2, 1, 2, 11, 7, 1, 2, 1, 2] + [11]])\n",
    "inp = inp.to(trainer_cl.device)\n",
    "print(inp, inp.size())\n",
    "with torch.no_grad():\n",
    "  cat = model_cl.generate(inp, 1, do_sample=False)\n",
    "  print(cat)"
   ]
  },
  {
   "cell_type": "code",
   "execution_count": 0,
   "metadata": {
    "application/vnd.databricks.v1+cell": {
     "cellMetadata": {
      "byteLimit": 2048000,
      "rowLimit": 10000
     },
     "inputWidgets": {},
     "nuid": "bd37f286-9092-4dc2-a8ed-ae493c0c8c58",
     "showTitle": false,
     "tableResultSettingsMap": {},
     "title": ""
    }
   },
   "outputs": [
    {
     "output_type": "stream",
     "name": "stdout",
     "output_type": "stream",
     "text": [
      "tensor([[ 1,  2, 11,  3,  1,  2, 11,  7,  1,  2, 11,  5, 11]], device='cuda:0') torch.Size([1, 13])\ntensor(7, device='cuda:0')\ntensor(3, device='cuda:0')\ntensor(3, device='cuda:0')\ntensor(3, device='cuda:0')\ntensor(7, device='cuda:0')\ntensor(3, device='cuda:0')\ntensor(3, device='cuda:0')\ntensor(7, device='cuda:0')\ntensor(5, device='cuda:0')\ntensor(3, device='cuda:0')\ntensor(7, device='cuda:0')\ntensor(3, device='cuda:0')\ntensor(7, device='cuda:0')\ntensor(3, device='cuda:0')\ntensor(3, device='cuda:0')\ntensor(7, device='cuda:0')\ntensor(7, device='cuda:0')\ntensor(3, device='cuda:0')\ntensor(7, device='cuda:0')\ntensor(3, device='cuda:0')\ntensor(3, device='cuda:0')\ntensor(3, device='cuda:0')\ntensor(7, device='cuda:0')\ntensor(7, device='cuda:0')\ntensor(3, device='cuda:0')\ntensor(7, device='cuda:0')\ntensor(3, device='cuda:0')\ntensor(3, device='cuda:0')\ntensor(7, device='cuda:0')\ntensor(7, device='cuda:0')\n"
     ]
    }
   ],
   "source": [
    "# even when we try a long sequence of repeatedly the right prompts \n",
    "inp = torch.tensor([[1, 2, 11, 3, 1, 2, 11, 7, 1, 2, 11, 5] + [11]])\n",
    "inp = inp.to(trainer_cl.device)\n",
    "print(inp, inp.size())\n",
    "with torch.no_grad():\n",
    "  for i in range(30):\n",
    "    cat = model_cl.generate(inp, 1, do_sample=False)\n",
    "    print(cat[0, -1])"
   ]
  },
  {
   "cell_type": "code",
   "execution_count": 0,
   "metadata": {
    "application/vnd.databricks.v1+cell": {
     "cellMetadata": {
      "byteLimit": 2048000,
      "rowLimit": 10000
     },
     "inputWidgets": {},
     "nuid": "0d9ab19b-86d5-419b-8afd-c25f806b8f63",
     "showTitle": false,
     "tableResultSettingsMap": {},
     "title": ""
    }
   },
   "outputs": [],
   "source": [
    "# Generating mixed datasets\n",
    "\n",
    "class KVRetrievalDatasetMixedDict(Dataset):\n",
    "    \"\"\" \n",
    "    Dataset for InContext Learning. \n",
    "    \"\"\"\n",
    "\n",
    "    def __init__(self, split, length=6, vocab_size=10, additional_vocab = 2, dictionary=None, mixing_fraction=0.0):\n",
    "        assert split in {'train', 'test'}\n",
    "        self.split = split\n",
    "        self.length = length\n",
    "        self.vocab_size = vocab_size + additional_vocab\n",
    "        self.true_vocab_size = vocab_size\n",
    "        self.mixing_fraction = mixing_fraction\n",
    "        self.dictionary = dictionary if dictionary is not None else self._generate_dictionary()\n",
    "          \n",
    "    def _generate_dictionary(self):\n",
    "        return torch.randperm(self.true_vocab_size)\n",
    "\n",
    "    def __len__(self):\n",
    "        return 10000 # ...\n",
    "    \n",
    "    def get_vocab_size(self):\n",
    "        return self.vocab_size\n",
    "    \n",
    "    def get_block_size(self):\n",
    "        # the length of the sequence that will feed into transformer, \n",
    "        # containing concatenated input and the output, but -1 because\n",
    "        # the transformer starts making predictions at the last input element\n",
    "        return 2*self.length + 1\n",
    "\n",
    "    def __getitem__(self, idx):\n",
    "        dictionary = self.dictionary if torch.rand(1) < self.mixing_fraction else self._generate_dictionary()\n",
    "        context_keys = torch.randint(self.true_vocab_size, size=(self.length,), dtype=torch.long)\n",
    "        context_labels = torch.index_select(dictionary, 0, context_keys)\n",
    "        # find a key thats appeared in this context\n",
    "        question_key = torch.index_select(context_keys, 0, torch.randint(self.length, size=(1,), dtype=torch.long))\n",
    "        question_label = torch.index_select(dictionary, 0, question_key)\n",
    "        # make final context\n",
    "        context_keys = torch.concat([context_keys, question_key], dim=0)\n",
    "        context_labels = torch.concat([context_labels, question_label], dim=0)\n",
    "        \n",
    "        #interleave them\n",
    "        full_context = torch.flatten(torch.stack([context_keys, context_labels]).t())\n",
    "        # provide everything but the last label to TX\n",
    "        x = full_context[:-1].clone()\n",
    "        # Mask everything but the last label in the loss\n",
    "        y = full_context[1:].clone()\n",
    "        y[:2*self.length] = -1\n",
    "        return x, y\n"
   ]
  },
  {
   "cell_type": "code",
   "execution_count": 0,
   "metadata": {
    "application/vnd.databricks.v1+cell": {
     "cellMetadata": {
      "byteLimit": 2048000,
      "rowLimit": 10000
     },
     "inputWidgets": {},
     "nuid": "29f74803-8824-42c0-910a-bbf72cda50d1",
     "showTitle": false,
     "tableResultSettingsMap": {},
     "title": ""
    }
   },
   "outputs": [
    {
     "output_type": "execute_result",
     "data": {
      "text/plain": [
       "tensor([0.2246])"
      ]
     },
     "execution_count": 28,
     "metadata": {},
     "output_type": "execute_result"
    }
   ],
   "source": [
    "torch.rand(1)"
   ]
  },
  {
   "cell_type": "code",
   "execution_count": 0,
   "metadata": {
    "application/vnd.databricks.v1+cell": {
     "cellMetadata": {
      "byteLimit": 2048000,
      "rowLimit": 10000
     },
     "inputWidgets": {},
     "nuid": "1997c4df-7a67-48d9-baea-4515293a2732",
     "showTitle": false,
     "tableResultSettingsMap": {},
     "title": ""
    }
   },
   "outputs": [
    {
     "output_type": "stream",
     "name": "stdout",
     "output_type": "stream",
     "text": [
      "number of parameters: 0.09M\nrunning on device cuda\niter_dt 0.00ms; iter 0: train loss 2.47012\niter_dt 12.98ms; iter 100: train loss 0.74165\niter_dt 13.14ms; iter 200: train loss 0.62282\niter_dt 13.21ms; iter 300: train loss 0.40717\niter_dt 12.90ms; iter 400: train loss 0.52125\niter_dt 13.40ms; iter 500: train loss 0.41293\niter_dt 13.06ms; iter 600: train loss 0.26446\niter_dt 13.39ms; iter 700: train loss 0.25332\niter_dt 13.70ms; iter 800: train loss 0.27812\niter_dt 13.31ms; iter 900: train loss 0.12942\niter_dt 13.76ms; iter 1000: train loss 0.33237\niter_dt 14.14ms; iter 1100: train loss 0.12031\niter_dt 13.40ms; iter 1200: train loss 0.17841\niter_dt 13.54ms; iter 1300: train loss 0.38096\niter_dt 13.49ms; iter 1400: train loss 0.30287\niter_dt 13.52ms; iter 1500: train loss 0.20512\niter_dt 13.54ms; iter 1600: train loss 0.33354\niter_dt 13.33ms; iter 1700: train loss 0.19630\niter_dt 13.38ms; iter 1800: train loss 0.46864\niter_dt 13.37ms; iter 1900: train loss 0.27285\niter_dt 13.42ms; iter 2000: train loss 0.27580\niter_dt 13.36ms; iter 2100: train loss 0.25281\niter_dt 13.65ms; iter 2200: train loss 0.42685\niter_dt 13.39ms; iter 2300: train loss 0.36187\niter_dt 13.32ms; iter 2400: train loss 0.25840\niter_dt 13.38ms; iter 2500: train loss 0.16906\niter_dt 13.26ms; iter 2600: train loss 0.22782\niter_dt 13.44ms; iter 2700: train loss 0.13520\niter_dt 13.79ms; iter 2800: train loss 0.27719\niter_dt 13.65ms; iter 2900: train loss 0.15413\niter_dt 13.56ms; iter 3000: train loss 0.18007\niter_dt 13.60ms; iter 3100: train loss 0.16878\niter_dt 13.77ms; iter 3200: train loss 0.14821\niter_dt 13.52ms; iter 3300: train loss 0.13850\niter_dt 13.56ms; iter 3400: train loss 0.15334\niter_dt 13.83ms; iter 3500: train loss 0.23385\niter_dt 13.62ms; iter 3600: train loss 0.17562\niter_dt 13.40ms; iter 3700: train loss 0.13260\niter_dt 13.87ms; iter 3800: train loss 0.17196\niter_dt 13.65ms; iter 3900: train loss 0.23335\niter_dt 13.46ms; iter 4000: train loss 0.03798\niter_dt 13.46ms; iter 4100: train loss 0.01938\niter_dt 13.46ms; iter 4200: train loss 0.05939\niter_dt 13.36ms; iter 4300: train loss 0.00569\niter_dt 13.33ms; iter 4400: train loss 0.00514\niter_dt 13.84ms; iter 4500: train loss 0.02444\niter_dt 13.72ms; iter 4600: train loss 0.00261\niter_dt 13.40ms; iter 4700: train loss 0.00239\niter_dt 13.33ms; iter 4800: train loss 0.00106\niter_dt 13.49ms; iter 4900: train loss 0.00100\niter_dt 13.41ms; iter 5000: train loss 0.00050\niter_dt 13.51ms; iter 5100: train loss 0.00911\niter_dt 13.27ms; iter 5200: train loss 0.00255\niter_dt 13.42ms; iter 5300: train loss 0.02803\niter_dt 13.60ms; iter 5400: train loss 0.00083\niter_dt 13.69ms; iter 5500: train loss 0.00485\niter_dt 13.86ms; iter 5600: train loss 0.00054\niter_dt 13.76ms; iter 5700: train loss 0.00058\niter_dt 13.84ms; iter 5800: train loss 0.00040\niter_dt 13.70ms; iter 5900: train loss 0.00061\niter_dt 13.65ms; iter 6000: train loss 0.06607\niter_dt 13.55ms; iter 6100: train loss 0.08847\niter_dt 13.81ms; iter 6200: train loss 0.00034\niter_dt 13.61ms; iter 6300: train loss 0.00027\niter_dt 13.37ms; iter 6400: train loss 0.00081\niter_dt 13.34ms; iter 6500: train loss 0.00045\niter_dt 13.68ms; iter 6600: train loss 0.00028\niter_dt 13.92ms; iter 6700: train loss 0.00037\niter_dt 13.55ms; iter 6800: train loss 0.00032\niter_dt 13.63ms; iter 6900: train loss 0.00033\niter_dt 13.60ms; iter 7000: train loss 0.00018\niter_dt 13.61ms; iter 7100: train loss 0.00141\niter_dt 13.51ms; iter 7200: train loss 0.11993\niter_dt 13.56ms; iter 7300: train loss 0.00017\niter_dt 13.77ms; iter 7400: train loss 0.00039\niter_dt 13.80ms; iter 7500: train loss 0.00013\niter_dt 13.55ms; iter 7600: train loss 0.15383\niter_dt 13.62ms; iter 7700: train loss 0.00031\niter_dt 13.45ms; iter 7800: train loss 0.00013\niter_dt 13.80ms; iter 7900: train loss 0.00011\niter_dt 13.65ms; iter 8000: train loss 0.00019\niter_dt 13.79ms; iter 8100: train loss 0.00018\niter_dt 13.95ms; iter 8200: train loss 0.00063\niter_dt 13.68ms; iter 8300: train loss 0.00012\niter_dt 13.53ms; iter 8400: train loss 0.00561\niter_dt 13.72ms; iter 8500: train loss 0.00021\niter_dt 13.53ms; iter 8600: train loss 0.01486\niter_dt 13.94ms; iter 8700: train loss 0.00067\niter_dt 13.50ms; iter 8800: train loss 0.00080\niter_dt 13.40ms; iter 8900: train loss 0.00104\niter_dt 13.69ms; iter 9000: train loss 0.00009\niter_dt 13.46ms; iter 9100: train loss 0.00140\niter_dt 13.33ms; iter 9200: train loss 0.02086\niter_dt 14.82ms; iter 9300: train loss 0.00016\niter_dt 13.50ms; iter 9400: train loss 0.00016\niter_dt 13.47ms; iter 9500: train loss 0.00221\niter_dt 13.51ms; iter 9600: train loss 0.00287\niter_dt 13.45ms; iter 9700: train loss 0.00007\niter_dt 13.46ms; iter 9800: train loss 0.00014\niter_dt 13.56ms; iter 9900: train loss 0.00008\n"
     ]
    }
   ],
   "source": [
    "\n",
    "train_dataset_cl_mixed = KVRetrievalDatasetMixedDict('train', length=length, mixing_fraction=0.9)\n",
    "\n",
    "model_config = GPT.get_default_config()\n",
    "model_config.model_type = 'gpt-nano'\n",
    "model_config.vocab_size = train_dataset_cl.get_vocab_size()\n",
    "model_config.block_size = train_dataset_cl.get_block_size()\n",
    "\n",
    "train_config = Trainer.get_default_config()\n",
    "train_config.learning_rate = 5e-4 # the model we're using is so small that we can go a bit faster\n",
    "train_config.max_iters = 10000\n",
    "train_config.num_workers = 0\n",
    "\n",
    "model_cl_mixed = GPT(model_config)\n",
    "trainer_cl_mixed = Trainer(train_config, model_cl_mixed, train_dataset_cl_mixed)\n",
    "\n",
    "def batch_end_callback(trainer):\n",
    "    if trainer.iter_num % 100 == 0:\n",
    "        print(f\"iter_dt {trainer.iter_dt * 1000:.2f}ms; iter {trainer.iter_num}: train loss {trainer.loss.item():.5f}\")\n",
    "\n",
    "trainer_cl_mixed.set_callback('on_batch_end', batch_end_callback)\n",
    "\n",
    "trainer_cl_mixed.run()"
   ]
  },
  {
   "cell_type": "code",
   "execution_count": 0,
   "metadata": {
    "application/vnd.databricks.v1+cell": {
     "cellMetadata": {
      "byteLimit": 2048000,
      "rowLimit": 10000
     },
     "inputWidgets": {},
     "nuid": "52ad8982-c6b2-4967-afe2-af443b5311c4",
     "showTitle": false,
     "tableResultSettingsMap": {},
     "title": ""
    }
   },
   "outputs": [
    {
     "output_type": "execute_result",
     "data": {
      "text/plain": [
       "tensor([9, 6, 8, 0, 7, 4, 2, 5, 1, 3])"
      ]
     },
     "execution_count": 47,
     "metadata": {},
     "output_type": "execute_result"
    }
   ],
   "source": [
    "train_dataset_cl_mixed.dictionary"
   ]
  },
  {
   "cell_type": "code",
   "execution_count": 0,
   "metadata": {
    "application/vnd.databricks.v1+cell": {
     "cellMetadata": {
      "byteLimit": 2048000,
      "rowLimit": 10000
     },
     "inputWidgets": {},
     "nuid": "7cc69689-eff6-4f12-b613-e1a5282ae506",
     "showTitle": false,
     "tableResultSettingsMap": {},
     "title": ""
    }
   },
   "outputs": [
    {
     "output_type": "stream",
     "name": "stdout",
     "output_type": "stream",
     "text": [
      "GPT claims that [3, 0, 1, 6, 9, 3, 2, 8, 0, 9, 9, 3, 2] sorted is 6 but gt is 8\nGPT claims that [1, 6, 0, 9, 0, 9, 5, 4, 9, 3, 8, 1, 5] sorted is 9 but gt is 4\nGPT claims that [9, 3, 6, 2, 0, 9, 1, 6, 9, 3, 4, 7, 6] sorted is 3 but gt is 2\ntrain final score: 4987/5000 = 99.74% correct\n"
     ]
    }
   ],
   "source": [
    "with torch.no_grad():\n",
    "    train_score = eval_split(trainer_cl_mixed, model_cl_mixed, train_dataset_cl_mixed, max_batches=50, split='train')"
   ]
  },
  {
   "cell_type": "code",
   "execution_count": 0,
   "metadata": {
    "application/vnd.databricks.v1+cell": {
     "cellMetadata": {},
     "inputWidgets": {},
     "nuid": "22fddaa5-a0f9-4b30-acd0-c1314c066756",
     "showTitle": false,
     "tableResultSettingsMap": {},
     "title": ""
    }
   },
   "outputs": [],
   "source": [
    "# run the trainer with an accuracy module on test data to generate some plots\n",
    "\n",
    "# next experiment should be using different vocabs for incontext and different vocabs for distributional. Can it still do in context for the vocab that it didnt learn in context for? \n",
    "\n",
    "\n"
   ]
  },
  {
   "cell_type": "code",
   "execution_count": 0,
   "metadata": {
    "application/vnd.databricks.v1+cell": {
     "cellMetadata": {
      "byteLimit": 2048000,
      "rowLimit": 10000
     },
     "inputWidgets": {},
     "nuid": "a1c8d8d9-fd94-411e-ae6b-d51f4465330f",
     "showTitle": false,
     "tableResultSettingsMap": {},
     "title": ""
    }
   },
   "outputs": [
    {
     "output_type": "stream",
     "name": "stdout",
     "output_type": "stream",
     "text": [
      "[1.0, 1.0, 1.0, 1.0, 1.0, 1.0, 1.0, 1.0, 0.9999999999594005, 0.9994025630810964, 0.5124639029464901, 0.0007426158813180409, 6.14710625554844e-11, 5.733998967058023e-23, 7.398609952070017e-41, 4.011456488099696e-66, 1.928862707499965e-101, 5.7105330833317175e-152, 1.8818495009837187e-229, 0.0]\n"
     ]
    }
   ],
   "source": [
    "from scipy.stats import binom\n",
    "import numpy as np\n",
    "\n",
    "n = np.arange(5, 15, 1)\n",
    "p = np.arange(0, 1, 0.05)\n",
    "n = 1024\n",
    "\n",
    "cdf_value = [binom.cdf(n//2, n, p_test) for p_test in p]\n",
    "\n",
    "print(cdf_value)"
   ]
  },
  {
   "cell_type": "code",
   "execution_count": 0,
   "metadata": {
    "application/vnd.databricks.v1+cell": {
     "cellMetadata": {
      "byteLimit": 2048000,
      "rowLimit": 10000
     },
     "inputWidgets": {},
     "nuid": "9d5e375a-0e62-4805-a875-a4bdd4a416f4",
     "showTitle": false,
     "tableResultSettingsMap": {},
     "title": ""
    }
   },
   "outputs": [
    {
     "output_type": "execute_result",
     "data": {
      "text/plain": [
       "1024"
      ]
     },
     "execution_count": 4,
     "metadata": {},
     "output_type": "execute_result"
    }
   ],
   "source": [
    "n"
   ]
  },
  {
   "cell_type": "code",
   "execution_count": 0,
   "metadata": {
    "application/vnd.databricks.v1+cell": {
     "cellMetadata": {
      "byteLimit": 2048000,
      "rowLimit": 10000
     },
     "inputWidgets": {},
     "nuid": "5e0e6684-0910-4ea6-b770-6ae13625bb2e",
     "showTitle": false,
     "tableResultSettingsMap": {},
     "title": ""
    }
   },
   "outputs": [
    {
     "output_type": "execute_result",
     "data": {
      "text/plain": [
       "0.99956835"
      ]
     },
     "execution_count": 8,
     "metadata": {},
     "output_type": "execute_result"
    }
   ],
   "source": [
    "binom.cdf(4, 8, 0.1)"
   ]
  }
 ],
 "metadata": {
  "application/vnd.databricks.v1+notebook": {
   "computePreferences": null,
   "dashboards": [],
   "environmentMetadata": {
    "base_environment": "",
    "environment_version": "1"
   },
   "inputWidgetPreferences": null,
   "language": "python",
   "notebookMetadata": {
    "pythonIndentUnit": 2
   },
   "notebookName": "ICLExperiment New Idea",
   "widgets": {}
  },
  "language_info": {
   "name": "python"
  }
 },
 "nbformat": 4,
 "nbformat_minor": 0
}