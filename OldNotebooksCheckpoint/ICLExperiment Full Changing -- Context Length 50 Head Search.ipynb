{
 "cells": [
  {
   "cell_type": "code",
   "execution_count": 0,
   "metadata": {
    "application/vnd.databricks.v1+cell": {
     "cellMetadata": {
      "byteLimit": 2048000,
      "rowLimit": 10000
     },
     "inputWidgets": {},
     "nuid": "74822be7-2240-4c04-9d22-b07af5fca015",
     "showTitle": false,
     "tableResultSettingsMap": {},
     "title": ""
    }
   },
   "outputs": [
    {
     "output_type": "stream",
     "name": "stdout",
     "output_type": "stream",
     "text": [
      "1\n"
     ]
    }
   ],
   "source": [
    "import torch\n",
    "from torch.utils.data.dataloader import DataLoader\n",
    "import minGPT\n",
    "from minGPT.mingpt.utils import set_seed\n",
    "\n",
    "set_seed(3407)\n",
    "print(torch.cuda.device_count())\n",
    "from torch.nn import functional as F\n",
    "\n",
    "import InContextLearningExperiments.icldatasets_new_idea as datasets"
   ]
  },
  {
   "cell_type": "code",
   "execution_count": 0,
   "metadata": {
    "application/vnd.databricks.v1+cell": {
     "cellMetadata": {
      "byteLimit": 2048000,
      "rowLimit": 10000
     },
     "inputWidgets": {},
     "nuid": "4c596781-cda8-427e-b0dd-bd60d7c12cbd",
     "showTitle": false,
     "tableResultSettingsMap": {},
     "title": ""
    }
   },
   "outputs": [
    {
     "output_type": "execute_result",
     "data": {
      "text/plain": [
       "<module 'minGPT' (namespace) from ['/Workspace/Users/naman.agarwal@dreamsports.group/minGPT', '/Workspace/Users/naman.agarwal@dreamsports.group/minGPT']>"
      ]
     },
     "execution_count": 2,
     "metadata": {},
     "output_type": "execute_result"
    }
   ],
   "source": [
    "import importlib\n",
    "importlib.reload(datasets)\n",
    "importlib.reload(minGPT)"
   ]
  },
  {
   "cell_type": "code",
   "execution_count": 0,
   "metadata": {
    "application/vnd.databricks.v1+cell": {
     "cellMetadata": {
      "byteLimit": 2048000,
      "rowLimit": 10000
     },
     "inputWidgets": {},
     "nuid": "86fb5133-2e5b-410f-be49-e8af2a505da1",
     "showTitle": false,
     "tableResultSettingsMap": {},
     "title": ""
    }
   },
   "outputs": [],
   "source": [
    "import seaborn as sns\n",
    "\n",
    "import matplotlib.pyplot as plt"
   ]
  },
  {
   "cell_type": "code",
   "execution_count": 0,
   "metadata": {
    "application/vnd.databricks.v1+cell": {
     "cellMetadata": {
      "byteLimit": 2048000,
      "rowLimit": 10000
     },
     "inputWidgets": {},
     "nuid": "ec3c397d-ea9c-4874-b722-a271db52bcb0",
     "showTitle": false,
     "tableResultSettingsMap": {},
     "title": ""
    }
   },
   "outputs": [],
   "source": [
    "# Set context length (2*length+1) and vocab_size\n",
    "train_dataset_mixed_dict = {}\n",
    "mixed_loaders = {}\n",
    "l = 50\n",
    "length = l\n",
    "vocab_size = l\n",
    "# train_dataset_changing_dict[l] = datasets.KVRetrievalDatasetChangingDictNewIdea('train', vocab_size=vocab_size, length=length, perm_or_random='perm')\n",
    "# changing_loader[l] = DataLoader(train_dataset_changing_dict, batch_size=1, num_workers=0, drop_last=False)\n",
    "train_dataset_mixed_dict[l] = datasets.KVRetrievalDatasetMixedDictNewIdea('train', vocab_size=vocab_size, length=length, mixing_fraction=0.0, perm_or_random='perm')\n",
    "mixed_loaders[l] = DataLoader(train_dataset_mixed_dict[l], batch_size=32, num_workers=0, drop_last=False)\n",
    "\n",
    "\n"
   ]
  },
  {
   "cell_type": "code",
   "execution_count": 0,
   "metadata": {
    "application/vnd.databricks.v1+cell": {
     "cellMetadata": {
      "byteLimit": 2048000,
      "rowLimit": 10000
     },
     "inputWidgets": {},
     "nuid": "202e9810-0f34-45ff-ace6-8d5dccfede5e",
     "showTitle": false,
     "tableResultSettingsMap": {},
     "title": ""
    }
   },
   "outputs": [],
   "source": [
    "# create a GPT instance\n",
    "from minGPT.mingpt.model import GPT\n",
    "# create a Trainer object\n",
    "from minGPT.mingpt.trainer import Trainer\n",
    "\n",
    "\n",
    "losses = []\n",
    "def batch_end_callback(trainer):\n",
    "    losses.append(trainer.loss.item())\n",
    "    if trainer.iter_num % 100 == 0:\n",
    "        print(f\"iter_dt {trainer.iter_dt * 1000:.2f}ms; iter {trainer.iter_num}: train loss {trainer.loss.item():.5f}; mean loss last 20 iters: {np.mean(losses[-20:]):.5f}\")"
   ]
  },
  {
   "cell_type": "code",
   "execution_count": 0,
   "metadata": {
    "application/vnd.databricks.v1+cell": {
     "cellMetadata": {
      "byteLimit": 2048000,
      "rowLimit": 10000
     },
     "inputWidgets": {},
     "nuid": "106e8d54-80a0-4af5-8f4a-dfebd8afb592",
     "showTitle": false,
     "tableResultSettingsMap": {},
     "title": ""
    }
   },
   "outputs": [
    {
     "output_type": "stream",
     "name": "stdout",
     "output_type": "stream",
     "text": [
      "number of parameters: 2.71M\nrunning on device cuda\nPrint to test changes are going though\niter_dt 0.00ms; iter 0: train loss 4.63869\niter_dt 113.40ms; iter 100: train loss 4.03327\niter_dt 112.95ms; iter 200: train loss 3.94034\niter_dt 114.30ms; iter 300: train loss 3.90785\niter_dt 107.51ms; iter 400: train loss 3.86688\niter_dt 110.01ms; iter 500: train loss 3.81143\niter_dt 109.53ms; iter 600: train loss 3.76376\niter_dt 107.81ms; iter 700: train loss 3.72659\niter_dt 124.23ms; iter 800: train loss 3.69146\niter_dt 107.28ms; iter 900: train loss 3.66188\niter_dt 104.64ms; iter 1000: train loss 3.62530\niter_dt 111.17ms; iter 1100: train loss 3.60435\niter_dt 90.90ms; iter 1200: train loss 3.57651\niter_dt 117.54ms; iter 1300: train loss 3.56285\niter_dt 103.02ms; iter 1400: train loss 3.53496\niter_dt 98.95ms; iter 1500: train loss 3.51281\niter_dt 87.78ms; iter 1600: train loss 3.49427\niter_dt 98.68ms; iter 1700: train loss 3.47857\niter_dt 95.64ms; iter 1800: train loss 3.46298\niter_dt 93.63ms; iter 1900: train loss 3.44088\niter_dt 102.17ms; iter 2000: train loss 3.44299\niter_dt 112.46ms; iter 2100: train loss 3.42078\niter_dt 117.93ms; iter 2200: train loss 3.41174\niter_dt 107.46ms; iter 2300: train loss 3.41491\niter_dt 114.09ms; iter 2400: train loss 3.40601\niter_dt 109.79ms; iter 2500: train loss 3.38864\niter_dt 91.92ms; iter 2600: train loss 3.36872\niter_dt 99.40ms; iter 2700: train loss 3.36689\niter_dt 95.64ms; iter 2800: train loss 3.36862\niter_dt 113.13ms; iter 2900: train loss 3.36027\niter_dt 100.15ms; iter 3000: train loss 3.35449\niter_dt 96.06ms; iter 3100: train loss 3.34604\niter_dt 99.58ms; iter 3200: train loss 3.33010\niter_dt 113.20ms; iter 3300: train loss 3.34351\niter_dt 101.51ms; iter 3400: train loss 3.32393\niter_dt 110.34ms; iter 3500: train loss 3.32720\niter_dt 103.96ms; iter 3600: train loss 3.32330\niter_dt 90.05ms; iter 3700: train loss 3.30507\niter_dt 96.61ms; iter 3800: train loss 3.30952\niter_dt 107.45ms; iter 3900: train loss 3.29234\niter_dt 92.33ms; iter 4000: train loss 3.29490\niter_dt 100.57ms; iter 4100: train loss 3.28416\niter_dt 101.35ms; iter 4200: train loss 3.27575\niter_dt 99.86ms; iter 4300: train loss 3.27292\niter_dt 90.97ms; iter 4400: train loss 3.27502\niter_dt 74.47ms; iter 4500: train loss 3.27090\niter_dt 108.87ms; iter 4600: train loss 3.27586\niter_dt 91.94ms; iter 4700: train loss 3.25225\niter_dt 98.80ms; iter 4800: train loss 3.25337\niter_dt 124.96ms; iter 4900: train loss 3.24622\niter_dt 110.38ms; iter 5000: train loss 3.24695\niter_dt 86.49ms; iter 5100: train loss 3.23386\niter_dt 92.39ms; iter 5200: train loss 3.23190\niter_dt 99.05ms; iter 5300: train loss 3.22563\niter_dt 78.47ms; iter 5400: train loss 3.21966\niter_dt 104.07ms; iter 5500: train loss 3.21090\niter_dt 87.23ms; iter 5600: train loss 3.21454\niter_dt 98.20ms; iter 5700: train loss 3.19826\niter_dt 108.99ms; iter 5800: train loss 3.19426\niter_dt 93.40ms; iter 5900: train loss 3.18062\niter_dt 92.85ms; iter 6000: train loss 3.17172\niter_dt 103.49ms; iter 6100: train loss 3.17486\niter_dt 90.00ms; iter 6200: train loss 3.16669\niter_dt 104.82ms; iter 6300: train loss 3.15682\niter_dt 100.52ms; iter 6400: train loss 3.14726\niter_dt 97.83ms; iter 6500: train loss 3.15242\niter_dt 98.91ms; iter 6600: train loss 3.14446\niter_dt 91.78ms; iter 6700: train loss 3.14204\niter_dt 103.47ms; iter 6800: train loss 3.13195\niter_dt 121.44ms; iter 6900: train loss 3.13718\niter_dt 89.64ms; iter 7000: train loss 3.11604\niter_dt 106.02ms; iter 7100: train loss 3.12945\niter_dt 118.73ms; iter 7200: train loss 3.11602\niter_dt 105.93ms; iter 7300: train loss 3.12579\niter_dt 112.15ms; iter 7400: train loss 3.11463\niter_dt 102.04ms; iter 7500: train loss 3.11568\niter_dt 89.44ms; iter 7600: train loss 3.11003\niter_dt 106.07ms; iter 7700: train loss 3.10578\niter_dt 101.24ms; iter 7800: train loss 3.10797\niter_dt 99.46ms; iter 7900: train loss 3.10668\niter_dt 109.11ms; iter 8000: train loss 3.10975\niter_dt 99.80ms; iter 8100: train loss 3.10251\niter_dt 99.74ms; iter 8200: train loss 3.10630\niter_dt 105.17ms; iter 8300: train loss 3.09427\niter_dt 104.27ms; iter 8400: train loss 3.09864\niter_dt 96.37ms; iter 8500: train loss 3.09894\niter_dt 101.92ms; iter 8600: train loss 3.10101\niter_dt 94.67ms; iter 8700: train loss 3.10328\niter_dt 94.83ms; iter 8800: train loss 3.09185\niter_dt 99.46ms; iter 8900: train loss 3.09513\niter_dt 110.61ms; iter 9000: train loss 3.08826\niter_dt 97.38ms; iter 9100: train loss 3.09762\niter_dt 109.65ms; iter 9200: train loss 3.09488\niter_dt 109.14ms; iter 9300: train loss 3.08409\niter_dt 114.97ms; iter 9400: train loss 3.08556\niter_dt 94.62ms; iter 9500: train loss 3.08494\niter_dt 111.84ms; iter 9600: train loss 3.08767\niter_dt 119.94ms; iter 9700: train loss 3.08930\niter_dt 82.39ms; iter 9800: train loss 3.08407\niter_dt 106.71ms; iter 9900: train loss 3.08358\niter_dt 86.48ms; iter 10000: train loss 3.08149\niter_dt 94.84ms; iter 10100: train loss 3.08237\niter_dt 88.27ms; iter 10200: train loss 3.08917\niter_dt 103.65ms; iter 10300: train loss 3.07149\niter_dt 98.89ms; iter 10400: train loss 3.07984\niter_dt 115.38ms; iter 10500: train loss 3.06896\niter_dt 106.87ms; iter 10600: train loss 3.07720\niter_dt 101.98ms; iter 10700: train loss 3.08510\niter_dt 129.61ms; iter 10800: train loss 3.07054\niter_dt 97.17ms; iter 10900: train loss 3.07326\niter_dt 94.70ms; iter 11000: train loss 3.07423\niter_dt 95.39ms; iter 11100: train loss 3.08777\niter_dt 84.39ms; iter 11200: train loss 3.07046\niter_dt 101.23ms; iter 11300: train loss 3.08020\niter_dt 77.29ms; iter 11400: train loss 3.07510\niter_dt 114.94ms; iter 11500: train loss 3.07522\niter_dt 100.86ms; iter 11600: train loss 3.07414\niter_dt 104.91ms; iter 11700: train loss 3.07163\niter_dt 102.17ms; iter 11800: train loss 3.08107\niter_dt 91.81ms; iter 11900: train loss 3.07326\niter_dt 83.31ms; iter 12000: train loss 3.07483\niter_dt 106.92ms; iter 12100: train loss 3.06861\niter_dt 75.31ms; iter 12200: train loss 3.07379\niter_dt 115.44ms; iter 12300: train loss 3.06731\niter_dt 123.40ms; iter 12400: train loss 3.06760\niter_dt 85.36ms; iter 12500: train loss 3.07393\niter_dt 104.71ms; iter 12600: train loss 3.06278\niter_dt 73.43ms; iter 12700: train loss 3.06391\niter_dt 99.20ms; iter 12800: train loss 3.06649\niter_dt 113.22ms; iter 12900: train loss 3.06077\niter_dt 109.62ms; iter 13000: train loss 3.06927\niter_dt 100.69ms; iter 13100: train loss 3.08070\niter_dt 91.50ms; iter 13200: train loss 3.07553\niter_dt 120.21ms; iter 13300: train loss 3.06726\niter_dt 122.44ms; iter 13400: train loss 3.06705\niter_dt 88.93ms; iter 13500: train loss 3.06877\niter_dt 95.52ms; iter 13600: train loss 3.07059\niter_dt 105.89ms; iter 13700: train loss 3.06018\niter_dt 97.90ms; iter 13800: train loss 3.06139\niter_dt 89.49ms; iter 13900: train loss 3.05730\niter_dt 93.78ms; iter 14000: train loss 3.06532\niter_dt 88.16ms; iter 14100: train loss 3.05838\niter_dt 112.52ms; iter 14200: train loss 3.06405\niter_dt 93.55ms; iter 14300: train loss 3.05808\niter_dt 96.27ms; iter 14400: train loss 3.06840\niter_dt 103.06ms; iter 14500: train loss 3.06363\niter_dt 122.21ms; iter 14600: train loss 3.05893\niter_dt 99.00ms; iter 14700: train loss 3.06014\niter_dt 115.97ms; iter 14800: train loss 3.05938\niter_dt 93.83ms; iter 14900: train loss 3.06362\niter_dt 110.79ms; iter 15000: train loss 3.05746\niter_dt 95.33ms; iter 15100: train loss 3.05503\niter_dt 104.22ms; iter 15200: train loss 3.05698\niter_dt 95.48ms; iter 15300: train loss 3.05246\niter_dt 102.90ms; iter 15400: train loss 3.06361\niter_dt 115.13ms; iter 15500: train loss 3.05806\niter_dt 107.69ms; iter 15600: train loss 3.06134\niter_dt 116.82ms; iter 15700: train loss 3.06012\niter_dt 108.28ms; iter 15800: train loss 3.06860\niter_dt 114.35ms; iter 15900: train loss 3.06232\niter_dt 89.52ms; iter 16000: train loss 3.05290\niter_dt 102.86ms; iter 16100: train loss 3.05973\niter_dt 108.64ms; iter 16200: train loss 3.06386\niter_dt 92.19ms; iter 16300: train loss 3.05948\niter_dt 111.28ms; iter 16400: train loss 3.05713\niter_dt 87.13ms; iter 16500: train loss 3.05122\niter_dt 102.29ms; iter 16600: train loss 3.05601\niter_dt 93.82ms; iter 16700: train loss 3.04652\niter_dt 100.28ms; iter 16800: train loss 3.06033\niter_dt 90.93ms; iter 16900: train loss 3.05869\niter_dt 92.53ms; iter 17000: train loss 3.05932\niter_dt 100.41ms; iter 17100: train loss 3.05038\niter_dt 114.40ms; iter 17200: train loss 3.04718\niter_dt 105.69ms; iter 17300: train loss 3.05639\niter_dt 120.62ms; iter 17400: train loss 3.05758\niter_dt 105.11ms; iter 17500: train loss 3.05256\niter_dt 117.42ms; iter 17600: train loss 3.06234\niter_dt 105.85ms; iter 17700: train loss 3.05896\niter_dt 111.57ms; iter 17800: train loss 3.05897\niter_dt 128.99ms; iter 17900: train loss 3.06276\niter_dt 102.66ms; iter 18000: train loss 3.05537\niter_dt 100.14ms; iter 18100: train loss 3.05264\niter_dt 109.22ms; iter 18200: train loss 3.04945\niter_dt 107.31ms; iter 18300: train loss 3.04545\niter_dt 117.51ms; iter 18400: train loss 3.05196\niter_dt 88.80ms; iter 18500: train loss 3.04903\niter_dt 109.88ms; iter 18600: train loss 3.04979\niter_dt 99.91ms; iter 18700: train loss 3.05214\niter_dt 91.87ms; iter 18800: train loss 3.05013\niter_dt 92.91ms; iter 18900: train loss 3.05259\niter_dt 116.84ms; iter 19000: train loss 3.05118\niter_dt 87.89ms; iter 19100: train loss 3.04749\niter_dt 103.89ms; iter 19200: train loss 3.04930\niter_dt 101.72ms; iter 19300: train loss 3.04589\niter_dt 103.72ms; iter 19400: train loss 3.04815\niter_dt 103.40ms; iter 19500: train loss 3.04664\niter_dt 104.77ms; iter 19600: train loss 3.05463\niter_dt 115.91ms; iter 19700: train loss 3.04378\niter_dt 121.39ms; iter 19800: train loss 3.04334\niter_dt 126.18ms; iter 19900: train loss 3.04729\n"
     ]
    }
   ],
   "source": [
    "depths = [6]\n",
    "n_embd = 192\n",
    "heads = [6]\n",
    "model_dicts = {}\n",
    "trainer_dicts = {}\n",
    "for d in depths:\n",
    "  for h in heads:\n",
    "    length = l\n",
    "    vocab_size = l\n",
    "    model_config = GPT.get_default_config()\n",
    "    model_config.model_type = None\n",
    "    model_config.vocab_size = 2*vocab_size\n",
    "    model_config.block_size = 2*length - 1\n",
    "    model_config.n_layer = d\n",
    "    model_config.n_head = h\n",
    "    model_config.n_embd = n_embd\n",
    "\n",
    "    train_config = Trainer.get_default_config()\n",
    "    train_config.learning_rate = 5e-5 # the model we're using is so small that we can go a bit faster\n",
    "    train_config.max_iters = 20000\n",
    "    train_config.num_workers = 0\n",
    "    model_dicts[(d, h)] = GPT(model_config)\n",
    "    trainer_dicts[(d, h)] = Trainer(train_config, model_dicts[(d, h)], train_dataset_mixed_dict[l])\n",
    "    trainer_dicts[(d, h)].set_callback('on_batch_end', batch_end_callback)\n",
    "    trainer_dicts[(d, h)].run()\n"
   ]
  },
  {
   "cell_type": "code",
   "execution_count": 0,
   "metadata": {
    "application/vnd.databricks.v1+cell": {
     "cellMetadata": {
      "byteLimit": 2048000,
      "rowLimit": 10000
     },
     "inputWidgets": {},
     "nuid": "acdc8145-2954-4051-96cc-20cf41d09544",
     "showTitle": false,
     "tableResultSettingsMap": {},
     "title": ""
    }
   },
   "outputs": [],
   "source": [
    "import math\n",
    "from scipy.stats import entropy\n",
    "import numpy as np"
   ]
  },
  {
   "cell_type": "code",
   "execution_count": 0,
   "metadata": {
    "application/vnd.databricks.v1+cell": {
     "cellMetadata": {
      "byteLimit": 2048000,
      "rowLimit": 10000
     },
     "inputWidgets": {},
     "nuid": "a3a5cf2b-884c-4669-9a13-803287ec82cf",
     "showTitle": false,
     "tableResultSettingsMap": {},
     "title": ""
    }
   },
   "outputs": [],
   "source": [
    "import itertools"
   ]
  },
  {
   "cell_type": "code",
   "execution_count": 0,
   "metadata": {
    "application/vnd.databricks.v1+cell": {
     "cellMetadata": {
      "byteLimit": 2048000,
      "rowLimit": 10000
     },
     "inputWidgets": {},
     "nuid": "d11ec224-4a0d-42dd-aeca-fc9efec8a9ec",
     "showTitle": false,
     "tableResultSettingsMap": {},
     "title": ""
    }
   },
   "outputs": [
    {
     "output_type": "display_data",
     "data": {
      "image/png": "[encoded data removed]",
      "text/plain": [
       "<Figure size 640x480 with 1 Axes>"
      ]
     },
     "metadata": {},
     "output_type": "display_data"
    }
   ],
   "source": [
    "for (k,(d, n_embd)) in enumerate(list(itertools.product(depths, heads))):\n",
    "  model_dict = model_dicts[(d, n_embd)]\n",
    "  trainer_dict = trainer_dicts[(d, n_embd)]\n",
    "  loader = mixed_loaders[l]\n",
    "  #print(loader.dataset.dictionary)\n",
    "  train_dataset_changing_dict = datasets.KVRetrievalDatasetChangingDictNewIdea('train', vocab_size=l, length=l, perm_or_random='perm')\n",
    "  changing_loader = DataLoader(train_dataset_changing_dict, batch_size=1, num_workers=0, drop_last=False)\n",
    "\n",
    "  samples = []\n",
    "  j = 0\n",
    "  while j < 100:\n",
    "    a,b = next(iter(changing_loader))\n",
    "    #print(a,b)\n",
    "    if loader.dataset.dictionary[a[0][0]] != b[0][0]:\n",
    "      j+=1\n",
    "      samples.append([a,b])\n",
    "\n",
    "  all_ents = []\n",
    "  for a,b in samples:\n",
    "    ans=model_dict.generate(a.to(trainer_dict.device), 1, do_sample=False)\n",
    "    probs = F.softmax(ans[1], dim=-1)\n",
    "    dict_so_far = {}\n",
    "    things_fixed = 0\n",
    "    entropies = []\n",
    "    for i in range(0, ans[1].size(1), 2):\n",
    "      entropies.append(entropy(probs[0][i].cpu().numpy()))\n",
    "    all_ents.append(entropies)\n",
    "  all_ents = np.array(all_ents)\n",
    "  #print(all_ents)\n",
    "\n",
    "  true_entropies = []\n",
    "  for i in range(0, ans[1].size(1), 2):\n",
    "    # if i==0:\n",
    "    #   q = a[0][i].cpu().item()\n",
    "    #   qa = b[0][i].cpu().item()\n",
    "    #   j = i // 2\n",
    "    #   pa = (0.9 + 0.1*math.factorial(l - (j+1))/math.factorial(l)) / (0.9 + 0.1*math.factorial(l - (j))/math.factorial(l))\n",
    "    #   pb = (1 - pa)/(l-1)\n",
    "    #   #print(pa)\n",
    "    #   true_entropies.append(entropy([pa] + [pb]*(l-1)))\n",
    "    # else:\n",
    "    true_entropies.append(np.log(l - i//2))\n",
    "    \n",
    "  #print(entropies)\n",
    "  stds = np.std(all_ents, axis=0)\n",
    "  #print(stds)\n",
    "  all_ents = np.mean(all_ents, axis=0)\n",
    "  # if k == 0:\n",
    "  #   plt.fill_between(range(len(all_ents)), all_ents - stds, all_ents + stds, color='blue', alpha=0.1, label='±1 Std Dev Entropy of Predicted Distribution')\n",
    "  # else:\n",
    "  #   plt.fill_between(range(len(all_ents)), all_ents - stds, all_ents + stds, color='blue', alpha=0.1)\n",
    "\n",
    "  plt.plot(all_ents, label=f'Average Entropy of Predicted Distribution w. l={l}')\n",
    "\n",
    "  plt.plot(true_entropies, label=f'True Conditional Distribution w. l={l}')\n",
    "  plt.xlabel('Label Position w_i')\n",
    "  plt.xticks(range(len(all_ents)))\n",
    "  plt.ylabel('Entropy')\n",
    "  plt.legend()\n",
    "  plt.show()"
   ]
  },
  {
   "cell_type": "code",
   "execution_count": 0,
   "metadata": {
    "application/vnd.databricks.v1+cell": {
     "cellMetadata": {
      "byteLimit": 2048000,
      "rowLimit": 10000
     },
     "inputWidgets": {},
     "nuid": "b3937c6f-e9ea-4efe-b7c3-9559cbc57982",
     "showTitle": false,
     "tableResultSettingsMap": {},
     "title": ""
    }
   },
   "outputs": [
    {
     "output_type": "stream",
     "name": "stdout",
     "output_type": "stream",
     "text": [
      "[0.12227859 0.02577648 0.02014509 0.02502266 0.03464423 0.0424665\n 0.05246561 0.09523968 0.1009225  0.04996781]\n"
     ]
    },
    {
     "output_type": "display_data",
     "data": {
      "image/png": "[encoded data removed]",
      "text/plain": [
       "<Figure size 640x480 with 1 Axes>"
      ]
     },
     "metadata": {},
     "output_type": "display_data"
    }
   ],
   "source": [
    "#train_dataset_fixed_dict = datasets.KVRetrievalDatasetFixedDictNewIdea('train', vocab_size=vocab_size, length=length, mixing_fraction=0.9, perm_or_random='perm', dictionary=loader.dataset.dictionary)\n",
    "#fixed_loader = DataLoader(train_dataset_fixed_dict, batch_size=1, num_workers=0, drop_last=False)\n",
    "\n",
    "samples = []\n",
    "j = 0\n",
    "while j < 100:\n",
    "  a,b = next(iter(loader))\n",
    "  if loader.dataset.dictionary[a[0][0]] != b[0][0]:\n",
    "    j+=1\n",
    "    samples.append([a,b])\n",
    "  \n",
    "\n",
    "all_ents = []\n",
    "for a,b in samples:\n",
    "  ans=model_dict.generate(a.to(trainer_dict.device), 1, do_sample=False)\n",
    "  probs = F.softmax(ans[1], dim=-1)\n",
    "  dict_so_far = {}\n",
    "  things_fixed = 0\n",
    "  entropies = []\n",
    "  for i in range(0, ans[1].size(1), 2):\n",
    "    entropies.append(entropy(probs[0][i].cpu().numpy()))\n",
    "  all_ents.append(entropies)\n",
    "all_ents = np.array(all_ents)\n",
    "#print(all_ents)\n",
    "\n",
    "true_entropies = []\n",
    "for i in range(0, ans[1].size(1), 2):\n",
    "  if i==0:\n",
    "    q = a[0][i].cpu().item()\n",
    "    qa = b[0][i].cpu().item()\n",
    "    j = i // 2\n",
    "    pa = (0.9 + 0.1*math.factorial(10 - (j+1))/math.factorial(10)) / (0.9 + 0.1*math.factorial(10 - (j))/math.factorial(10))\n",
    "    pb = (1 - pa)/9 \n",
    "    #print(pa)\n",
    "    true_entropies.append(entropy([pa] + [pb]*9))\n",
    "  else:\n",
    "    true_entropies.append(np.log(10 - i//2))\n",
    "  # if q in dict_so_far:\n",
    "  #   true_entropies.append(np.log(1))\n",
    "  # else:\n",
    "  #   true_entropies.append(np.log(vocab_size - things_fixed))\n",
    "  #   dict_so_far[q] = qa\n",
    "  #   things_fixed += 1\n",
    "  \n",
    "#print(entropies)\n",
    "stds = np.std(all_ents, axis=0)\n",
    "print(stds)\n",
    "all_ents = np.mean(all_ents, axis=0)\n",
    "plt.fill_between(range(len(all_ents)), all_ents - stds, all_ents + stds, color='blue', alpha=0.1, label='±1 Std Dev Entropy of Predicted Distribution')\n",
    "\n",
    "plt.plot(all_ents, label='Average Entropy of Predicted Distribution')\n",
    "plt.plot(true_entropies, label='True Conditional Distribution')\n",
    "plt.xlabel('Label Position w_i')\n",
    "plt.xticks(range(len(all_ents)))\n",
    "plt.ylabel('Entropy')\n",
    "plt.legend()\n",
    "plt.show()"
   ]
  },
  {
   "cell_type": "code",
   "execution_count": 0,
   "metadata": {
    "application/vnd.databricks.v1+cell": {
     "cellMetadata": {
      "byteLimit": 2048000,
      "rowLimit": 10000
     },
     "inputWidgets": {},
     "nuid": "8864c8f2-64c3-4064-8301-f6eeaf0ee434",
     "showTitle": false,
     "tableResultSettingsMap": {},
     "title": ""
    }
   },
   "outputs": [
    {
     "output_type": "stream",
     "name": "stdout",
     "output_type": "stream",
     "text": [
      "[0.15652254 0.05464776 0.02897016 0.03334576 0.04441554 0.05304552\n 0.05564843 0.08320993 0.1080453  0.05775912]\n"
     ]
    },
    {
     "output_type": "display_data",
     "data": {
      "image/png": "[encoded data removed]",
      "text/plain": [
       "<Figure size 640x480 with 1 Axes>"
      ]
     },
     "metadata": {},
     "output_type": "display_data"
    }
   ],
   "source": [
    "samples = []\n",
    "j = 0\n",
    "while j < 100:\n",
    "  a,b = next(iter(loader))\n",
    "  if (loader.dataset.dictionary[a[0][0]] == b[0][0]) and (loader.dataset.dictionary[a[0][2]] != b[0][2]):\n",
    "    j+=1\n",
    "    samples.append([a,b])\n",
    "  \n",
    "\n",
    "all_ents = []\n",
    "for a,b in samples:\n",
    "  ans=model_dict.generate(a.to(trainer_dict.device), 1, do_sample=False)\n",
    "  probs = F.softmax(ans[1], dim=-1)\n",
    "  dict_so_far = {}\n",
    "  things_fixed = 0\n",
    "  entropies = []\n",
    "  for i in range(0, ans[1].size(1), 2):\n",
    "    entropies.append(entropy(probs[0][i].cpu().numpy()))\n",
    "  all_ents.append(entropies)\n",
    "all_ents = np.array(all_ents)\n",
    "#print(all_ents)\n",
    "\n",
    "true_entropies = []\n",
    "for i in range(0, ans[1].size(1), 2):\n",
    "  if i < 3:\n",
    "    q = a[0][i].cpu().item()\n",
    "    qa = b[0][i].cpu().item()\n",
    "    j = i // 2\n",
    "    pa = (0.9 + 0.1*math.factorial(10 - (j+1))/math.factorial(10)) / (0.9 + 0.1*math.factorial(10 - (j))/math.factorial(10))\n",
    "    pb = (1 - pa)/9 \n",
    "    #print(pa)\n",
    "    true_entropies.append(entropy([pa] + [pb]*9))\n",
    "  else:\n",
    "    true_entropies.append(np.log(10 - i//2))\n",
    "  # if q in dict_so_far:\n",
    "  #   true_entropies.append(np.log(1))\n",
    "  # else:\n",
    "  #   true_entropies.append(np.log(vocab_size - things_fixed))\n",
    "  #   dict_so_far[q] = qa\n",
    "  #   things_fixed += 1\n",
    "  \n",
    "#print(entropies)\n",
    "stds = np.std(all_ents, axis=0)\n",
    "print(stds)\n",
    "all_ents = np.mean(all_ents, axis=0)\n",
    "plt.fill_between(range(len(all_ents)), all_ents - stds, all_ents + stds, color='blue', alpha=0.1, label='±1 Std Dev Entropy of Predicted Distribution')\n",
    "\n",
    "plt.plot(all_ents, label='Average Entropy of Predicted Distribution')\n",
    "plt.plot(true_entropies, label='True Conditional Distribution')\n",
    "plt.xlabel('Label Position w_i')\n",
    "plt.xticks(range(len(all_ents)))\n",
    "plt.ylabel('Entropy')\n",
    "plt.legend(loc='upper right')\n",
    "plt.show()"
   ]
  },
  {
   "cell_type": "code",
   "execution_count": 0,
   "metadata": {
    "application/vnd.databricks.v1+cell": {
     "cellMetadata": {
      "byteLimit": 2048000,
      "rowLimit": 10000
     },
     "inputWidgets": {},
     "nuid": "85abe6fc-259c-48d3-b607-f894675c0c29",
     "showTitle": false,
     "tableResultSettingsMap": {},
     "title": ""
    }
   },
   "outputs": [
    {
     "output_type": "display_data",
     "data": {
      "text/plain": [
       "\u001B[0;31m---------------------------------------------------------------------------\u001B[0m\n",
       "\u001B[0;31mNameError\u001B[0m                                 Traceback (most recent call last)\n",
       "File \u001B[0;32m<command-1051097308038049>, line 3\u001B[0m\n",
       "\u001B[1;32m      1\u001B[0m \u001B[38;5;66;03m# running a non cl trained trainer through non_cl dataset\u001B[39;00m\n",
       "\u001B[1;32m      2\u001B[0m \u001B[38;5;28;01mwith\u001B[39;00m torch\u001B[38;5;241m.\u001B[39mno_grad():\n",
       "\u001B[0;32m----> 3\u001B[0m     train_score_fixed_dict \u001B[38;5;241m=\u001B[39m eval_split(trainer_fixed_dict, model_fixed_dict, train_dataset_fixed_dict, max_batches\u001B[38;5;241m=\u001B[39m\u001B[38;5;241m50\u001B[39m, split\u001B[38;5;241m=\u001B[39m\u001B[38;5;124m'\u001B[39m\u001B[38;5;124mtrain\u001B[39m\u001B[38;5;124m'\u001B[39m)\n",
       "\u001B[1;32m      4\u001B[0m     test_score_fixed_dict  \u001B[38;5;241m=\u001B[39m eval_split(trainer_fixed_dict, model_fixed_dict, test_dataset_fixed_dict, max_batches\u001B[38;5;241m=\u001B[39m\u001B[38;5;241m50\u001B[39m, split\u001B[38;5;241m=\u001B[39m\u001B[38;5;124m'\u001B[39m\u001B[38;5;124mtest\u001B[39m\u001B[38;5;124m'\u001B[39m)\n",
       "\u001B[1;32m      5\u001B[0m     test_score_changing_dict \u001B[38;5;241m=\u001B[39m eval_split(trainer_fixed_dict, model_fixed_dict, test_dataset_changing_dict, max_batches\u001B[38;5;241m=\u001B[39m\u001B[38;5;241m50\u001B[39m, split\u001B[38;5;241m=\u001B[39m\u001B[38;5;124m'\u001B[39m\u001B[38;5;124mtest\u001B[39m\u001B[38;5;124m'\u001B[39m)\n",
       "\n",
       "\u001B[0;31mNameError\u001B[0m: name 'eval_split' is not defined"
      ]
     },
     "metadata": {
      "application/vnd.databricks.v1+output": {
       "addedWidgets": {},
       "arguments": {},
       "datasetInfos": [],
       "jupyterProps": {
        "ename": "NameError",
        "evalue": "name 'eval_split' is not defined"
       },
       "metadata": {
        "errorSummary": "<span class='ansi-red-fg'>NameError</span>: name 'eval_split' is not defined"
       },
       "removedWidgets": [],
       "sqlProps": null,
       "stackFrames": [
        "\u001B[0;31m---------------------------------------------------------------------------\u001B[0m",
        "\u001B[0;31mNameError\u001B[0m                                 Traceback (most recent call last)",
        "File \u001B[0;32m<command-1051097308038049>, line 3\u001B[0m\n\u001B[1;32m      1\u001B[0m \u001B[38;5;66;03m# running a non cl trained trainer through non_cl dataset\u001B[39;00m\n\u001B[1;32m      2\u001B[0m \u001B[38;5;28;01mwith\u001B[39;00m torch\u001B[38;5;241m.\u001B[39mno_grad():\n\u001B[0;32m----> 3\u001B[0m     train_score_fixed_dict \u001B[38;5;241m=\u001B[39m eval_split(trainer_fixed_dict, model_fixed_dict, train_dataset_fixed_dict, max_batches\u001B[38;5;241m=\u001B[39m\u001B[38;5;241m50\u001B[39m, split\u001B[38;5;241m=\u001B[39m\u001B[38;5;124m'\u001B[39m\u001B[38;5;124mtrain\u001B[39m\u001B[38;5;124m'\u001B[39m)\n\u001B[1;32m      4\u001B[0m     test_score_fixed_dict  \u001B[38;5;241m=\u001B[39m eval_split(trainer_fixed_dict, model_fixed_dict, test_dataset_fixed_dict, max_batches\u001B[38;5;241m=\u001B[39m\u001B[38;5;241m50\u001B[39m, split\u001B[38;5;241m=\u001B[39m\u001B[38;5;124m'\u001B[39m\u001B[38;5;124mtest\u001B[39m\u001B[38;5;124m'\u001B[39m)\n\u001B[1;32m      5\u001B[0m     test_score_changing_dict \u001B[38;5;241m=\u001B[39m eval_split(trainer_fixed_dict, model_fixed_dict, test_dataset_changing_dict, max_batches\u001B[38;5;241m=\u001B[39m\u001B[38;5;241m50\u001B[39m, split\u001B[38;5;241m=\u001B[39m\u001B[38;5;124m'\u001B[39m\u001B[38;5;124mtest\u001B[39m\u001B[38;5;124m'\u001B[39m)\n",
        "\u001B[0;31mNameError\u001B[0m: name 'eval_split' is not defined"
       ],
       "type": "baseError"
      }
     },
     "output_type": "display_data"
    }
   ],
   "source": [
    "\n",
    "# running a non cl trained trainer through non_cl dataset\n",
    "with torch.no_grad():\n",
    "    train_score_fixed_dict = eval_split(trainer_fixed_dict, model_fixed_dict, train_dataset_fixed_dict, max_batches=50, split='train')\n",
    "    test_score_fixed_dict  = eval_split(trainer_fixed_dict, model_fixed_dict, test_dataset_fixed_dict, max_batches=50, split='test')\n",
    "    test_score_changing_dict = eval_split(trainer_fixed_dict, model_fixed_dict, test_dataset_changing_dict, max_batches=50, split='test')\n",
    "    test_score_mixed_dict_x1 = eval_split(trainer_fixed_dict, model_fixed_dict, test_dataset_mixed_dict_x1, max_batches=50, split='test')"
   ]
  },
  {
   "cell_type": "code",
   "execution_count": 0,
   "metadata": {
    "application/vnd.databricks.v1+cell": {
     "cellMetadata": {
      "byteLimit": 2048000,
      "rowLimit": 10000
     },
     "inputWidgets": {},
     "nuid": "b7f4615b-bcff-4c17-bb66-dce91a84df3f",
     "showTitle": false,
     "tableResultSettingsMap": {},
     "title": ""
    }
   },
   "outputs": [
    {
     "output_type": "display_data",
     "data": {
      "text/plain": [
       ""
      ]
     },
     "metadata": {
      "application/vnd.databricks.v1+output": {
       "addedWidgets": {},
       "arguments": {},
       "datasetInfos": [],
       "jupyterProps": null,
       "metadata": {
        "errorSummary": "Command skipped"
       },
       "removedWidgets": [],
       "sqlProps": null,
       "stackFrames": [],
       "type": "baseError"
      }
     },
     "output_type": "display_data"
    }
   ],
   "source": [
    "loader = DataLoader(test_dataset_fixed_dict, batch_size=1, num_workers=0, drop_last=False)\n",
    "a = next(iter(loader))\n",
    "a = [a[0].to(trainer_fixed_dict.device), a[1].to(trainer_fixed_dict.device)]"
   ]
  },
  {
   "cell_type": "code",
   "execution_count": 0,
   "metadata": {
    "application/vnd.databricks.v1+cell": {
     "cellMetadata": {
      "byteLimit": 2048000,
      "rowLimit": 10000
     },
     "inputWidgets": {},
     "nuid": "118fd320-ad0c-4279-8e3b-9cdd8e263b81",
     "showTitle": false,
     "tableResultSettingsMap": {},
     "title": ""
    }
   },
   "outputs": [
    {
     "output_type": "display_data",
     "data": {
      "text/plain": [
       ""
      ]
     },
     "metadata": {
      "application/vnd.databricks.v1+output": {
       "addedWidgets": {},
       "arguments": {},
       "datasetInfos": [],
       "jupyterProps": null,
       "metadata": {
        "errorSummary": "Command skipped"
       },
       "removedWidgets": [],
       "sqlProps": null,
       "stackFrames": [],
       "type": "baseError"
      }
     },
     "output_type": "display_data"
    }
   ],
   "source": [
    "\n",
    "print(a)\n",
    "with torch.no_grad():\n",
    "  cat, att_matrices = model_fixed_dict.generate(a[0], 1, do_sample=False)\n",
    "  print(cat)\n",
    "  print(att_matrices)"
   ]
  },
  {
   "cell_type": "code",
   "execution_count": 0,
   "metadata": {
    "application/vnd.databricks.v1+cell": {
     "cellMetadata": {
      "byteLimit": 2048000,
      "rowLimit": 10000
     },
     "inputWidgets": {},
     "nuid": "1598ae96-9c30-403e-8c59-1bb967bdd5be",
     "showTitle": false,
     "tableResultSettingsMap": {},
     "title": ""
    }
   },
   "outputs": [
    {
     "output_type": "display_data",
     "data": {
      "text/plain": [
       ""
      ]
     },
     "metadata": {
      "application/vnd.databricks.v1+output": {
       "addedWidgets": {},
       "arguments": {},
       "datasetInfos": [],
       "jupyterProps": null,
       "metadata": {
        "errorSummary": "Command skipped"
       },
       "removedWidgets": [],
       "sqlProps": null,
       "stackFrames": [],
       "type": "baseError"
      }
     },
     "output_type": "display_data"
    }
   ],
   "source": [
    "from matplotlib.colors import LogNorm, Normalize\n",
    "import numpy as np\n",
    "import pandas as pd"
   ]
  },
  {
   "cell_type": "code",
   "execution_count": 0,
   "metadata": {
    "application/vnd.databricks.v1+cell": {
     "cellMetadata": {
      "byteLimit": 2048000,
      "rowLimit": 10000
     },
     "inputWidgets": {},
     "nuid": "1bdb04e9-d267-48ed-8111-e6d45f2dc252",
     "showTitle": false,
     "tableResultSettingsMap": {},
     "title": ""
    }
   },
   "outputs": [
    {
     "output_type": "display_data",
     "data": {
      "text/plain": [
       ""
      ]
     },
     "metadata": {
      "application/vnd.databricks.v1+output": {
       "addedWidgets": {},
       "arguments": {},
       "datasetInfos": [],
       "jupyterProps": null,
       "metadata": {
        "errorSummary": "Command skipped"
       },
       "removedWidgets": [],
       "sqlProps": null,
       "stackFrames": [],
       "type": "baseError"
      }
     },
     "output_type": "display_data"
    }
   ],
   "source": [
    "print(type(att_matrices[0][0]))\n",
    "print(att_matrices[0][0].size())\n",
    "for i in range(att_matrices[0][0].size()[1]):\n",
    "  #plt.imshow(att_matrices[0][0][0][i].cpu(), cmap='hot', interpolation='nearest')\n",
    "  ax = sns.heatmap(att_matrices[0][0][0][i].cpu(), linewidth=0.5, norm=LogNorm())\n",
    "  plt.show()"
   ]
  },
  {
   "cell_type": "code",
   "execution_count": 0,
   "metadata": {
    "application/vnd.databricks.v1+cell": {
     "cellMetadata": {
      "byteLimit": 2048000,
      "rowLimit": 10000
     },
     "inputWidgets": {},
     "nuid": "628bfaf7-e602-4892-8cee-1afb2bde9b45",
     "showTitle": false,
     "tableResultSettingsMap": {},
     "title": ""
    }
   },
   "outputs": [
    {
     "output_type": "display_data",
     "data": {
      "text/plain": [
       ""
      ]
     },
     "metadata": {
      "application/vnd.databricks.v1+output": {
       "addedWidgets": {},
       "arguments": {},
       "datasetInfos": [],
       "jupyterProps": null,
       "metadata": {
        "errorSummary": "Command skipped"
       },
       "removedWidgets": [],
       "sqlProps": null,
       "stackFrames": [],
       "type": "baseError"
      }
     },
     "output_type": "display_data"
    }
   ],
   "source": [
    "def prettyprint(A):\n",
    "  A = np.array(A)\n",
    "  A = pd.DataFrame(A)\n",
    "  A.columns = ['']*A.shape[1]\n",
    "  print(A.to_string(index=False))"
   ]
  },
  {
   "cell_type": "code",
   "execution_count": 0,
   "metadata": {
    "application/vnd.databricks.v1+cell": {
     "cellMetadata": {
      "byteLimit": 2048000,
      "rowLimit": 10000
     },
     "inputWidgets": {},
     "nuid": "c90595e6-74b1-4a49-808a-4b41c6e66d18",
     "showTitle": false,
     "tableResultSettingsMap": {},
     "title": ""
    }
   },
   "outputs": [
    {
     "output_type": "display_data",
     "data": {
      "text/plain": [
       ""
      ]
     },
     "metadata": {
      "application/vnd.databricks.v1+output": {
       "addedWidgets": {},
       "arguments": {},
       "datasetInfos": [],
       "jupyterProps": null,
       "metadata": {
        "errorSummary": "Command skipped"
       },
       "removedWidgets": [],
       "sqlProps": null,
       "stackFrames": [],
       "type": "baseError"
      }
     },
     "output_type": "display_data"
    }
   ],
   "source": [
    "prettyprint(att_matrices[0][0][0][0].cpu())"
   ]
  },
  {
   "cell_type": "code",
   "execution_count": 0,
   "metadata": {
    "application/vnd.databricks.v1+cell": {
     "cellMetadata": {
      "byteLimit": 2048000,
      "rowLimit": 10000
     },
     "inputWidgets": {},
     "nuid": "7eea4d37-f2b7-44b9-9c3c-0e5d801f876b",
     "showTitle": false,
     "tableResultSettingsMap": {},
     "title": ""
    }
   },
   "outputs": [
    {
     "output_type": "display_data",
     "data": {
      "text/plain": [
       ""
      ]
     },
     "metadata": {
      "application/vnd.databricks.v1+output": {
       "addedWidgets": {},
       "arguments": {},
       "datasetInfos": [],
       "jupyterProps": null,
       "metadata": {
        "errorSummary": "Command skipped"
       },
       "removedWidgets": [],
       "sqlProps": null,
       "stackFrames": [],
       "type": "baseError"
      }
     },
     "output_type": "display_data"
    }
   ],
   "source": [
    "model_changing_dict = GPT(model_config)\n",
    "train_config.max_iters = 10000\n",
    "trainer_changing_dict = Trainer(train_config, model_changing_dict, train_dataset_changing_dict)\n",
    "trainer_changing_dict.set_callback('on_batch_end', batch_end_callback)\n",
    "trainer_changing_dict.run()"
   ]
  },
  {
   "cell_type": "code",
   "execution_count": 0,
   "metadata": {
    "application/vnd.databricks.v1+cell": {
     "cellMetadata": {
      "byteLimit": 2048000,
      "rowLimit": 10000
     },
     "inputWidgets": {},
     "nuid": "3b5519d0-86e9-4bd3-93bb-61658c10a663",
     "showTitle": false,
     "tableResultSettingsMap": {},
     "title": ""
    }
   },
   "outputs": [
    {
     "output_type": "display_data",
     "data": {
      "text/plain": [
       ""
      ]
     },
     "metadata": {
      "application/vnd.databricks.v1+output": {
       "addedWidgets": {},
       "arguments": {},
       "datasetInfos": [],
       "jupyterProps": null,
       "metadata": {
        "errorSummary": "Command skipped"
       },
       "removedWidgets": [],
       "sqlProps": null,
       "stackFrames": [],
       "type": "baseError"
      }
     },
     "output_type": "display_data"
    }
   ],
   "source": [
    "# running a non cl trained trainer through non_cl dataset\n",
    "with torch.no_grad():\n",
    "    train_score_changing_dict = eval_split(trainer_changing_dict, model_changing_dict, train_dataset_changing_dict, max_batches=50, split='train')\n",
    "    test_score_fixed_dict  = eval_split(trainer_changing_dict, model_changing_dict, test_dataset_fixed_dict, max_batches=50, split='test')\n",
    "    test_score_changing_dict = eval_split(trainer_changing_dict, model_changing_dict, test_dataset_changing_dict, max_batches=50, split='test')\n",
    "    test_score_mixed_dict_x1 = eval_split(trainer_changing_dict, model_changing_dict, test_dataset_mixed_dict_x1, max_batches=50, split='test')"
   ]
  },
  {
   "cell_type": "code",
   "execution_count": 0,
   "metadata": {
    "application/vnd.databricks.v1+cell": {
     "cellMetadata": {
      "byteLimit": 2048000,
      "rowLimit": 10000
     },
     "inputWidgets": {},
     "nuid": "6ec209be-ac15-4718-988b-83beee6521aa",
     "showTitle": false,
     "tableResultSettingsMap": {},
     "title": ""
    }
   },
   "outputs": [
    {
     "output_type": "display_data",
     "data": {
      "text/plain": [
       ""
      ]
     },
     "metadata": {
      "application/vnd.databricks.v1+output": {
       "addedWidgets": {},
       "arguments": {},
       "datasetInfos": [],
       "jupyterProps": null,
       "metadata": {
        "errorSummary": "Command skipped"
       },
       "removedWidgets": [],
       "sqlProps": null,
       "stackFrames": [],
       "type": "baseError"
      }
     },
     "output_type": "display_data"
    }
   ],
   "source": [
    "model_mixed_dict_x1 = GPT(model_config)\n",
    "train_config.max_iters = 10000\n",
    "trainer_mixed_dict_x1 = Trainer(train_config, model_mixed_dict_x1, train_dataset_mixed_dict_x1)\n",
    "trainer_mixed_dict_x1.set_callback('on_batch_end', batch_end_callback)\n",
    "trainer_mixed_dict_x1.run()"
   ]
  },
  {
   "cell_type": "code",
   "execution_count": 0,
   "metadata": {
    "application/vnd.databricks.v1+cell": {
     "cellMetadata": {
      "byteLimit": 2048000,
      "rowLimit": 10000
     },
     "inputWidgets": {},
     "nuid": "25f8f3aa-ee2b-4791-97d5-edd7346deb8d",
     "showTitle": false,
     "tableResultSettingsMap": {},
     "title": ""
    }
   },
   "outputs": [
    {
     "output_type": "display_data",
     "data": {
      "text/plain": [
       ""
      ]
     },
     "metadata": {
      "application/vnd.databricks.v1+output": {
       "addedWidgets": {},
       "arguments": {},
       "datasetInfos": [],
       "jupyterProps": null,
       "metadata": {
        "errorSummary": "Command skipped"
       },
       "removedWidgets": [],
       "sqlProps": null,
       "stackFrames": [],
       "type": "baseError"
      }
     },
     "output_type": "display_data"
    }
   ],
   "source": [
    "loader = DataLoader(dataset, batch_size=100, num_workers=0, drop_last=False)\n",
    "for b, (x, y) in enumerate(loader):\n",
    "    #print(x,y)\n",
    "    x = x.to(trainer.device)\n",
    "    y = y.to(trainer.device)\n",
    "    # isolate the input pattern alone\n",
    "    inp = x\n",
    "    sol = y[:, -1]\n",
    "    #print(inp.size())\n",
    "    # let the model sample the rest of the sequence\n",
    "    cat, att_matrices = model.generate(inp, 1, do_sample=False) # using greedy argmax, not sampling\n",
    "    print(len(att_matrices))\n",
    "    sol_candidate = cat[:, -1] # isolate the filled in sequence\n",
    "    # compare the predicted sequence to the true sequence\n",
    "    #print(sol, sol_candidate)\n",
    "    correct = (sol == sol_candidate).cpu() # Software 1.0 vs. Software 2.0 fight RIGHT on this line haha\n",
    "    #print(x.size(0))\n",
    "    #print(correct)\n",
    "    for i in range(x.size(0)):\n",
    "        results.append(int(correct[i]))\n",
    "        if not correct[i] and mistakes_printed_already < 3: # only print up to 5 mistakes to get a sense\n",
    "            mistakes_printed_already += 1\n",
    "            print(\"GPT claims that %s sorted is %s but gt is %s\" % (inp[i].tolist(), sol_candidate[i].tolist(), sol[i].tolist()))\n",
    "    if max_batches is not None and b+1 >= max_batches:\n",
    "        break"
   ]
  },
  {
   "cell_type": "code",
   "execution_count": 0,
   "metadata": {
    "application/vnd.databricks.v1+cell": {
     "cellMetadata": {
      "byteLimit": 2048000,
      "rowLimit": 10000
     },
     "inputWidgets": {},
     "nuid": "eff499c2-fb57-4560-9e3e-8470684be8cd",
     "showTitle": false,
     "tableResultSettingsMap": {},
     "title": ""
    }
   },
   "outputs": [
    {
     "output_type": "display_data",
     "data": {
      "text/plain": [
       ""
      ]
     },
     "metadata": {
      "application/vnd.databricks.v1+output": {
       "addedWidgets": {},
       "arguments": {},
       "datasetInfos": [],
       "jupyterProps": null,
       "metadata": {
        "errorSummary": "Command skipped"
       },
       "removedWidgets": [],
       "sqlProps": null,
       "stackFrames": [],
       "type": "baseError"
      }
     },
     "output_type": "display_data"
    }
   ],
   "source": [
    "print(train_dataset_mixed_dict_x1.dictionary)\n",
    "print(train_dataset_fixed_dict.dictionary)"
   ]
  },
  {
   "cell_type": "code",
   "execution_count": 0,
   "metadata": {
    "application/vnd.databricks.v1+cell": {
     "cellMetadata": {
      "byteLimit": 2048000,
      "rowLimit": 10000
     },
     "inputWidgets": {},
     "nuid": "5a939777-caa8-469f-841c-8e87492d16e0",
     "showTitle": false,
     "tableResultSettingsMap": {},
     "title": ""
    }
   },
   "outputs": [
    {
     "output_type": "display_data",
     "data": {
      "text/plain": [
       ""
      ]
     },
     "metadata": {
      "application/vnd.databricks.v1+output": {
       "addedWidgets": {},
       "arguments": {},
       "datasetInfos": [],
       "jupyterProps": null,
       "metadata": {
        "errorSummary": "Command skipped"
       },
       "removedWidgets": [],
       "sqlProps": null,
       "stackFrames": [],
       "type": "baseError"
      }
     },
     "output_type": "display_data"
    }
   ],
   "source": [
    "with torch.no_grad():\n",
    "    train_score_mixed_dict_x1 = eval_split(trainer_mixed_dict_x1, model_mixed_dict_x1, train_dataset_mixed_dict_x1, max_batches=50, split='train')\n",
    "    test_score_fixed_dict  = eval_split(trainer_mixed_dict_x1, model_mixed_dict_x1, test_dataset_fixed_dict, max_batches=50, split='test')\n",
    "    test_score_changing_dict = eval_split(trainer_mixed_dict_x1, model_mixed_dict_x1, test_dataset_changing_dict, max_batches=50, split='test')\n",
    "    test_score_mixed_dict_x1 = eval_split(trainer_mixed_dict_x1, model_mixed_dict_x1, test_dataset_mixed_dict_x1, max_batches=50, split='test')"
   ]
  },
  {
   "cell_type": "code",
   "execution_count": 0,
   "metadata": {
    "application/vnd.databricks.v1+cell": {
     "cellMetadata": {
      "byteLimit": 2048000,
      "rowLimit": 10000
     },
     "inputWidgets": {},
     "nuid": "055dff29-04c5-49da-8982-40333fe4e5fd",
     "showTitle": false,
     "tableResultSettingsMap": {},
     "title": ""
    }
   },
   "outputs": [
    {
     "output_type": "display_data",
     "data": {
      "text/plain": [
       ""
      ]
     },
     "metadata": {
      "application/vnd.databricks.v1+output": {
       "addedWidgets": {},
       "arguments": {},
       "datasetInfos": [],
       "jupyterProps": null,
       "metadata": {
        "errorSummary": "Command skipped"
       },
       "removedWidgets": [],
       "sqlProps": null,
       "stackFrames": [],
       "type": "baseError"
      }
     },
     "output_type": "display_data"
    }
   ],
   "source": [
    "from torch.utils.data import Dataset\n",
    "\n",
    "class KVRetrievalDatasetMixedDictSeparatedVocab(Dataset):\n",
    "    \"\"\" \n",
    "    Dataset for InContext Learning. \n",
    "    \"\"\"\n",
    "\n",
    "    def __init__(self, split, length=6, vocab_size=10, additional_vocab = 2, dictionary=None, mixing_fraction=0.0):\n",
    "        assert split in {'train', 'test'}\n",
    "        self.split = split\n",
    "        self.length = length\n",
    "        self.vocab_size = 2*vocab_size + additional_vocab\n",
    "        self.true_vocab_size = vocab_size\n",
    "        self.mixing_fraction = mixing_fraction\n",
    "        self.dictionary = dictionary if dictionary is not None else self._generate_dictionary()\n",
    "          \n",
    "    def _generate_dictionary(self):\n",
    "        return torch.randperm(self.true_vocab_size)\n",
    "\n",
    "    def _generate_extended_dictionary(self):\n",
    "        return torch.randperm(self.true_vocab_size) + self.true_vocab_size\n",
    "\n",
    "    def __len__(self):\n",
    "        return 10000 # ...\n",
    "    \n",
    "    def get_vocab_size(self):\n",
    "        return self.vocab_size\n",
    "    \n",
    "    def get_block_size(self):\n",
    "        # the length of the sequence that will feed into transformer, \n",
    "        # containing concatenated input and the output, but -1 because\n",
    "        # the transformer starts making predictions at the last input element\n",
    "        return 2*self.length + 1\n",
    "\n",
    "    def __getitem__(self, idx):\n",
    "        decider = torch.rand(1) < 0.5\n",
    "        dictionary = self.dictionary if decider else self._generate_extended_dictionary()\n",
    "        context_keys = torch.randint(self.true_vocab_size, size=(self.length,), dtype=torch.long)\n",
    "        context_labels = torch.index_select(dictionary, 0, context_keys)\n",
    "        # find a key thats appeared in this context\n",
    "        question_key = torch.index_select(context_keys, 0, torch.randint(self.length, size=(1,), dtype=torch.long))\n",
    "        question_label = torch.index_select(dictionary, 0, question_key)\n",
    "        # make final context\n",
    "        context_keys = torch.concat([context_keys, question_key], dim=0) if decider else torch.concat([context_keys + self.true_vocab_size, question_key + self.true_vocab_size], dim=0)\n",
    "        context_labels = torch.concat([context_labels, question_label], dim=0)\n",
    "\n",
    "\n",
    "        \n",
    "        #interleave them\n",
    "        full_context = torch.flatten(torch.stack([context_keys, context_labels]).t())\n",
    "        # provide everything but the last label to TX\n",
    "        x = full_context[:-1].clone()\n",
    "        # Mask everything but the last label in the loss\n",
    "        y = full_context[1:].clone()\n",
    "        y[:2*self.length] = -1\n",
    "        return x, y"
   ]
  },
  {
   "cell_type": "code",
   "execution_count": 0,
   "metadata": {
    "application/vnd.databricks.v1+cell": {
     "cellMetadata": {
      "byteLimit": 2048000,
      "rowLimit": 10000
     },
     "inputWidgets": {},
     "nuid": "d7bf8772-6ed6-4cd9-81b3-7295733d9bb8",
     "showTitle": false,
     "tableResultSettingsMap": {},
     "title": ""
    }
   },
   "outputs": [
    {
     "output_type": "display_data",
     "data": {
      "text/plain": [
       ""
      ]
     },
     "metadata": {
      "application/vnd.databricks.v1+output": {
       "addedWidgets": {},
       "arguments": {},
       "datasetInfos": [],
       "jupyterProps": null,
       "metadata": {
        "errorSummary": "Command skipped"
       },
       "removedWidgets": [],
       "sqlProps": null,
       "stackFrames": [],
       "type": "baseError"
      }
     },
     "output_type": "display_data"
    }
   ],
   "source": [
    "train_dataset_mixed_dict_x1_sep_vocab = KVRetrievalDatasetMixedDictSeparatedVocab('train', length=length, dictionary=train_dataset_fixed_dict.dictionary, mixing_fraction=0.5, vocab_size=vocab_size)"
   ]
  },
  {
   "cell_type": "code",
   "execution_count": 0,
   "metadata": {
    "application/vnd.databricks.v1+cell": {
     "cellMetadata": {
      "byteLimit": 2048000,
      "rowLimit": 10000
     },
     "inputWidgets": {},
     "nuid": "34a39900-450d-4d38-b0e6-c02282cc9bd5",
     "showTitle": false,
     "tableResultSettingsMap": {},
     "title": ""
    }
   },
   "outputs": [
    {
     "output_type": "display_data",
     "data": {
      "text/plain": [
       ""
      ]
     },
     "metadata": {
      "application/vnd.databricks.v1+output": {
       "addedWidgets": {},
       "arguments": {},
       "datasetInfos": [],
       "jupyterProps": null,
       "metadata": {
        "errorSummary": "Command skipped"
       },
       "removedWidgets": [],
       "sqlProps": null,
       "stackFrames": [],
       "type": "baseError"
      }
     },
     "output_type": "display_data"
    }
   ],
   "source": [
    "print(train_dataset_mixed_dict_x1_sep_vocab.dictionary)\n",
    "print(train_dataset_fixed_dict.dictionary)\n",
    "\n",
    "for i in range(15):\n",
    "  print(train_dataset_mixed_dict_x1_sep_vocab[i])"
   ]
  },
  {
   "cell_type": "code",
   "execution_count": 0,
   "metadata": {
    "application/vnd.databricks.v1+cell": {
     "cellMetadata": {
      "byteLimit": 2048000,
      "rowLimit": 10000
     },
     "inputWidgets": {},
     "nuid": "5a20c141-1457-4174-8cc4-a1898ea27cda",
     "showTitle": false,
     "tableResultSettingsMap": {},
     "title": ""
    }
   },
   "outputs": [
    {
     "output_type": "display_data",
     "data": {
      "text/plain": [
       ""
      ]
     },
     "metadata": {
      "application/vnd.databricks.v1+output": {
       "addedWidgets": {},
       "arguments": {},
       "datasetInfos": [],
       "jupyterProps": null,
       "metadata": {
        "errorSummary": "Command skipped"
       },
       "removedWidgets": [],
       "sqlProps": null,
       "stackFrames": [],
       "type": "baseError"
      }
     },
     "output_type": "display_data"
    }
   ],
   "source": [
    "model_config = GPT.get_default_config()\n",
    "model_config.model_type = 'gpt-nano'\n",
    "model_config.vocab_size = 2*vocab_size+2\n",
    "model_config.block_size = 2*length + 1\n",
    "\n",
    "train_config = Trainer.get_default_config()\n",
    "train_config.learning_rate = 5e-4 # the model we're using is so small that we can go a bit faster\n",
    "train_config.max_iters = 50000\n",
    "train_config.num_workers = 0\n",
    "\n",
    "model_mixed_dict_x1_sep_vocab = GPT(model_config)\n",
    "trainer_mixed_dict_x1_sep_vocab = Trainer(train_config, model_mixed_dict_x1_sep_vocab, train_dataset_mixed_dict_x1_sep_vocab)\n",
    "trainer_mixed_dict_x1_sep_vocab.set_callback('on_batch_end', batch_end_callback)\n",
    "trainer_mixed_dict_x1_sep_vocab.run()"
   ]
  },
  {
   "cell_type": "code",
   "execution_count": 0,
   "metadata": {
    "application/vnd.databricks.v1+cell": {
     "cellMetadata": {
      "byteLimit": 2048000,
      "rowLimit": 10000
     },
     "inputWidgets": {},
     "nuid": "8080a575-aa56-4fc7-a2c6-e130fa322d81",
     "showTitle": false,
     "tableResultSettingsMap": {},
     "title": ""
    }
   },
   "outputs": [
    {
     "output_type": "display_data",
     "data": {
      "text/plain": [
       ""
      ]
     },
     "metadata": {
      "application/vnd.databricks.v1+output": {
       "addedWidgets": {},
       "arguments": {},
       "datasetInfos": [],
       "jupyterProps": null,
       "metadata": {
        "errorSummary": "Command skipped"
       },
       "removedWidgets": [],
       "sqlProps": null,
       "stackFrames": [],
       "type": "baseError"
      }
     },
     "output_type": "display_data"
    }
   ],
   "source": [
    "with torch.no_grad():\n",
    "    train_score_mixed_dict_x1_sep_vocab = eval_split(trainer_mixed_dict_x1_sep_vocab, model_mixed_dict_x1_sep_vocab, train_dataset_mixed_dict_x1_sep_vocab, max_batches=50, split='train')\n",
    "    test_score_fixed_dict  = eval_split(trainer_mixed_dict_x1_sep_vocab, model_mixed_dict_x1_sep_vocab, test_dataset_fixed_dict, max_batches=50, split='test')\n",
    "    test_score_changing_dict = eval_split(trainer_mixed_dict_x1_sep_vocab, model_mixed_dict_x1_sep_vocab, test_dataset_changing_dict, max_batches=50, split='test')\n",
    "    test_score_mixed_dict_x1 = eval_split(trainer_mixed_dict_x1_sep_vocab, model_mixed_dict_x1_sep_vocab, test_dataset_mixed_dict_x1, max_batches=50, split='test')"
   ]
  },
  {
   "cell_type": "code",
   "execution_count": 0,
   "metadata": {
    "application/vnd.databricks.v1+cell": {
     "cellMetadata": {
      "byteLimit": 2048000,
      "rowLimit": 10000
     },
     "inputWidgets": {},
     "nuid": "479dea0b-8127-4343-84d9-93d6f15a7634",
     "showTitle": false,
     "tableResultSettingsMap": {},
     "title": ""
    }
   },
   "outputs": [
    {
     "output_type": "display_data",
     "data": {
      "text/plain": [
       ""
      ]
     },
     "metadata": {
      "application/vnd.databricks.v1+output": {
       "addedWidgets": {},
       "arguments": {},
       "datasetInfos": [],
       "jupyterProps": null,
       "metadata": {
        "errorSummary": "Command skipped"
       },
       "removedWidgets": [],
       "sqlProps": null,
       "stackFrames": [],
       "type": "baseError"
      }
     },
     "output_type": "display_data"
    }
   ],
   "source": [
    "# running a non cl trained trainer through non_cl dataset\n",
    "# shows roughly random accuracy\n",
    "with torch.no_grad():\n",
    "    train_score = eval_split(trainer_non_cl, model_non_cl, train_dataset_cl, max_batches=50, split='train')"
   ]
  },
  {
   "cell_type": "code",
   "execution_count": 0,
   "metadata": {
    "application/vnd.databricks.v1+cell": {
     "cellMetadata": {
      "byteLimit": 2048000,
      "rowLimit": 10000
     },
     "inputWidgets": {},
     "nuid": "0adc7bcc-699f-4e4d-a589-8d7937f0d2e1",
     "showTitle": false,
     "tableResultSettingsMap": {},
     "title": ""
    }
   },
   "outputs": [
    {
     "output_type": "display_data",
     "data": {
      "text/plain": [
       ""
      ]
     },
     "metadata": {
      "application/vnd.databricks.v1+output": {
       "addedWidgets": {},
       "arguments": {},
       "datasetInfos": [],
       "jupyterProps": null,
       "metadata": {
        "errorSummary": "Command skipped"
       },
       "removedWidgets": [],
       "sqlProps": null,
       "stackFrames": [],
       "type": "baseError"
      }
     },
     "output_type": "display_data"
    }
   ],
   "source": [
    "# even when we try a long sequence of repeatedly the right prompts \n",
    "inp = torch.tensor([[6, 7]*length + [6]])\n",
    "inp = inp.to(trainer_non_cl.device)\n",
    "print(inp, inp.size())\n",
    "with torch.no_grad():\n",
    "  cat = model_non_cl.generate(inp, 1, do_sample=False)\n",
    "  print(cat)"
   ]
  },
  {
   "cell_type": "code",
   "execution_count": 0,
   "metadata": {
    "application/vnd.databricks.v1+cell": {
     "cellMetadata": {
      "byteLimit": 2048000,
      "rowLimit": 10000
     },
     "inputWidgets": {},
     "nuid": "0a3dfaa7-a5c7-460f-8b43-6baa59667987",
     "showTitle": false,
     "tableResultSettingsMap": {},
     "title": ""
    }
   },
   "outputs": [
    {
     "output_type": "display_data",
     "data": {
      "text/plain": [
       ""
      ]
     },
     "metadata": {
      "application/vnd.databricks.v1+output": {
       "addedWidgets": {},
       "arguments": {},
       "datasetInfos": [],
       "jupyterProps": null,
       "metadata": {
        "errorSummary": "Command skipped"
       },
       "removedWidgets": [],
       "sqlProps": null,
       "stackFrames": [],
       "type": "baseError"
      }
     },
     "output_type": "display_data"
    }
   ],
   "source": [
    "# what if we try introducing a new key does thats not in voacb\n",
    "inp = torch.tensor([[11, 7]*length + [10]])\n",
    "inp = inp.to(trainer_non_cl.device)\n",
    "print(inp, inp.size())\n",
    "with torch.no_grad():\n",
    "  cat = model_non_cl.generate(inp, 1, do_sample=False)\n",
    "  print(cat)"
   ]
  },
  {
   "cell_type": "code",
   "execution_count": 0,
   "metadata": {
    "application/vnd.databricks.v1+cell": {
     "cellMetadata": {
      "byteLimit": 2048000,
      "rowLimit": 10000
     },
     "inputWidgets": {},
     "nuid": "e2708956-421e-4836-9d11-6b8f24245128",
     "showTitle": false,
     "tableResultSettingsMap": {},
     "title": ""
    }
   },
   "outputs": [
    {
     "output_type": "display_data",
     "data": {
      "text/plain": [
       ""
      ]
     },
     "metadata": {
      "application/vnd.databricks.v1+output": {
       "addedWidgets": {},
       "arguments": {},
       "datasetInfos": [],
       "jupyterProps": null,
       "metadata": {
        "errorSummary": "Command skipped"
       },
       "removedWidgets": [],
       "sqlProps": null,
       "stackFrames": [],
       "type": "baseError"
      }
     },
     "output_type": "display_data"
    }
   ],
   "source": [
    "model_config = GPT.get_default_config()\n",
    "model_config.model_type = 'gpt-nano'\n",
    "model_config.vocab_size = train_dataset_cl.get_vocab_size()\n",
    "model_config.block_size = train_dataset_cl.get_block_size()\n",
    "\n",
    "train_config = Trainer.get_default_config()\n",
    "train_config.learning_rate = 5e-4 # the model we're using is so small that we can go a bit faster\n",
    "train_config.max_iters = 10000\n",
    "train_config.num_workers = 0\n",
    "\n",
    "model_cl = GPT(model_config)\n",
    "trainer_cl = Trainer(train_config, model_cl, train_dataset_cl)\n",
    "\n",
    "def batch_end_callback(trainer):\n",
    "    if trainer.iter_num % 100 == 0:\n",
    "        print(f\"iter_dt {trainer.iter_dt * 1000:.2f}ms; iter {trainer.iter_num}: train loss {trainer.loss.item():.5f}\")\n",
    "\n",
    "trainer_cl.set_callback('on_batch_end', batch_end_callback)\n",
    "\n",
    "trainer_cl.run()"
   ]
  },
  {
   "cell_type": "code",
   "execution_count": 0,
   "metadata": {
    "application/vnd.databricks.v1+cell": {
     "cellMetadata": {
      "byteLimit": 2048000,
      "rowLimit": 10000
     },
     "inputWidgets": {},
     "nuid": "3906396c-8e63-421c-bad5-1218d077d18b",
     "showTitle": false,
     "tableResultSettingsMap": {},
     "title": ""
    }
   },
   "outputs": [
    {
     "output_type": "display_data",
     "data": {
      "text/plain": [
       ""
      ]
     },
     "metadata": {
      "application/vnd.databricks.v1+output": {
       "addedWidgets": {},
       "arguments": {},
       "datasetInfos": [],
       "jupyterProps": null,
       "metadata": {
        "errorSummary": "Command skipped"
       },
       "removedWidgets": [],
       "sqlProps": null,
       "stackFrames": [],
       "type": "baseError"
      }
     },
     "output_type": "display_data"
    }
   ],
   "source": [
    "with torch.no_grad():\n",
    "    train_score = eval_split(trainer_cl, model_cl, train_dataset_cl, max_batches=50, split='train')"
   ]
  },
  {
   "cell_type": "code",
   "execution_count": 0,
   "metadata": {
    "application/vnd.databricks.v1+cell": {
     "cellMetadata": {
      "byteLimit": 2048000,
      "rowLimit": 10000
     },
     "inputWidgets": {},
     "nuid": "17c7c32c-07db-48ec-844a-f5e2b6c8e384",
     "showTitle": false,
     "tableResultSettingsMap": {},
     "title": ""
    }
   },
   "outputs": [
    {
     "output_type": "display_data",
     "data": {
      "text/plain": [
       ""
      ]
     },
     "metadata": {
      "application/vnd.databricks.v1+output": {
       "addedWidgets": {},
       "arguments": {},
       "datasetInfos": [],
       "jupyterProps": null,
       "metadata": {
        "errorSummary": "Command skipped"
       },
       "removedWidgets": [],
       "sqlProps": null,
       "stackFrames": [],
       "type": "baseError"
      }
     },
     "output_type": "display_data"
    }
   ],
   "source": [
    "# even when we try a long sequence of repeatedly the right prompts \n",
    "inp = torch.tensor([[6, 7]*length + [6]])\n",
    "inp = inp.to(trainer_cl.device)\n",
    "print(inp, inp.size())\n",
    "with torch.no_grad():\n",
    "  cat = model_cl.generate(inp, 1, do_sample=False)\n",
    "  print(cat)"
   ]
  },
  {
   "cell_type": "code",
   "execution_count": 0,
   "metadata": {
    "application/vnd.databricks.v1+cell": {
     "cellMetadata": {
      "byteLimit": 2048000,
      "rowLimit": 10000
     },
     "inputWidgets": {},
     "nuid": "2ffbd336-7856-4dac-8fb3-7495560380ec",
     "showTitle": false,
     "tableResultSettingsMap": {},
     "title": ""
    }
   },
   "outputs": [
    {
     "output_type": "display_data",
     "data": {
      "text/plain": [
       ""
      ]
     },
     "metadata": {
      "application/vnd.databricks.v1+output": {
       "addedWidgets": {},
       "arguments": {},
       "datasetInfos": [],
       "jupyterProps": null,
       "metadata": {
        "errorSummary": "Command skipped"
       },
       "removedWidgets": [],
       "sqlProps": null,
       "stackFrames": [],
       "type": "baseError"
      }
     },
     "output_type": "display_data"
    }
   ],
   "source": [
    "# even when we try a long sequence of repeatedly the right prompts \n",
    "inp = torch.tensor([[11, 7]*length + [11]])\n",
    "inp = inp.to(trainer_cl.device)\n",
    "print(inp, inp.size())\n",
    "with torch.no_grad():\n",
    "  cat = model_cl.generate(inp, 1, do_sample=False)\n",
    "  print(cat)"
   ]
  },
  {
   "cell_type": "code",
   "execution_count": 0,
   "metadata": {
    "application/vnd.databricks.v1+cell": {
     "cellMetadata": {
      "byteLimit": 2048000,
      "rowLimit": 10000
     },
     "inputWidgets": {},
     "nuid": "912bb6cc-d21d-49cb-a3f1-9a237d68c84b",
     "showTitle": false,
     "tableResultSettingsMap": {},
     "title": ""
    }
   },
   "outputs": [
    {
     "output_type": "display_data",
     "data": {
      "text/plain": [
       ""
      ]
     },
     "metadata": {
      "application/vnd.databricks.v1+output": {
       "addedWidgets": {},
       "arguments": {},
       "datasetInfos": [],
       "jupyterProps": null,
       "metadata": {
        "errorSummary": "Command skipped"
       },
       "removedWidgets": [],
       "sqlProps": null,
       "stackFrames": [],
       "type": "baseError"
      }
     },
     "output_type": "display_data"
    }
   ],
   "source": [
    "# even when we try a long sequence of repeatedly the right prompts \n",
    "inp = torch.tensor([[1, 2, 1, 2, 1, 2, 11, 7, 1, 2, 1, 2] + [11]])\n",
    "inp = inp.to(trainer_cl.device)\n",
    "print(inp, inp.size())\n",
    "with torch.no_grad():\n",
    "  cat = model_cl.generate(inp, 1, do_sample=False)\n",
    "  print(cat)"
   ]
  },
  {
   "cell_type": "code",
   "execution_count": 0,
   "metadata": {
    "application/vnd.databricks.v1+cell": {
     "cellMetadata": {
      "byteLimit": 2048000,
      "rowLimit": 10000
     },
     "inputWidgets": {},
     "nuid": "bd37f286-9092-4dc2-a8ed-ae493c0c8c58",
     "showTitle": false,
     "tableResultSettingsMap": {},
     "title": ""
    }
   },
   "outputs": [
    {
     "output_type": "display_data",
     "data": {
      "text/plain": [
       ""
      ]
     },
     "metadata": {
      "application/vnd.databricks.v1+output": {
       "addedWidgets": {},
       "arguments": {},
       "datasetInfos": [],
       "jupyterProps": null,
       "metadata": {
        "errorSummary": "Command skipped"
       },
       "removedWidgets": [],
       "sqlProps": null,
       "stackFrames": [],
       "type": "baseError"
      }
     },
     "output_type": "display_data"
    }
   ],
   "source": [
    "# even when we try a long sequence of repeatedly the right prompts \n",
    "inp = torch.tensor([[1, 2, 11, 3, 1, 2, 11, 7, 1, 2, 11, 5] + [11]])\n",
    "inp = inp.to(trainer_cl.device)\n",
    "print(inp, inp.size())\n",
    "with torch.no_grad():\n",
    "  for i in range(30):\n",
    "    cat = model_cl.generate(inp, 1, do_sample=False)\n",
    "    print(cat[0, -1])"
   ]
  },
  {
   "cell_type": "code",
   "execution_count": 0,
   "metadata": {
    "application/vnd.databricks.v1+cell": {
     "cellMetadata": {
      "byteLimit": 2048000,
      "rowLimit": 10000
     },
     "inputWidgets": {},
     "nuid": "0d9ab19b-86d5-419b-8afd-c25f806b8f63",
     "showTitle": false,
     "tableResultSettingsMap": {},
     "title": ""
    }
   },
   "outputs": [
    {
     "output_type": "display_data",
     "data": {
      "text/plain": [
       ""
      ]
     },
     "metadata": {
      "application/vnd.databricks.v1+output": {
       "addedWidgets": {},
       "arguments": {},
       "datasetInfos": [],
       "jupyterProps": null,
       "metadata": {
        "errorSummary": "Command skipped"
       },
       "removedWidgets": [],
       "sqlProps": null,
       "stackFrames": [],
       "type": "baseError"
      }
     },
     "output_type": "display_data"
    }
   ],
   "source": [
    "# Generating mixed datasets\n",
    "\n",
    "class KVRetrievalDatasetMixedDict(Dataset):\n",
    "    \"\"\" \n",
    "    Dataset for InContext Learning. \n",
    "    \"\"\"\n",
    "\n",
    "    def __init__(self, split, length=6, vocab_size=10, additional_vocab = 2, dictionary=None, mixing_fraction=0.0):\n",
    "        assert split in {'train', 'test'}\n",
    "        self.split = split\n",
    "        self.length = length\n",
    "        self.vocab_size = vocab_size + additional_vocab\n",
    "        self.true_vocab_size = vocab_size\n",
    "        self.mixing_fraction = mixing_fraction\n",
    "        self.dictionary = dictionary if dictionary is not None else self._generate_dictionary()\n",
    "          \n",
    "    def _generate_dictionary(self):\n",
    "        return torch.randperm(self.true_vocab_size)\n",
    "\n",
    "    def __len__(self):\n",
    "        return 10000 # ...\n",
    "    \n",
    "    def get_vocab_size(self):\n",
    "        return self.vocab_size\n",
    "    \n",
    "    def get_block_size(self):\n",
    "        # the length of the sequence that will feed into transformer, \n",
    "        # containing concatenated input and the output, but -1 because\n",
    "        # the transformer starts making predictions at the last input element\n",
    "        return 2*self.length + 1\n",
    "\n",
    "    def __getitem__(self, idx):\n",
    "        dictionary = self.dictionary if torch.rand(1) < self.mixing_fraction else self._generate_dictionary()\n",
    "        context_keys = torch.randint(self.true_vocab_size, size=(self.length,), dtype=torch.long)\n",
    "        context_labels = torch.index_select(dictionary, 0, context_keys)\n",
    "        # find a key thats appeared in this context\n",
    "        question_key = torch.index_select(context_keys, 0, torch.randint(self.length, size=(1,), dtype=torch.long))\n",
    "        question_label = torch.index_select(dictionary, 0, question_key)\n",
    "        # make final context\n",
    "        context_keys = torch.concat([context_keys, question_key], dim=0)\n",
    "        context_labels = torch.concat([context_labels, question_label], dim=0)\n",
    "        \n",
    "        #interleave them\n",
    "        full_context = torch.flatten(torch.stack([context_keys, context_labels]).t())\n",
    "        # provide everything but the last label to TX\n",
    "        x = full_context[:-1].clone()\n",
    "        # Mask everything but the last label in the loss\n",
    "        y = full_context[1:].clone()\n",
    "        y[:2*self.length] = -1\n",
    "        return x, y\n"
   ]
  },
  {
   "cell_type": "code",
   "execution_count": 0,
   "metadata": {
    "application/vnd.databricks.v1+cell": {
     "cellMetadata": {
      "byteLimit": 2048000,
      "rowLimit": 10000
     },
     "inputWidgets": {},
     "nuid": "29f74803-8824-42c0-910a-bbf72cda50d1",
     "showTitle": false,
     "tableResultSettingsMap": {},
     "title": ""
    }
   },
   "outputs": [
    {
     "output_type": "display_data",
     "data": {
      "text/plain": [
       ""
      ]
     },
     "metadata": {
      "application/vnd.databricks.v1+output": {
       "addedWidgets": {},
       "arguments": {},
       "datasetInfos": [],
       "jupyterProps": null,
       "metadata": {
        "errorSummary": "Command skipped"
       },
       "removedWidgets": [],
       "sqlProps": null,
       "stackFrames": [],
       "type": "baseError"
      }
     },
     "output_type": "display_data"
    }
   ],
   "source": [
    "torch.rand(1)"
   ]
  },
  {
   "cell_type": "code",
   "execution_count": 0,
   "metadata": {
    "application/vnd.databricks.v1+cell": {
     "cellMetadata": {
      "byteLimit": 2048000,
      "rowLimit": 10000
     },
     "inputWidgets": {},
     "nuid": "1997c4df-7a67-48d9-baea-4515293a2732",
     "showTitle": false,
     "tableResultSettingsMap": {},
     "title": ""
    }
   },
   "outputs": [
    {
     "output_type": "display_data",
     "data": {
      "text/plain": [
       ""
      ]
     },
     "metadata": {
      "application/vnd.databricks.v1+output": {
       "addedWidgets": {},
       "arguments": {},
       "datasetInfos": [],
       "jupyterProps": null,
       "metadata": {
        "errorSummary": "Command skipped"
       },
       "removedWidgets": [],
       "sqlProps": null,
       "stackFrames": [],
       "type": "baseError"
      }
     },
     "output_type": "display_data"
    }
   ],
   "source": [
    "\n",
    "train_dataset_cl_mixed = KVRetrievalDatasetMixedDict('train', length=length, mixing_fraction=0.9)\n",
    "\n",
    "model_config = GPT.get_default_config()\n",
    "model_config.model_type = 'gpt-nano'\n",
    "model_config.vocab_size = train_dataset_cl.get_vocab_size()\n",
    "model_config.block_size = train_dataset_cl.get_block_size()\n",
    "\n",
    "train_config = Trainer.get_default_config()\n",
    "train_config.learning_rate = 5e-4 # the model we're using is so small that we can go a bit faster\n",
    "train_config.max_iters = 10000\n",
    "train_config.num_workers = 0\n",
    "\n",
    "model_cl_mixed = GPT(model_config)\n",
    "trainer_cl_mixed = Trainer(train_config, model_cl_mixed, train_dataset_cl_mixed)\n",
    "\n",
    "def batch_end_callback(trainer):\n",
    "    if trainer.iter_num % 100 == 0:\n",
    "        print(f\"iter_dt {trainer.iter_dt * 1000:.2f}ms; iter {trainer.iter_num}: train loss {trainer.loss.item():.5f}\")\n",
    "\n",
    "trainer_cl_mixed.set_callback('on_batch_end', batch_end_callback)\n",
    "\n",
    "trainer_cl_mixed.run()"
   ]
  },
  {
   "cell_type": "code",
   "execution_count": 0,
   "metadata": {
    "application/vnd.databricks.v1+cell": {
     "cellMetadata": {
      "byteLimit": 2048000,
      "rowLimit": 10000
     },
     "inputWidgets": {},
     "nuid": "52ad8982-c6b2-4967-afe2-af443b5311c4",
     "showTitle": false,
     "tableResultSettingsMap": {},
     "title": ""
    }
   },
   "outputs": [
    {
     "output_type": "display_data",
     "data": {
      "text/plain": [
       ""
      ]
     },
     "metadata": {
      "application/vnd.databricks.v1+output": {
       "addedWidgets": {},
       "arguments": {},
       "datasetInfos": [],
       "jupyterProps": null,
       "metadata": {
        "errorSummary": "Command skipped"
       },
       "removedWidgets": [],
       "sqlProps": null,
       "stackFrames": [],
       "type": "baseError"
      }
     },
     "output_type": "display_data"
    }
   ],
   "source": [
    "train_dataset_cl_mixed.dictionary"
   ]
  },
  {
   "cell_type": "code",
   "execution_count": 0,
   "metadata": {
    "application/vnd.databricks.v1+cell": {
     "cellMetadata": {
      "byteLimit": 2048000,
      "rowLimit": 10000
     },
     "inputWidgets": {},
     "nuid": "7cc69689-eff6-4f12-b613-e1a5282ae506",
     "showTitle": false,
     "tableResultSettingsMap": {},
     "title": ""
    }
   },
   "outputs": [
    {
     "output_type": "display_data",
     "data": {
      "text/plain": [
       ""
      ]
     },
     "metadata": {
      "application/vnd.databricks.v1+output": {
       "addedWidgets": {},
       "arguments": {},
       "datasetInfos": [],
       "jupyterProps": null,
       "metadata": {
        "errorSummary": "Command skipped"
       },
       "removedWidgets": [],
       "sqlProps": null,
       "stackFrames": [],
       "type": "baseError"
      }
     },
     "output_type": "display_data"
    }
   ],
   "source": [
    "with torch.no_grad():\n",
    "    train_score = eval_split(trainer_cl_mixed, model_cl_mixed, train_dataset_cl_mixed, max_batches=50, split='train')"
   ]
  },
  {
   "cell_type": "code",
   "execution_count": 0,
   "metadata": {
    "application/vnd.databricks.v1+cell": {
     "cellMetadata": {
      "byteLimit": 2048000,
      "rowLimit": 10000
     },
     "inputWidgets": {},
     "nuid": "22fddaa5-a0f9-4b30-acd0-c1314c066756",
     "showTitle": false,
     "tableResultSettingsMap": {},
     "title": ""
    }
   },
   "outputs": [
    {
     "output_type": "display_data",
     "data": {
      "text/plain": [
       ""
      ]
     },
     "metadata": {
      "application/vnd.databricks.v1+output": {
       "addedWidgets": {},
       "arguments": {},
       "datasetInfos": [],
       "jupyterProps": null,
       "metadata": {
        "errorSummary": "Command skipped"
       },
       "removedWidgets": [],
       "sqlProps": null,
       "stackFrames": [],
       "type": "baseError"
      }
     },
     "output_type": "display_data"
    }
   ],
   "source": [
    "# run the trainer with an accuracy module on test data to generate some plots\n",
    "\n",
    "# next experiment should be using different vocabs for incontext and different vocabs for distributional. Can it still do in context for the vocab that it didnt learn in context for? \n",
    "\n",
    "\n"
   ]
  },
  {
   "cell_type": "code",
   "execution_count": 0,
   "metadata": {
    "application/vnd.databricks.v1+cell": {
     "cellMetadata": {
      "byteLimit": 2048000,
      "rowLimit": 10000
     },
     "inputWidgets": {},
     "nuid": "a1c8d8d9-fd94-411e-ae6b-d51f4465330f",
     "showTitle": false,
     "tableResultSettingsMap": {},
     "title": ""
    }
   },
   "outputs": [
    {
     "output_type": "display_data",
     "data": {
      "text/plain": [
       ""
      ]
     },
     "metadata": {
      "application/vnd.databricks.v1+output": {
       "addedWidgets": {},
       "arguments": {},
       "datasetInfos": [],
       "jupyterProps": null,
       "metadata": {
        "errorSummary": "Command skipped"
       },
       "removedWidgets": [],
       "sqlProps": null,
       "stackFrames": [],
       "type": "baseError"
      }
     },
     "output_type": "display_data"
    }
   ],
   "source": [
    "from scipy.stats import binom\n",
    "import numpy as np\n",
    "\n",
    "n = np.arange(5, 15, 1)\n",
    "p = np.arange(0, 1, 0.05)\n",
    "n = 1024\n",
    "\n",
    "cdf_value = [binom.cdf(n//2, n, p_test) for p_test in p]\n",
    "\n",
    "print(cdf_value)"
   ]
  },
  {
   "cell_type": "code",
   "execution_count": 0,
   "metadata": {
    "application/vnd.databricks.v1+cell": {
     "cellMetadata": {
      "byteLimit": 2048000,
      "rowLimit": 10000
     },
     "inputWidgets": {},
     "nuid": "9d5e375a-0e62-4805-a875-a4bdd4a416f4",
     "showTitle": false,
     "tableResultSettingsMap": {},
     "title": ""
    }
   },
   "outputs": [
    {
     "output_type": "display_data",
     "data": {
      "text/plain": [
       ""
      ]
     },
     "metadata": {
      "application/vnd.databricks.v1+output": {
       "addedWidgets": {},
       "arguments": {},
       "datasetInfos": [],
       "jupyterProps": null,
       "metadata": {
        "errorSummary": "Command skipped"
       },
       "removedWidgets": [],
       "sqlProps": null,
       "stackFrames": [],
       "type": "baseError"
      }
     },
     "output_type": "display_data"
    }
   ],
   "source": [
    "n"
   ]
  },
  {
   "cell_type": "code",
   "execution_count": 0,
   "metadata": {
    "application/vnd.databricks.v1+cell": {
     "cellMetadata": {
      "byteLimit": 2048000,
      "rowLimit": 10000
     },
     "inputWidgets": {},
     "nuid": "5e0e6684-0910-4ea6-b770-6ae13625bb2e",
     "showTitle": false,
     "tableResultSettingsMap": {},
     "title": ""
    }
   },
   "outputs": [
    {
     "output_type": "display_data",
     "data": {
      "text/plain": [
       ""
      ]
     },
     "metadata": {
      "application/vnd.databricks.v1+output": {
       "addedWidgets": {},
       "arguments": {},
       "datasetInfos": [],
       "jupyterProps": null,
       "metadata": {
        "errorSummary": "Command skipped"
       },
       "removedWidgets": [],
       "sqlProps": null,
       "stackFrames": [],
       "type": "baseError"
      }
     },
     "output_type": "display_data"
    }
   ],
   "source": [
    "binom.cdf(4, 8, 0.1)"
   ]
  }
 ],
 "metadata": {
  "application/vnd.databricks.v1+notebook": {
   "computePreferences": null,
   "dashboards": [],
   "environmentMetadata": {
    "base_environment": "",
    "environment_version": "1"
   },
   "inputWidgetPreferences": null,
   "language": "python",
   "notebookMetadata": {
    "pythonIndentUnit": 2
   },
   "notebookName": "ICLExperiment Full Changing -- Context Length 50 Head Search",
   "widgets": {}
  },
  "language_info": {
   "name": "python"
  }
 },
 "nbformat": 4,
 "nbformat_minor": 0
}